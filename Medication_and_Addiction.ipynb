{
  "cells": [
    {
      "cell_type": "markdown",
      "metadata": {
        "id": "view-in-github",
        "colab_type": "text"
      },
      "source": [
        "<a href=\"https://colab.research.google.com/github/4vantikanair/Project/blob/main/Medication_and_Addiction.ipynb\" target=\"_parent\"><img src=\"https://colab.research.google.com/assets/colab-badge.svg\" alt=\"Open In Colab\"/></a>"
      ]
    },
    {
      "cell_type": "markdown",
      "id": "df6cd555",
      "metadata": {
        "id": "df6cd555"
      },
      "source": [
        "# Investigating the Factors that Determine How Addictive a Drug is\n",
        "\n",
        "*   List item\n",
        "*   List item\n",
        "\n"
      ]
    },
    {
      "cell_type": "markdown",
      "id": "2b46bf8e",
      "metadata": {
        "id": "2b46bf8e"
      },
      "source": [
        "## Project Focus\n",
        "\n",
        "From antibiotics for serious bacterial infections to antidepressants for mental health illnesses, modern medicine offers numerous solutions to a diverse range of medical conditions. This advancement has been exponential in the past few years with the increase in research and testing of various drugs. In doing so, they are accompanied by various side effects like nausea, dizziness, headaches, dry cough, and many more. However, while side effects can range from mildly uncomfortable to moderately challenging, there is a greater risk that comes along. Many of the drugs that can be habit-forming amongst patients. This can greatly hinder a patient’s quality of life and, in extreme cases, lead to death. Inspired by the growing Opioid Crisis in North America, this project focuses on whether the drugs in the current market are addictive or not."
      ]
    },
    {
      "cell_type": "markdown",
      "id": "67d33edf",
      "metadata": {
        "id": "67d33edf"
      },
      "source": [
        "##Dataset Description\n",
        "\n",
        "The dataset contains a detailed list of drugs used with a variety of medical conditions along with the side effects they present and what other drugs can be substituted in their place. Accompanying this information are classifying attributes like the therapeutic class (what the medication treats), action class (what the medication does), chemical class (what the medication does when it enters the body), and finally, whether the drug is habit-forming or not.\n",
        "\n",
        "Dataset Related Info.:\n",
        "\n",
        "There are total of 5 substitutes columns in the dataset.\n",
        "There are total of 41 Side Effects columns in the dataset. Drugs with less side effects have those columns as blank.\n",
        "There are total of 5 usage columns in the dataset.\n",
        "Rest Columns have their own individual identity.\n",
        "\n",
        "Substitute : It indicates that whatever is the name of the medicine, if the consumer want's to know alternative medicine that have same compositions but manufactured by different manufacturers. So we have provided 5 substitutes for each drug/medicine.\n",
        "\n",
        "Therapeutic Class : It is a way of classifying medical drugs according to their functions. Each therapeutic class is a group of similar medications classified together because they are intended to treat the same medical conditions. for eg.: Respiratory is one of the class, so all medication treating this illness comes under the same class.\n",
        "\n",
        "Action Class : It is the way of classifying medications based on actions they perform such as \"H2 Receptor Blocker\" It Block H2 receptors in parietal cells of the stomach → decrease gastric acid secretion. So drugs with similar action are grouped under \"H2 Receptor Blocker\".\n",
        "\n",
        "Chemical Class : As name suggests, it is grouping based on chemical compound used.\n",
        "\n",
        "Habit Forming : It is classified as YES or NO. It is defined as the process of forming a habit, referring generally to psychological dependence on the continued use of a drug to maintain a sense of well-being, which can result in drug addiction. If there are chances of drug addiction, then it is set to YES otherwise NO.\n",
        "\n",
        "The authors of the dataset are Shudhanshu Singh, Vishal Thakur, Vivek Tiwari.\n",
        "\n",
        "The dataset can be found on Kaggle here: https://www.kaggle.com/datasets/shudhanshusingh/250k-medicines-usage-side-effects-and-substitutes/code\n",
        "\n",
        "All information within the dataset was collected from: https://www.drugs.com.\n"
      ]
    },
    {
      "cell_type": "markdown",
      "source": [
        "### Loading and Checking Data"
      ],
      "metadata": {
        "id": "6VKjp14DTtwk"
      },
      "id": "6VKjp14DTtwk"
    },
    {
      "cell_type": "code",
      "execution_count": 1,
      "id": "1a9da4a9",
      "metadata": {
        "id": "1a9da4a9"
      },
      "outputs": [],
      "source": [
        "#load packages\n",
        "import pandas as pd\n",
        "import numpy as np\n",
        "import matplotlib.pyplot as plt\n",
        "import seaborn as sns\n",
        "import warnings\n",
        "warnings.filterwarnings(\"ignore\")"
      ]
    },
    {
      "cell_type": "code",
      "execution_count": 2,
      "id": "1647afcb",
      "metadata": {
        "id": "1647afcb"
      },
      "outputs": [],
      "source": [
        "#get dataframe online\n",
        "url = \"https://raw.githubusercontent.com/4vantikanair/Project/main/medicine_dataset.csv\"\n",
        "mediuse_df = pd.read_csv(url, sep=',')"
      ]
    },
    {
      "cell_type": "code",
      "execution_count": 3,
      "id": "520feea5",
      "metadata": {
        "colab": {
          "base_uri": "https://localhost:8080/",
          "height": 568
        },
        "id": "520feea5",
        "outputId": "7d433810-d9ee-4637-a0ed-fdc16950ccc9"
      },
      "outputs": [
        {
          "output_type": "execute_result",
          "data": {
            "text/plain": [
              "   id                      name                     substitute0  \\\n",
              "0   1  augmentin 625 duo tablet  Penciclav 500 mg/125 mg Tablet   \n",
              "1   2       azithral 500 tablet         Zithrocare 500mg Tablet   \n",
              "2   3          ascoril ls syrup                 Solvin LS Syrup   \n",
              "3   4      allegra 120mg tablet                    Lcfex Tablet   \n",
              "4   5            avil 25 tablet              Eralet 25mg Tablet   \n",
              "\n",
              "              substitute1              substitute2            substitute3  \\\n",
              "0  Moxikind-CV 625 Tablet  Moxiforce-CV 625 Tablet     Fightox 625 Tablet   \n",
              "1         Azax 500 Tablet          Zady 500 Tablet  Cazithro 500mg Tablet   \n",
              "2       Ambrodil-LX Syrup        Zerotuss XP Syrup         Capex LS Syrup   \n",
              "3     Etofex 120mg Tablet     Nexofex 120mg Tablet    Fexise 120mg Tablet   \n",
              "4                     NaN                      NaN                    NaN   \n",
              "\n",
              "               substitute4 sideEffect0       sideEffect1     sideEffect2  ...  \\\n",
              "0  Novamox CV 625mg Tablet    Vomiting            Nausea        Diarrhea  ...   \n",
              "1    Trulimax 500mg Tablet    Vomiting            Nausea  Abdominal pain  ...   \n",
              "2          Broxum LS Syrup      Nausea          Vomiting        Diarrhea  ...   \n",
              "3     Histafree 120 Tablet    Headache        Drowsiness       Dizziness  ...   \n",
              "4                      NaN  Sleepiness  Dryness in mouth             NaN  ...   \n",
              "\n",
              "  sideEffect41                                               use0  \\\n",
              "0          NaN                  Treatment of Bacterial infections   \n",
              "1          NaN                  Treatment of Bacterial infections   \n",
              "2          NaN                      Treatment of Cough with mucus   \n",
              "3          NaN  Treatment of Sneezing and runny nose due to al...   \n",
              "4          NaN                   Treatment of Allergic conditions   \n",
              "\n",
              "                               use1 use2 use3 use4  \\\n",
              "0                               NaN  NaN  NaN  NaN   \n",
              "1                               NaN  NaN  NaN  NaN   \n",
              "2                               NaN  NaN  NaN  NaN   \n",
              "3  Treatment of Allergic conditions  NaN  NaN  NaN   \n",
              "4                               NaN  NaN  NaN  NaN   \n",
              "\n",
              "               Chemical Class Habit Forming Therapeutic Class  \\\n",
              "0                         NaN            No   ANTI INFECTIVES   \n",
              "1                  Macrolides            No   ANTI INFECTIVES   \n",
              "2                         NaN            No       RESPIRATORY   \n",
              "3  Diphenylmethane Derivative            No       RESPIRATORY   \n",
              "4       Pyridines Derivatives            No       RESPIRATORY   \n",
              "\n",
              "                             Action Class  \n",
              "0                                     NaN  \n",
              "1                              Macrolides  \n",
              "2                                     NaN  \n",
              "3  H1 Antihistaminics (second Generation)  \n",
              "4   H1 Antihistaminics (First Generation)  \n",
              "\n",
              "[5 rows x 58 columns]"
            ],
            "text/html": [
              "\n",
              "  <div id=\"df-977d7231-e7fa-4d45-b548-88e2ebfc872a\" class=\"colab-df-container\">\n",
              "    <div>\n",
              "<style scoped>\n",
              "    .dataframe tbody tr th:only-of-type {\n",
              "        vertical-align: middle;\n",
              "    }\n",
              "\n",
              "    .dataframe tbody tr th {\n",
              "        vertical-align: top;\n",
              "    }\n",
              "\n",
              "    .dataframe thead th {\n",
              "        text-align: right;\n",
              "    }\n",
              "</style>\n",
              "<table border=\"1\" class=\"dataframe\">\n",
              "  <thead>\n",
              "    <tr style=\"text-align: right;\">\n",
              "      <th></th>\n",
              "      <th>id</th>\n",
              "      <th>name</th>\n",
              "      <th>substitute0</th>\n",
              "      <th>substitute1</th>\n",
              "      <th>substitute2</th>\n",
              "      <th>substitute3</th>\n",
              "      <th>substitute4</th>\n",
              "      <th>sideEffect0</th>\n",
              "      <th>sideEffect1</th>\n",
              "      <th>sideEffect2</th>\n",
              "      <th>...</th>\n",
              "      <th>sideEffect41</th>\n",
              "      <th>use0</th>\n",
              "      <th>use1</th>\n",
              "      <th>use2</th>\n",
              "      <th>use3</th>\n",
              "      <th>use4</th>\n",
              "      <th>Chemical Class</th>\n",
              "      <th>Habit Forming</th>\n",
              "      <th>Therapeutic Class</th>\n",
              "      <th>Action Class</th>\n",
              "    </tr>\n",
              "  </thead>\n",
              "  <tbody>\n",
              "    <tr>\n",
              "      <th>0</th>\n",
              "      <td>1</td>\n",
              "      <td>augmentin 625 duo tablet</td>\n",
              "      <td>Penciclav 500 mg/125 mg Tablet</td>\n",
              "      <td>Moxikind-CV 625 Tablet</td>\n",
              "      <td>Moxiforce-CV 625 Tablet</td>\n",
              "      <td>Fightox 625 Tablet</td>\n",
              "      <td>Novamox CV 625mg Tablet</td>\n",
              "      <td>Vomiting</td>\n",
              "      <td>Nausea</td>\n",
              "      <td>Diarrhea</td>\n",
              "      <td>...</td>\n",
              "      <td>NaN</td>\n",
              "      <td>Treatment of Bacterial infections</td>\n",
              "      <td>NaN</td>\n",
              "      <td>NaN</td>\n",
              "      <td>NaN</td>\n",
              "      <td>NaN</td>\n",
              "      <td>NaN</td>\n",
              "      <td>No</td>\n",
              "      <td>ANTI INFECTIVES</td>\n",
              "      <td>NaN</td>\n",
              "    </tr>\n",
              "    <tr>\n",
              "      <th>1</th>\n",
              "      <td>2</td>\n",
              "      <td>azithral 500 tablet</td>\n",
              "      <td>Zithrocare 500mg Tablet</td>\n",
              "      <td>Azax 500 Tablet</td>\n",
              "      <td>Zady 500 Tablet</td>\n",
              "      <td>Cazithro 500mg Tablet</td>\n",
              "      <td>Trulimax 500mg Tablet</td>\n",
              "      <td>Vomiting</td>\n",
              "      <td>Nausea</td>\n",
              "      <td>Abdominal pain</td>\n",
              "      <td>...</td>\n",
              "      <td>NaN</td>\n",
              "      <td>Treatment of Bacterial infections</td>\n",
              "      <td>NaN</td>\n",
              "      <td>NaN</td>\n",
              "      <td>NaN</td>\n",
              "      <td>NaN</td>\n",
              "      <td>Macrolides</td>\n",
              "      <td>No</td>\n",
              "      <td>ANTI INFECTIVES</td>\n",
              "      <td>Macrolides</td>\n",
              "    </tr>\n",
              "    <tr>\n",
              "      <th>2</th>\n",
              "      <td>3</td>\n",
              "      <td>ascoril ls syrup</td>\n",
              "      <td>Solvin LS Syrup</td>\n",
              "      <td>Ambrodil-LX Syrup</td>\n",
              "      <td>Zerotuss XP Syrup</td>\n",
              "      <td>Capex LS Syrup</td>\n",
              "      <td>Broxum LS Syrup</td>\n",
              "      <td>Nausea</td>\n",
              "      <td>Vomiting</td>\n",
              "      <td>Diarrhea</td>\n",
              "      <td>...</td>\n",
              "      <td>NaN</td>\n",
              "      <td>Treatment of Cough with mucus</td>\n",
              "      <td>NaN</td>\n",
              "      <td>NaN</td>\n",
              "      <td>NaN</td>\n",
              "      <td>NaN</td>\n",
              "      <td>NaN</td>\n",
              "      <td>No</td>\n",
              "      <td>RESPIRATORY</td>\n",
              "      <td>NaN</td>\n",
              "    </tr>\n",
              "    <tr>\n",
              "      <th>3</th>\n",
              "      <td>4</td>\n",
              "      <td>allegra 120mg tablet</td>\n",
              "      <td>Lcfex Tablet</td>\n",
              "      <td>Etofex 120mg Tablet</td>\n",
              "      <td>Nexofex 120mg Tablet</td>\n",
              "      <td>Fexise 120mg Tablet</td>\n",
              "      <td>Histafree 120 Tablet</td>\n",
              "      <td>Headache</td>\n",
              "      <td>Drowsiness</td>\n",
              "      <td>Dizziness</td>\n",
              "      <td>...</td>\n",
              "      <td>NaN</td>\n",
              "      <td>Treatment of Sneezing and runny nose due to al...</td>\n",
              "      <td>Treatment of Allergic conditions</td>\n",
              "      <td>NaN</td>\n",
              "      <td>NaN</td>\n",
              "      <td>NaN</td>\n",
              "      <td>Diphenylmethane Derivative</td>\n",
              "      <td>No</td>\n",
              "      <td>RESPIRATORY</td>\n",
              "      <td>H1 Antihistaminics (second Generation)</td>\n",
              "    </tr>\n",
              "    <tr>\n",
              "      <th>4</th>\n",
              "      <td>5</td>\n",
              "      <td>avil 25 tablet</td>\n",
              "      <td>Eralet 25mg Tablet</td>\n",
              "      <td>NaN</td>\n",
              "      <td>NaN</td>\n",
              "      <td>NaN</td>\n",
              "      <td>NaN</td>\n",
              "      <td>Sleepiness</td>\n",
              "      <td>Dryness in mouth</td>\n",
              "      <td>NaN</td>\n",
              "      <td>...</td>\n",
              "      <td>NaN</td>\n",
              "      <td>Treatment of Allergic conditions</td>\n",
              "      <td>NaN</td>\n",
              "      <td>NaN</td>\n",
              "      <td>NaN</td>\n",
              "      <td>NaN</td>\n",
              "      <td>Pyridines Derivatives</td>\n",
              "      <td>No</td>\n",
              "      <td>RESPIRATORY</td>\n",
              "      <td>H1 Antihistaminics (First Generation)</td>\n",
              "    </tr>\n",
              "  </tbody>\n",
              "</table>\n",
              "<p>5 rows × 58 columns</p>\n",
              "</div>\n",
              "    <div class=\"colab-df-buttons\">\n",
              "\n",
              "  <div class=\"colab-df-container\">\n",
              "    <button class=\"colab-df-convert\" onclick=\"convertToInteractive('df-977d7231-e7fa-4d45-b548-88e2ebfc872a')\"\n",
              "            title=\"Convert this dataframe to an interactive table.\"\n",
              "            style=\"display:none;\">\n",
              "\n",
              "  <svg xmlns=\"http://www.w3.org/2000/svg\" height=\"24px\" viewBox=\"0 -960 960 960\">\n",
              "    <path d=\"M120-120v-720h720v720H120Zm60-500h600v-160H180v160Zm220 220h160v-160H400v160Zm0 220h160v-160H400v160ZM180-400h160v-160H180v160Zm440 0h160v-160H620v160ZM180-180h160v-160H180v160Zm440 0h160v-160H620v160Z\"/>\n",
              "  </svg>\n",
              "    </button>\n",
              "\n",
              "  <style>\n",
              "    .colab-df-container {\n",
              "      display:flex;\n",
              "      gap: 12px;\n",
              "    }\n",
              "\n",
              "    .colab-df-convert {\n",
              "      background-color: #E8F0FE;\n",
              "      border: none;\n",
              "      border-radius: 50%;\n",
              "      cursor: pointer;\n",
              "      display: none;\n",
              "      fill: #1967D2;\n",
              "      height: 32px;\n",
              "      padding: 0 0 0 0;\n",
              "      width: 32px;\n",
              "    }\n",
              "\n",
              "    .colab-df-convert:hover {\n",
              "      background-color: #E2EBFA;\n",
              "      box-shadow: 0px 1px 2px rgba(60, 64, 67, 0.3), 0px 1px 3px 1px rgba(60, 64, 67, 0.15);\n",
              "      fill: #174EA6;\n",
              "    }\n",
              "\n",
              "    .colab-df-buttons div {\n",
              "      margin-bottom: 4px;\n",
              "    }\n",
              "\n",
              "    [theme=dark] .colab-df-convert {\n",
              "      background-color: #3B4455;\n",
              "      fill: #D2E3FC;\n",
              "    }\n",
              "\n",
              "    [theme=dark] .colab-df-convert:hover {\n",
              "      background-color: #434B5C;\n",
              "      box-shadow: 0px 1px 3px 1px rgba(0, 0, 0, 0.15);\n",
              "      filter: drop-shadow(0px 1px 2px rgba(0, 0, 0, 0.3));\n",
              "      fill: #FFFFFF;\n",
              "    }\n",
              "  </style>\n",
              "\n",
              "    <script>\n",
              "      const buttonEl =\n",
              "        document.querySelector('#df-977d7231-e7fa-4d45-b548-88e2ebfc872a button.colab-df-convert');\n",
              "      buttonEl.style.display =\n",
              "        google.colab.kernel.accessAllowed ? 'block' : 'none';\n",
              "\n",
              "      async function convertToInteractive(key) {\n",
              "        const element = document.querySelector('#df-977d7231-e7fa-4d45-b548-88e2ebfc872a');\n",
              "        const dataTable =\n",
              "          await google.colab.kernel.invokeFunction('convertToInteractive',\n",
              "                                                    [key], {});\n",
              "        if (!dataTable) return;\n",
              "\n",
              "        const docLinkHtml = 'Like what you see? Visit the ' +\n",
              "          '<a target=\"_blank\" href=https://colab.research.google.com/notebooks/data_table.ipynb>data table notebook</a>'\n",
              "          + ' to learn more about interactive tables.';\n",
              "        element.innerHTML = '';\n",
              "        dataTable['output_type'] = 'display_data';\n",
              "        await google.colab.output.renderOutput(dataTable, element);\n",
              "        const docLink = document.createElement('div');\n",
              "        docLink.innerHTML = docLinkHtml;\n",
              "        element.appendChild(docLink);\n",
              "      }\n",
              "    </script>\n",
              "  </div>\n",
              "\n",
              "\n",
              "<div id=\"df-c08f084d-9137-4834-aeb1-986c9c136bce\">\n",
              "  <button class=\"colab-df-quickchart\" onclick=\"quickchart('df-c08f084d-9137-4834-aeb1-986c9c136bce')\"\n",
              "            title=\"Suggest charts\"\n",
              "            style=\"display:none;\">\n",
              "\n",
              "<svg xmlns=\"http://www.w3.org/2000/svg\" height=\"24px\"viewBox=\"0 0 24 24\"\n",
              "     width=\"24px\">\n",
              "    <g>\n",
              "        <path d=\"M19 3H5c-1.1 0-2 .9-2 2v14c0 1.1.9 2 2 2h14c1.1 0 2-.9 2-2V5c0-1.1-.9-2-2-2zM9 17H7v-7h2v7zm4 0h-2V7h2v10zm4 0h-2v-4h2v4z\"/>\n",
              "    </g>\n",
              "</svg>\n",
              "  </button>\n",
              "\n",
              "<style>\n",
              "  .colab-df-quickchart {\n",
              "      --bg-color: #E8F0FE;\n",
              "      --fill-color: #1967D2;\n",
              "      --hover-bg-color: #E2EBFA;\n",
              "      --hover-fill-color: #174EA6;\n",
              "      --disabled-fill-color: #AAA;\n",
              "      --disabled-bg-color: #DDD;\n",
              "  }\n",
              "\n",
              "  [theme=dark] .colab-df-quickchart {\n",
              "      --bg-color: #3B4455;\n",
              "      --fill-color: #D2E3FC;\n",
              "      --hover-bg-color: #434B5C;\n",
              "      --hover-fill-color: #FFFFFF;\n",
              "      --disabled-bg-color: #3B4455;\n",
              "      --disabled-fill-color: #666;\n",
              "  }\n",
              "\n",
              "  .colab-df-quickchart {\n",
              "    background-color: var(--bg-color);\n",
              "    border: none;\n",
              "    border-radius: 50%;\n",
              "    cursor: pointer;\n",
              "    display: none;\n",
              "    fill: var(--fill-color);\n",
              "    height: 32px;\n",
              "    padding: 0;\n",
              "    width: 32px;\n",
              "  }\n",
              "\n",
              "  .colab-df-quickchart:hover {\n",
              "    background-color: var(--hover-bg-color);\n",
              "    box-shadow: 0 1px 2px rgba(60, 64, 67, 0.3), 0 1px 3px 1px rgba(60, 64, 67, 0.15);\n",
              "    fill: var(--button-hover-fill-color);\n",
              "  }\n",
              "\n",
              "  .colab-df-quickchart-complete:disabled,\n",
              "  .colab-df-quickchart-complete:disabled:hover {\n",
              "    background-color: var(--disabled-bg-color);\n",
              "    fill: var(--disabled-fill-color);\n",
              "    box-shadow: none;\n",
              "  }\n",
              "\n",
              "  .colab-df-spinner {\n",
              "    border: 2px solid var(--fill-color);\n",
              "    border-color: transparent;\n",
              "    border-bottom-color: var(--fill-color);\n",
              "    animation:\n",
              "      spin 1s steps(1) infinite;\n",
              "  }\n",
              "\n",
              "  @keyframes spin {\n",
              "    0% {\n",
              "      border-color: transparent;\n",
              "      border-bottom-color: var(--fill-color);\n",
              "      border-left-color: var(--fill-color);\n",
              "    }\n",
              "    20% {\n",
              "      border-color: transparent;\n",
              "      border-left-color: var(--fill-color);\n",
              "      border-top-color: var(--fill-color);\n",
              "    }\n",
              "    30% {\n",
              "      border-color: transparent;\n",
              "      border-left-color: var(--fill-color);\n",
              "      border-top-color: var(--fill-color);\n",
              "      border-right-color: var(--fill-color);\n",
              "    }\n",
              "    40% {\n",
              "      border-color: transparent;\n",
              "      border-right-color: var(--fill-color);\n",
              "      border-top-color: var(--fill-color);\n",
              "    }\n",
              "    60% {\n",
              "      border-color: transparent;\n",
              "      border-right-color: var(--fill-color);\n",
              "    }\n",
              "    80% {\n",
              "      border-color: transparent;\n",
              "      border-right-color: var(--fill-color);\n",
              "      border-bottom-color: var(--fill-color);\n",
              "    }\n",
              "    90% {\n",
              "      border-color: transparent;\n",
              "      border-bottom-color: var(--fill-color);\n",
              "    }\n",
              "  }\n",
              "</style>\n",
              "\n",
              "  <script>\n",
              "    async function quickchart(key) {\n",
              "      const quickchartButtonEl =\n",
              "        document.querySelector('#' + key + ' button');\n",
              "      quickchartButtonEl.disabled = true;  // To prevent multiple clicks.\n",
              "      quickchartButtonEl.classList.add('colab-df-spinner');\n",
              "      try {\n",
              "        const charts = await google.colab.kernel.invokeFunction(\n",
              "            'suggestCharts', [key], {});\n",
              "      } catch (error) {\n",
              "        console.error('Error during call to suggestCharts:', error);\n",
              "      }\n",
              "      quickchartButtonEl.classList.remove('colab-df-spinner');\n",
              "      quickchartButtonEl.classList.add('colab-df-quickchart-complete');\n",
              "    }\n",
              "    (() => {\n",
              "      let quickchartButtonEl =\n",
              "        document.querySelector('#df-c08f084d-9137-4834-aeb1-986c9c136bce button');\n",
              "      quickchartButtonEl.style.display =\n",
              "        google.colab.kernel.accessAllowed ? 'block' : 'none';\n",
              "    })();\n",
              "  </script>\n",
              "</div>\n",
              "\n",
              "    </div>\n",
              "  </div>\n"
            ],
            "application/vnd.google.colaboratory.intrinsic+json": {
              "type": "dataframe",
              "variable_name": "mediuse_df"
            }
          },
          "metadata": {},
          "execution_count": 3
        }
      ],
      "source": [
        "#check first five rows of dataframe\n",
        "mediuse_df.head(5)"
      ]
    },
    {
      "cell_type": "code",
      "execution_count": 4,
      "id": "88d7fbec",
      "metadata": {
        "colab": {
          "base_uri": "https://localhost:8080/"
        },
        "id": "88d7fbec",
        "outputId": "f15e8336-6d33-47dc-c341-a40430e78312"
      },
      "outputs": [
        {
          "output_type": "execute_result",
          "data": {
            "text/plain": [
              "name                  0.000000\n",
              "substitute0           3.866359\n",
              "substitute1           5.781611\n",
              "substitute2           7.245647\n",
              "substitute3           8.606145\n",
              "substitute4           9.772055\n",
              "sideEffect0           0.000000\n",
              "sideEffect1           3.948948\n",
              "sideEffect2           7.540952\n",
              "sideEffect3          16.348532\n",
              "sideEffect4          34.106310\n",
              "sideEffect5          47.119870\n",
              "sideEffect6          62.993417\n",
              "sideEffect7          72.705444\n",
              "sideEffect8          80.458307\n",
              "sideEffect9          84.808515\n",
              "sideEffect10         89.012078\n",
              "sideEffect11         91.809216\n",
              "sideEffect12         93.440443\n",
              "sideEffect13         94.066909\n",
              "sideEffect14         95.802480\n",
              "sideEffect15         96.905543\n",
              "sideEffect16         97.579144\n",
              "sideEffect17         97.831745\n",
              "sideEffect18         98.181034\n",
              "sideEffect19         98.410268\n",
              "sideEffect20         98.701545\n",
              "sideEffect21         98.741026\n",
              "sideEffect22         98.772047\n",
              "sideEffect23         98.829658\n",
              "sideEffect24         98.902980\n",
              "sideEffect25         99.394484\n",
              "sideEffect26         99.394484\n",
              "sideEffect27         99.398110\n",
              "sideEffect28         99.398110\n",
              "sideEffect29         99.420671\n",
              "sideEffect30         99.464584\n",
              "sideEffect31         99.464584\n",
              "sideEffect32         99.464986\n",
              "sideEffect33         99.529043\n",
              "sideEffect34         99.530252\n",
              "sideEffect35         99.999194\n",
              "sideEffect36         99.999194\n",
              "sideEffect37         99.999194\n",
              "sideEffect38         99.999194\n",
              "sideEffect39         99.999194\n",
              "sideEffect40         99.999194\n",
              "sideEffect41         99.999194\n",
              "use0                  0.000000\n",
              "use1                 70.443320\n",
              "use2                 88.595912\n",
              "use3                 97.027210\n",
              "use4                 97.997325\n",
              "Chemical Class       44.487910\n",
              "Habit Forming         0.000000\n",
              "Therapeutic Class     0.027798\n",
              "Action Class         44.389206\n",
              "dtype: float64"
            ]
          },
          "metadata": {},
          "execution_count": 4
        }
      ],
      "source": [
        "mediuse_df = mediuse_df.drop('id', axis=1)\n",
        "\n",
        "#check null values\n",
        "mediuse_df.isnull().sum()*100/len(mediuse_df)"
      ]
    },
    {
      "cell_type": "code",
      "execution_count": 5,
      "id": "6c0cef91",
      "metadata": {
        "colab": {
          "base_uri": "https://localhost:8080/"
        },
        "id": "6c0cef91",
        "outputId": "511b3985-5e14-4c59-e468-2bfbc24a58f2"
      },
      "outputs": [
        {
          "output_type": "execute_result",
          "data": {
            "text/plain": [
              "name                  0.000000\n",
              "substitute0           3.866359\n",
              "substitute1           5.781611\n",
              "substitute2           7.245647\n",
              "substitute3           8.606145\n",
              "substitute4           9.772055\n",
              "sideEffect0           0.000000\n",
              "sideEffect1           3.948948\n",
              "sideEffect2           7.540952\n",
              "sideEffect3          16.348532\n",
              "sideEffect4          34.106310\n",
              "sideEffect5          47.119870\n",
              "use0                  0.000000\n",
              "Chemical Class       44.487910\n",
              "Habit Forming         0.000000\n",
              "Therapeutic Class     0.027798\n",
              "Action Class         44.389206\n",
              "dtype: float64"
            ]
          },
          "metadata": {},
          "execution_count": 5
        }
      ],
      "source": [
        "#drop columns whose null values exceed 50%\n",
        "mediuse_df.dropna(axis=1, thresh=0.5*len(mediuse_df), inplace=True)\n",
        "mediuse_df.isnull().sum()*100/len(mediuse_df)"
      ]
    },
    {
      "cell_type": "code",
      "execution_count": 6,
      "id": "d4efff2d",
      "metadata": {
        "id": "d4efff2d"
      },
      "outputs": [],
      "source": [
        "#fill null values with most frequent occurance\n",
        "mediuseclean_df = mediuse_df.apply(lambda x: x.fillna(x.value_counts().index[0]))\n",
        "mediuseclean_df.isnull().sum()*100/len(mediuseclean_df)\n",
        "#ensure all object values are string values\n",
        "mediuse_df=mediuse_df.astype(str)"
      ]
    },
    {
      "cell_type": "markdown",
      "source": [
        "## EDA"
      ],
      "metadata": {
        "id": "lYzNI8SMT5Ax"
      },
      "id": "lYzNI8SMT5Ax"
    },
    {
      "cell_type": "code",
      "execution_count": 12,
      "id": "34520f5a",
      "metadata": {
        "colab": {
          "base_uri": "https://localhost:8080/"
        },
        "id": "34520f5a",
        "outputId": "a67b6f04-b09d-48d6-cb2e-018caca4df51"
      },
      "outputs": [
        {
          "output_type": "execute_result",
          "data": {
            "text/plain": [
              "ANTI INFECTIVES                57572\n",
              "GASTRO INTESTINAL              33630\n",
              "PAIN ANALGESICS                32267\n",
              "NEURO CNS                      23319\n",
              "RESPIRATORY                    23052\n",
              "CARDIAC                        18381\n",
              "ANTI DIABETIC                  11679\n",
              "OPHTHAL                        10573\n",
              "DERMA                           9883\n",
              "HORMONES                        5629\n",
              "GYNAECOLOGICAL                  4406\n",
              "VITAMINS MINERALS NUTRIENTS     4216\n",
              "ANTI NEOPLASTICS                3513\n",
              "BLOOD RELATED                   2659\n",
              "UROLOGY                         1844\n",
              "OPHTHAL OTOLOGICALS             1725\n",
              "ANTI MALARIALS                  1679\n",
              "SEX STIMULANTS REJUVENATORS      723\n",
              "OTOLOGICALS                      485\n",
              "OTHERS                           481\n",
              "VACCINES                         329\n",
              "STOMATOLOGICALS                  173\n",
              "Name: Therapeutic Class, dtype: int64"
            ]
          },
          "metadata": {},
          "execution_count": 12
        }
      ],
      "source": [
        "#check the number of each unique value in Therapeutic Class\n",
        "mediuseclean_df[\"Therapeutic Class\"].value_counts()"
      ]
    },
    {
      "cell_type": "code",
      "source": [
        "#create a count dataset for types of medication\n",
        "thera_counts = mediuseclean_df[\"Therapeutic Class\"].value_counts().reset_index()\n",
        "thera_counts.columns = ['Therapeutic Class', 'Count']\n",
        "\n",
        "#plot graph\n",
        "plt.figure(figsize=(8,5))\n",
        "\n",
        "\n",
        "sns.set(style=\"darkgrid\")\n",
        "sns.set(font_scale = 0.7)\n",
        "sns.set_palette(\"crest\")\n",
        "sns.barplot(x=thera_counts[\"Count\"], y=thera_counts[\"Therapeutic Class\"]).set(title=\"Functional Classification of Drug Usage\")\n",
        "plt.xlabel(\"Count\")\n",
        "plt.ylabel(\"Functional Classfication\")\n",
        "\n",
        "\n",
        "\n"
      ],
      "metadata": {
        "colab": {
          "base_uri": "https://localhost:8080/",
          "height": 499
        },
        "id": "UZajM6PcFvpN",
        "outputId": "05326b04-7475-40c6-da9f-868f74cd617c"
      },
      "id": "UZajM6PcFvpN",
      "execution_count": 13,
      "outputs": [
        {
          "output_type": "execute_result",
          "data": {
            "text/plain": [
              "Text(0, 0.5, 'Functional Classfication')"
            ]
          },
          "metadata": {},
          "execution_count": 13
        },
        {
          "output_type": "display_data",
          "data": {
            "text/plain": [
              "<Figure size 800x500 with 1 Axes>"
            ],
            "image/png": "[encoded data removed]"
          },
          "metadata": {}
        }
      ]
    },
    {
      "cell_type": "code",
      "execution_count": null,
      "id": "d77656ee",
      "metadata": {
        "colab": {
          "base_uri": "https://localhost:8080/",
          "height": 544
        },
        "id": "d77656ee",
        "outputId": "32584289-005d-4094-a272-6f652470ffe3"
      },
      "outputs": [
        {
          "output_type": "execute_result",
          "data": {
            "text/plain": [
              "([<matplotlib.patches.Wedge at 0x7d534f595c30>,\n",
              "  <matplotlib.patches.Wedge at 0x7d534f574d30>],\n",
              " [Text(-1.0968266034087804, 0.08349492232919356, 'No'),\n",
              "  Text(1.0968265985229293, -0.0834949865118921, 'Yes')],\n",
              " [Text(-0.5982690564047892, 0.04554268490683285, '97.6%'),\n",
              "  Text(0.5982690537397796, -0.04554271991557751, '2.4%')])"
            ]
          },
          "metadata": {},
          "execution_count": 9
        },
        {
          "output_type": "display_data",
          "data": {
            "text/plain": [
              "<Figure size 1000x500 with 1 Axes>"
            ],
            "image/png": "[encoded data removed]"
          },
          "metadata": {}
        }
      ],
      "source": [
        "#create a dataset with the number of addictive vs nonaddctive drugs\n",
        "percent_addictive = mediuseclean_df[\"Habit Forming\"].value_counts()\n",
        "\n",
        "#plot pie chart\n",
        "plt.figure(figsize=(10,5))\n",
        "plt.title(\"Is the drug addictive?\")\n",
        "\n",
        "plt.pie(percent_addictive, labels=percent_addictive.index, autopct='%0.1f%%', colors=['indianred','mistyrose'])\n"
      ]
    },
    {
      "cell_type": "code",
      "execution_count": null,
      "id": "0db8fb64",
      "metadata": {
        "colab": {
          "base_uri": "https://localhost:8080/",
          "height": 499
        },
        "id": "0db8fb64",
        "outputId": "112104c8-3032-44ad-b49c-1fbe5a975955"
      },
      "outputs": [
        {
          "output_type": "execute_result",
          "data": {
            "text/plain": [
              "Text(0, 0.5, 'Count')"
            ]
          },
          "metadata": {},
          "execution_count": 10
        },
        {
          "output_type": "display_data",
          "data": {
            "text/plain": [
              "<Figure size 800x500 with 1 Axes>"
            ],
            "image/png": "[encoded data removed]"
          },
          "metadata": {}
        }
      ],
      "source": [
        "#create a dataset with only therapeutic class of addictive drugs\n",
        "addictive = mediuseclean_df.loc[mediuseclean_df[\"Habit Forming\"] == \"Yes\"]\n",
        "addthera_counts = addictive[\"Therapeutic Class\"].value_counts().reset_index()\n",
        "addthera_counts.columns = [\"Therapeutic Class\", \"Count\"]\n",
        "\n",
        "#plot bar graph\n",
        "plt.figure(figsize=(8,5))\n",
        "sns.set_palette(\"pastel\")\n",
        "\n",
        "sns.countplot(data=addictive, x=\"Therapeutic Class\").set(title=\" Funcational Classification of Addictive Drugs Usage\")\n",
        "plt.xlabel(\"Functional Classification\")\n",
        "plt.ylabel(\"Count\")\n"
      ]
    },
    {
      "cell_type": "code",
      "execution_count": null,
      "id": "b2c53c47",
      "metadata": {
        "colab": {
          "base_uri": "https://localhost:8080/"
        },
        "id": "b2c53c47",
        "outputId": "b4e52390-1954-475b-9455-8eec052ea080"
      },
      "outputs": [
        {
          "output_type": "execute_result",
          "data": {
            "text/plain": [
              "Treatment of Anxiety disorder    1546\n",
              " Moderate to severe pain          805\n",
              "Treatment of Anxiety              707\n",
              " Pain relief                      365\n",
              "Treatment of Insomnia             339\n",
              "Name: use0, dtype: int64"
            ]
          },
          "metadata": {},
          "execution_count": 11
        }
      ],
      "source": [
        "#check top five uses of addictive drugs\n",
        "addictive.use0.value_counts().sort_values(ascending=False).head(5)"
      ]
    },
    {
      "cell_type": "code",
      "execution_count": null,
      "id": "d1160265",
      "metadata": {
        "colab": {
          "base_uri": "https://localhost:8080/",
          "height": 499
        },
        "id": "d1160265",
        "outputId": "cf273230-6c87-485a-c892-927a4fc25634"
      },
      "outputs": [
        {
          "output_type": "execute_result",
          "data": {
            "text/plain": [
              "<matplotlib.legend.Legend at 0x7d534f4553f0>"
            ]
          },
          "metadata": {},
          "execution_count": 12
        },
        {
          "output_type": "display_data",
          "data": {
            "text/plain": [
              "<Figure size 1000x500 with 1 Axes>"
            ],
            "image/png": "[encoded data removed]"
          },
          "metadata": {}
        }
      ],
      "source": [
        "#create a dataset for top five uses of addictive drugs and their action classes\n",
        "topuse = addictive[addictive.groupby(\"use0\")['use0'].transform('size') > 338]\n",
        "topuse[['Action Class', 'use0']].groupby(['Action Class', 'use0']).count().reset_index()\n",
        "\n",
        "#plot the resulting bar graph\n",
        "plt.figure(figsize=(10,5))\n",
        "sns.countplot(x='use0', data=topuse, hue='Action Class', palette='magma').set(title=\"Medications and Their Usage\")\n",
        "plt.xlabel(\"Usage\")\n",
        "plt.ylabel(\"Count\")\n",
        "plt.legend(title=\"Type of Medication\")"
      ]
    },
    {
      "cell_type": "markdown",
      "id": "3c205975",
      "metadata": {
        "id": "3c205975"
      },
      "source": [
        "## Preparing the Dataset"
      ]
    },
    {
      "cell_type": "markdown",
      "source": [
        "### Data Cleaning"
      ],
      "metadata": {
        "id": "CjSEm7qOUSVy"
      },
      "id": "CjSEm7qOUSVy"
    },
    {
      "cell_type": "code",
      "source": [
        "#handle duplicate data\n",
        "mediuse_df[mediuse_df.duplicated(keep=False)]\n",
        "\n",
        "#drop side effects and substitutes\n",
        "mediuseclean_df = mediuseclean_df[[\"use0\",\"Chemical Class\", \"Habit Forming\", \"Therapeutic Class\", \"Action Class\"]]\n",
        "\n",
        "# mediuseclean_df = mediuseclean_df.drop([\"sideEffect5\"])\n",
        "mediuseclean_df"
      ],
      "metadata": {
        "colab": {
          "base_uri": "https://localhost:8080/",
          "height": 423
        },
        "id": "IZtpqQl7FY1l",
        "outputId": "ad898ae2-492b-426b-9831-a7bd8b1149fe"
      },
      "id": "IZtpqQl7FY1l",
      "execution_count": 7,
      "outputs": [
        {
          "output_type": "execute_result",
          "data": {
            "text/plain": [
              "                                                     use0  \\\n",
              "0                       Treatment of Bacterial infections   \n",
              "1                       Treatment of Bacterial infections   \n",
              "2                           Treatment of Cough with mucus   \n",
              "3       Treatment of Sneezing and runny nose due to al...   \n",
              "4                        Treatment of Allergic conditions   \n",
              "...                                                   ...   \n",
              "248213                         Treatment of Muscular pain   \n",
              "248214                                        Pain relief   \n",
              "248215                               Treatment of Anxiety   \n",
              "248216                  Treatment of Bacterial infections   \n",
              "248217                Treatment of Fungal skin infections   \n",
              "\n",
              "                        Chemical Class Habit Forming Therapeutic Class  \\\n",
              "0                      Fluoroquinolone            No   ANTI INFECTIVES   \n",
              "1                           Macrolides            No   ANTI INFECTIVES   \n",
              "2                      Fluoroquinolone            No       RESPIRATORY   \n",
              "3           Diphenylmethane Derivative            No       RESPIRATORY   \n",
              "4                Pyridines Derivatives            No       RESPIRATORY   \n",
              "...                                ...           ...               ...   \n",
              "248213                 Fluoroquinolone            No   PAIN ANALGESICS   \n",
              "248214     Dichlorobenzenes Derivative            No   PAIN ANALGESICS   \n",
              "248215           Piperazine Derivative            No       RESPIRATORY   \n",
              "248216                      Macrolides            No   ANTI INFECTIVES   \n",
              "248217  Azole derivatives {Imidazoles}            No             DERMA   \n",
              "\n",
              "                                             Action Class  \n",
              "0                            Cephalosporins: 3 generation  \n",
              "1                                              Macrolides  \n",
              "2                            Cephalosporins: 3 generation  \n",
              "3                  H1 Antihistaminics (second Generation)  \n",
              "4                   H1 Antihistaminics (First Generation)  \n",
              "...                                                   ...  \n",
              "248213                       Cephalosporins: 3 generation  \n",
              "248214  NSAID's- Non-Selective COX 1&2 Inhibitors (ace...  \n",
              "248215              H1 Antihistaminics (First Generation)  \n",
              "248216                                         Macrolides  \n",
              "248217              Fungal ergosterol synthesis inhibitor  \n",
              "\n",
              "[248218 rows x 5 columns]"
            ],
            "text/html": [
              "\n",
              "  <div id=\"df-6511d532-ef99-4007-9053-41385cab2882\" class=\"colab-df-container\">\n",
              "    <div>\n",
              "<style scoped>\n",
              "    .dataframe tbody tr th:only-of-type {\n",
              "        vertical-align: middle;\n",
              "    }\n",
              "\n",
              "    .dataframe tbody tr th {\n",
              "        vertical-align: top;\n",
              "    }\n",
              "\n",
              "    .dataframe thead th {\n",
              "        text-align: right;\n",
              "    }\n",
              "</style>\n",
              "<table border=\"1\" class=\"dataframe\">\n",
              "  <thead>\n",
              "    <tr style=\"text-align: right;\">\n",
              "      <th></th>\n",
              "      <th>use0</th>\n",
              "      <th>Chemical Class</th>\n",
              "      <th>Habit Forming</th>\n",
              "      <th>Therapeutic Class</th>\n",
              "      <th>Action Class</th>\n",
              "    </tr>\n",
              "  </thead>\n",
              "  <tbody>\n",
              "    <tr>\n",
              "      <th>0</th>\n",
              "      <td>Treatment of Bacterial infections</td>\n",
              "      <td>Fluoroquinolone</td>\n",
              "      <td>No</td>\n",
              "      <td>ANTI INFECTIVES</td>\n",
              "      <td>Cephalosporins: 3 generation</td>\n",
              "    </tr>\n",
              "    <tr>\n",
              "      <th>1</th>\n",
              "      <td>Treatment of Bacterial infections</td>\n",
              "      <td>Macrolides</td>\n",
              "      <td>No</td>\n",
              "      <td>ANTI INFECTIVES</td>\n",
              "      <td>Macrolides</td>\n",
              "    </tr>\n",
              "    <tr>\n",
              "      <th>2</th>\n",
              "      <td>Treatment of Cough with mucus</td>\n",
              "      <td>Fluoroquinolone</td>\n",
              "      <td>No</td>\n",
              "      <td>RESPIRATORY</td>\n",
              "      <td>Cephalosporins: 3 generation</td>\n",
              "    </tr>\n",
              "    <tr>\n",
              "      <th>3</th>\n",
              "      <td>Treatment of Sneezing and runny nose due to al...</td>\n",
              "      <td>Diphenylmethane Derivative</td>\n",
              "      <td>No</td>\n",
              "      <td>RESPIRATORY</td>\n",
              "      <td>H1 Antihistaminics (second Generation)</td>\n",
              "    </tr>\n",
              "    <tr>\n",
              "      <th>4</th>\n",
              "      <td>Treatment of Allergic conditions</td>\n",
              "      <td>Pyridines Derivatives</td>\n",
              "      <td>No</td>\n",
              "      <td>RESPIRATORY</td>\n",
              "      <td>H1 Antihistaminics (First Generation)</td>\n",
              "    </tr>\n",
              "    <tr>\n",
              "      <th>...</th>\n",
              "      <td>...</td>\n",
              "      <td>...</td>\n",
              "      <td>...</td>\n",
              "      <td>...</td>\n",
              "      <td>...</td>\n",
              "    </tr>\n",
              "    <tr>\n",
              "      <th>248213</th>\n",
              "      <td>Treatment of Muscular pain</td>\n",
              "      <td>Fluoroquinolone</td>\n",
              "      <td>No</td>\n",
              "      <td>PAIN ANALGESICS</td>\n",
              "      <td>Cephalosporins: 3 generation</td>\n",
              "    </tr>\n",
              "    <tr>\n",
              "      <th>248214</th>\n",
              "      <td>Pain relief</td>\n",
              "      <td>Dichlorobenzenes Derivative</td>\n",
              "      <td>No</td>\n",
              "      <td>PAIN ANALGESICS</td>\n",
              "      <td>NSAID's- Non-Selective COX 1&amp;2 Inhibitors (ace...</td>\n",
              "    </tr>\n",
              "    <tr>\n",
              "      <th>248215</th>\n",
              "      <td>Treatment of Anxiety</td>\n",
              "      <td>Piperazine Derivative</td>\n",
              "      <td>No</td>\n",
              "      <td>RESPIRATORY</td>\n",
              "      <td>H1 Antihistaminics (First Generation)</td>\n",
              "    </tr>\n",
              "    <tr>\n",
              "      <th>248216</th>\n",
              "      <td>Treatment of Bacterial infections</td>\n",
              "      <td>Macrolides</td>\n",
              "      <td>No</td>\n",
              "      <td>ANTI INFECTIVES</td>\n",
              "      <td>Macrolides</td>\n",
              "    </tr>\n",
              "    <tr>\n",
              "      <th>248217</th>\n",
              "      <td>Treatment of Fungal skin infections</td>\n",
              "      <td>Azole derivatives {Imidazoles}</td>\n",
              "      <td>No</td>\n",
              "      <td>DERMA</td>\n",
              "      <td>Fungal ergosterol synthesis inhibitor</td>\n",
              "    </tr>\n",
              "  </tbody>\n",
              "</table>\n",
              "<p>248218 rows × 5 columns</p>\n",
              "</div>\n",
              "    <div class=\"colab-df-buttons\">\n",
              "\n",
              "  <div class=\"colab-df-container\">\n",
              "    <button class=\"colab-df-convert\" onclick=\"convertToInteractive('df-6511d532-ef99-4007-9053-41385cab2882')\"\n",
              "            title=\"Convert this dataframe to an interactive table.\"\n",
              "            style=\"display:none;\">\n",
              "\n",
              "  <svg xmlns=\"http://www.w3.org/2000/svg\" height=\"24px\" viewBox=\"0 -960 960 960\">\n",
              "    <path d=\"M120-120v-720h720v720H120Zm60-500h600v-160H180v160Zm220 220h160v-160H400v160Zm0 220h160v-160H400v160ZM180-400h160v-160H180v160Zm440 0h160v-160H620v160ZM180-180h160v-160H180v160Zm440 0h160v-160H620v160Z\"/>\n",
              "  </svg>\n",
              "    </button>\n",
              "\n",
              "  <style>\n",
              "    .colab-df-container {\n",
              "      display:flex;\n",
              "      gap: 12px;\n",
              "    }\n",
              "\n",
              "    .colab-df-convert {\n",
              "      background-color: #E8F0FE;\n",
              "      border: none;\n",
              "      border-radius: 50%;\n",
              "      cursor: pointer;\n",
              "      display: none;\n",
              "      fill: #1967D2;\n",
              "      height: 32px;\n",
              "      padding: 0 0 0 0;\n",
              "      width: 32px;\n",
              "    }\n",
              "\n",
              "    .colab-df-convert:hover {\n",
              "      background-color: #E2EBFA;\n",
              "      box-shadow: 0px 1px 2px rgba(60, 64, 67, 0.3), 0px 1px 3px 1px rgba(60, 64, 67, 0.15);\n",
              "      fill: #174EA6;\n",
              "    }\n",
              "\n",
              "    .colab-df-buttons div {\n",
              "      margin-bottom: 4px;\n",
              "    }\n",
              "\n",
              "    [theme=dark] .colab-df-convert {\n",
              "      background-color: #3B4455;\n",
              "      fill: #D2E3FC;\n",
              "    }\n",
              "\n",
              "    [theme=dark] .colab-df-convert:hover {\n",
              "      background-color: #434B5C;\n",
              "      box-shadow: 0px 1px 3px 1px rgba(0, 0, 0, 0.15);\n",
              "      filter: drop-shadow(0px 1px 2px rgba(0, 0, 0, 0.3));\n",
              "      fill: #FFFFFF;\n",
              "    }\n",
              "  </style>\n",
              "\n",
              "    <script>\n",
              "      const buttonEl =\n",
              "        document.querySelector('#df-6511d532-ef99-4007-9053-41385cab2882 button.colab-df-convert');\n",
              "      buttonEl.style.display =\n",
              "        google.colab.kernel.accessAllowed ? 'block' : 'none';\n",
              "\n",
              "      async function convertToInteractive(key) {\n",
              "        const element = document.querySelector('#df-6511d532-ef99-4007-9053-41385cab2882');\n",
              "        const dataTable =\n",
              "          await google.colab.kernel.invokeFunction('convertToInteractive',\n",
              "                                                    [key], {});\n",
              "        if (!dataTable) return;\n",
              "\n",
              "        const docLinkHtml = 'Like what you see? Visit the ' +\n",
              "          '<a target=\"_blank\" href=https://colab.research.google.com/notebooks/data_table.ipynb>data table notebook</a>'\n",
              "          + ' to learn more about interactive tables.';\n",
              "        element.innerHTML = '';\n",
              "        dataTable['output_type'] = 'display_data';\n",
              "        await google.colab.output.renderOutput(dataTable, element);\n",
              "        const docLink = document.createElement('div');\n",
              "        docLink.innerHTML = docLinkHtml;\n",
              "        element.appendChild(docLink);\n",
              "      }\n",
              "    </script>\n",
              "  </div>\n",
              "\n",
              "\n",
              "<div id=\"df-82c84491-c2fa-4a2f-b82a-7eae02242788\">\n",
              "  <button class=\"colab-df-quickchart\" onclick=\"quickchart('df-82c84491-c2fa-4a2f-b82a-7eae02242788')\"\n",
              "            title=\"Suggest charts\"\n",
              "            style=\"display:none;\">\n",
              "\n",
              "<svg xmlns=\"http://www.w3.org/2000/svg\" height=\"24px\"viewBox=\"0 0 24 24\"\n",
              "     width=\"24px\">\n",
              "    <g>\n",
              "        <path d=\"M19 3H5c-1.1 0-2 .9-2 2v14c0 1.1.9 2 2 2h14c1.1 0 2-.9 2-2V5c0-1.1-.9-2-2-2zM9 17H7v-7h2v7zm4 0h-2V7h2v10zm4 0h-2v-4h2v4z\"/>\n",
              "    </g>\n",
              "</svg>\n",
              "  </button>\n",
              "\n",
              "<style>\n",
              "  .colab-df-quickchart {\n",
              "      --bg-color: #E8F0FE;\n",
              "      --fill-color: #1967D2;\n",
              "      --hover-bg-color: #E2EBFA;\n",
              "      --hover-fill-color: #174EA6;\n",
              "      --disabled-fill-color: #AAA;\n",
              "      --disabled-bg-color: #DDD;\n",
              "  }\n",
              "\n",
              "  [theme=dark] .colab-df-quickchart {\n",
              "      --bg-color: #3B4455;\n",
              "      --fill-color: #D2E3FC;\n",
              "      --hover-bg-color: #434B5C;\n",
              "      --hover-fill-color: #FFFFFF;\n",
              "      --disabled-bg-color: #3B4455;\n",
              "      --disabled-fill-color: #666;\n",
              "  }\n",
              "\n",
              "  .colab-df-quickchart {\n",
              "    background-color: var(--bg-color);\n",
              "    border: none;\n",
              "    border-radius: 50%;\n",
              "    cursor: pointer;\n",
              "    display: none;\n",
              "    fill: var(--fill-color);\n",
              "    height: 32px;\n",
              "    padding: 0;\n",
              "    width: 32px;\n",
              "  }\n",
              "\n",
              "  .colab-df-quickchart:hover {\n",
              "    background-color: var(--hover-bg-color);\n",
              "    box-shadow: 0 1px 2px rgba(60, 64, 67, 0.3), 0 1px 3px 1px rgba(60, 64, 67, 0.15);\n",
              "    fill: var(--button-hover-fill-color);\n",
              "  }\n",
              "\n",
              "  .colab-df-quickchart-complete:disabled,\n",
              "  .colab-df-quickchart-complete:disabled:hover {\n",
              "    background-color: var(--disabled-bg-color);\n",
              "    fill: var(--disabled-fill-color);\n",
              "    box-shadow: none;\n",
              "  }\n",
              "\n",
              "  .colab-df-spinner {\n",
              "    border: 2px solid var(--fill-color);\n",
              "    border-color: transparent;\n",
              "    border-bottom-color: var(--fill-color);\n",
              "    animation:\n",
              "      spin 1s steps(1) infinite;\n",
              "  }\n",
              "\n",
              "  @keyframes spin {\n",
              "    0% {\n",
              "      border-color: transparent;\n",
              "      border-bottom-color: var(--fill-color);\n",
              "      border-left-color: var(--fill-color);\n",
              "    }\n",
              "    20% {\n",
              "      border-color: transparent;\n",
              "      border-left-color: var(--fill-color);\n",
              "      border-top-color: var(--fill-color);\n",
              "    }\n",
              "    30% {\n",
              "      border-color: transparent;\n",
              "      border-left-color: var(--fill-color);\n",
              "      border-top-color: var(--fill-color);\n",
              "      border-right-color: var(--fill-color);\n",
              "    }\n",
              "    40% {\n",
              "      border-color: transparent;\n",
              "      border-right-color: var(--fill-color);\n",
              "      border-top-color: var(--fill-color);\n",
              "    }\n",
              "    60% {\n",
              "      border-color: transparent;\n",
              "      border-right-color: var(--fill-color);\n",
              "    }\n",
              "    80% {\n",
              "      border-color: transparent;\n",
              "      border-right-color: var(--fill-color);\n",
              "      border-bottom-color: var(--fill-color);\n",
              "    }\n",
              "    90% {\n",
              "      border-color: transparent;\n",
              "      border-bottom-color: var(--fill-color);\n",
              "    }\n",
              "  }\n",
              "</style>\n",
              "\n",
              "  <script>\n",
              "    async function quickchart(key) {\n",
              "      const quickchartButtonEl =\n",
              "        document.querySelector('#' + key + ' button');\n",
              "      quickchartButtonEl.disabled = true;  // To prevent multiple clicks.\n",
              "      quickchartButtonEl.classList.add('colab-df-spinner');\n",
              "      try {\n",
              "        const charts = await google.colab.kernel.invokeFunction(\n",
              "            'suggestCharts', [key], {});\n",
              "      } catch (error) {\n",
              "        console.error('Error during call to suggestCharts:', error);\n",
              "      }\n",
              "      quickchartButtonEl.classList.remove('colab-df-spinner');\n",
              "      quickchartButtonEl.classList.add('colab-df-quickchart-complete');\n",
              "    }\n",
              "    (() => {\n",
              "      let quickchartButtonEl =\n",
              "        document.querySelector('#df-82c84491-c2fa-4a2f-b82a-7eae02242788 button');\n",
              "      quickchartButtonEl.style.display =\n",
              "        google.colab.kernel.accessAllowed ? 'block' : 'none';\n",
              "    })();\n",
              "  </script>\n",
              "</div>\n",
              "\n",
              "  <div id=\"id_8180b586-34a6-4f9f-90d1-b2d2e49cbe61\">\n",
              "    <style>\n",
              "      .colab-df-generate {\n",
              "        background-color: #E8F0FE;\n",
              "        border: none;\n",
              "        border-radius: 50%;\n",
              "        cursor: pointer;\n",
              "        display: none;\n",
              "        fill: #1967D2;\n",
              "        height: 32px;\n",
              "        padding: 0 0 0 0;\n",
              "        width: 32px;\n",
              "      }\n",
              "\n",
              "      .colab-df-generate:hover {\n",
              "        background-color: #E2EBFA;\n",
              "        box-shadow: 0px 1px 2px rgba(60, 64, 67, 0.3), 0px 1px 3px 1px rgba(60, 64, 67, 0.15);\n",
              "        fill: #174EA6;\n",
              "      }\n",
              "\n",
              "      [theme=dark] .colab-df-generate {\n",
              "        background-color: #3B4455;\n",
              "        fill: #D2E3FC;\n",
              "      }\n",
              "\n",
              "      [theme=dark] .colab-df-generate:hover {\n",
              "        background-color: #434B5C;\n",
              "        box-shadow: 0px 1px 3px 1px rgba(0, 0, 0, 0.15);\n",
              "        filter: drop-shadow(0px 1px 2px rgba(0, 0, 0, 0.3));\n",
              "        fill: #FFFFFF;\n",
              "      }\n",
              "    </style>\n",
              "    <button class=\"colab-df-generate\" onclick=\"generateWithVariable('mediuseclean_df')\"\n",
              "            title=\"Generate code using this dataframe.\"\n",
              "            style=\"display:none;\">\n",
              "\n",
              "  <svg xmlns=\"http://www.w3.org/2000/svg\" height=\"24px\"viewBox=\"0 0 24 24\"\n",
              "       width=\"24px\">\n",
              "    <path d=\"M7,19H8.4L18.45,9,17,7.55,7,17.6ZM5,21V16.75L18.45,3.32a2,2,0,0,1,2.83,0l1.4,1.43a1.91,1.91,0,0,1,.58,1.4,1.91,1.91,0,0,1-.58,1.4L9.25,21ZM18.45,9,17,7.55Zm-12,3A5.31,5.31,0,0,0,4.9,8.1,5.31,5.31,0,0,0,1,6.5,5.31,5.31,0,0,0,4.9,4.9,5.31,5.31,0,0,0,6.5,1,5.31,5.31,0,0,0,8.1,4.9,5.31,5.31,0,0,0,12,6.5,5.46,5.46,0,0,0,6.5,12Z\"/>\n",
              "  </svg>\n",
              "    </button>\n",
              "    <script>\n",
              "      (() => {\n",
              "      const buttonEl =\n",
              "        document.querySelector('#id_8180b586-34a6-4f9f-90d1-b2d2e49cbe61 button.colab-df-generate');\n",
              "      buttonEl.style.display =\n",
              "        google.colab.kernel.accessAllowed ? 'block' : 'none';\n",
              "\n",
              "      buttonEl.onclick = () => {\n",
              "        google.colab.notebook.generateWithVariable('mediuseclean_df');\n",
              "      }\n",
              "      })();\n",
              "    </script>\n",
              "  </div>\n",
              "\n",
              "    </div>\n",
              "  </div>\n"
            ],
            "application/vnd.google.colaboratory.intrinsic+json": {
              "type": "dataframe",
              "variable_name": "mediuseclean_df"
            }
          },
          "metadata": {},
          "execution_count": 7
        }
      ]
    },
    {
      "cell_type": "markdown",
      "source": [
        "### Data Preprocessing"
      ],
      "metadata": {
        "id": "UwK5o9i8UdwU"
      },
      "id": "UwK5o9i8UdwU"
    },
    {
      "cell_type": "code",
      "execution_count": 8,
      "id": "2f700676",
      "metadata": {
        "colab": {
          "base_uri": "https://localhost:8080/",
          "height": 206
        },
        "id": "2f700676",
        "outputId": "36e8e913-86ef-44e8-fcdb-13ee491e155f"
      },
      "outputs": [
        {
          "output_type": "execute_result",
          "data": {
            "text/plain": [
              "   use0  Chemical Class  Habit Forming  Therapeutic Class  Action Class\n",
              "0   447             341              0                  1           125\n",
              "1   447             452              0                  1           248\n",
              "2   470             341              0                 16           125\n",
              "3   631             306              0                 16           191\n",
              "4   426             694              0                 16           190"
            ],
            "text/html": [
              "\n",
              "  <div id=\"df-9fef4844-ff26-4ab5-8996-72eedee905d2\" class=\"colab-df-container\">\n",
              "    <div>\n",
              "<style scoped>\n",
              "    .dataframe tbody tr th:only-of-type {\n",
              "        vertical-align: middle;\n",
              "    }\n",
              "\n",
              "    .dataframe tbody tr th {\n",
              "        vertical-align: top;\n",
              "    }\n",
              "\n",
              "    .dataframe thead th {\n",
              "        text-align: right;\n",
              "    }\n",
              "</style>\n",
              "<table border=\"1\" class=\"dataframe\">\n",
              "  <thead>\n",
              "    <tr style=\"text-align: right;\">\n",
              "      <th></th>\n",
              "      <th>use0</th>\n",
              "      <th>Chemical Class</th>\n",
              "      <th>Habit Forming</th>\n",
              "      <th>Therapeutic Class</th>\n",
              "      <th>Action Class</th>\n",
              "    </tr>\n",
              "  </thead>\n",
              "  <tbody>\n",
              "    <tr>\n",
              "      <th>0</th>\n",
              "      <td>447</td>\n",
              "      <td>341</td>\n",
              "      <td>0</td>\n",
              "      <td>1</td>\n",
              "      <td>125</td>\n",
              "    </tr>\n",
              "    <tr>\n",
              "      <th>1</th>\n",
              "      <td>447</td>\n",
              "      <td>452</td>\n",
              "      <td>0</td>\n",
              "      <td>1</td>\n",
              "      <td>248</td>\n",
              "    </tr>\n",
              "    <tr>\n",
              "      <th>2</th>\n",
              "      <td>470</td>\n",
              "      <td>341</td>\n",
              "      <td>0</td>\n",
              "      <td>16</td>\n",
              "      <td>125</td>\n",
              "    </tr>\n",
              "    <tr>\n",
              "      <th>3</th>\n",
              "      <td>631</td>\n",
              "      <td>306</td>\n",
              "      <td>0</td>\n",
              "      <td>16</td>\n",
              "      <td>191</td>\n",
              "    </tr>\n",
              "    <tr>\n",
              "      <th>4</th>\n",
              "      <td>426</td>\n",
              "      <td>694</td>\n",
              "      <td>0</td>\n",
              "      <td>16</td>\n",
              "      <td>190</td>\n",
              "    </tr>\n",
              "  </tbody>\n",
              "</table>\n",
              "</div>\n",
              "    <div class=\"colab-df-buttons\">\n",
              "\n",
              "  <div class=\"colab-df-container\">\n",
              "    <button class=\"colab-df-convert\" onclick=\"convertToInteractive('df-9fef4844-ff26-4ab5-8996-72eedee905d2')\"\n",
              "            title=\"Convert this dataframe to an interactive table.\"\n",
              "            style=\"display:none;\">\n",
              "\n",
              "  <svg xmlns=\"http://www.w3.org/2000/svg\" height=\"24px\" viewBox=\"0 -960 960 960\">\n",
              "    <path d=\"M120-120v-720h720v720H120Zm60-500h600v-160H180v160Zm220 220h160v-160H400v160Zm0 220h160v-160H400v160ZM180-400h160v-160H180v160Zm440 0h160v-160H620v160ZM180-180h160v-160H180v160Zm440 0h160v-160H620v160Z\"/>\n",
              "  </svg>\n",
              "    </button>\n",
              "\n",
              "  <style>\n",
              "    .colab-df-container {\n",
              "      display:flex;\n",
              "      gap: 12px;\n",
              "    }\n",
              "\n",
              "    .colab-df-convert {\n",
              "      background-color: #E8F0FE;\n",
              "      border: none;\n",
              "      border-radius: 50%;\n",
              "      cursor: pointer;\n",
              "      display: none;\n",
              "      fill: #1967D2;\n",
              "      height: 32px;\n",
              "      padding: 0 0 0 0;\n",
              "      width: 32px;\n",
              "    }\n",
              "\n",
              "    .colab-df-convert:hover {\n",
              "      background-color: #E2EBFA;\n",
              "      box-shadow: 0px 1px 2px rgba(60, 64, 67, 0.3), 0px 1px 3px 1px rgba(60, 64, 67, 0.15);\n",
              "      fill: #174EA6;\n",
              "    }\n",
              "\n",
              "    .colab-df-buttons div {\n",
              "      margin-bottom: 4px;\n",
              "    }\n",
              "\n",
              "    [theme=dark] .colab-df-convert {\n",
              "      background-color: #3B4455;\n",
              "      fill: #D2E3FC;\n",
              "    }\n",
              "\n",
              "    [theme=dark] .colab-df-convert:hover {\n",
              "      background-color: #434B5C;\n",
              "      box-shadow: 0px 1px 3px 1px rgba(0, 0, 0, 0.15);\n",
              "      filter: drop-shadow(0px 1px 2px rgba(0, 0, 0, 0.3));\n",
              "      fill: #FFFFFF;\n",
              "    }\n",
              "  </style>\n",
              "\n",
              "    <script>\n",
              "      const buttonEl =\n",
              "        document.querySelector('#df-9fef4844-ff26-4ab5-8996-72eedee905d2 button.colab-df-convert');\n",
              "      buttonEl.style.display =\n",
              "        google.colab.kernel.accessAllowed ? 'block' : 'none';\n",
              "\n",
              "      async function convertToInteractive(key) {\n",
              "        const element = document.querySelector('#df-9fef4844-ff26-4ab5-8996-72eedee905d2');\n",
              "        const dataTable =\n",
              "          await google.colab.kernel.invokeFunction('convertToInteractive',\n",
              "                                                    [key], {});\n",
              "        if (!dataTable) return;\n",
              "\n",
              "        const docLinkHtml = 'Like what you see? Visit the ' +\n",
              "          '<a target=\"_blank\" href=https://colab.research.google.com/notebooks/data_table.ipynb>data table notebook</a>'\n",
              "          + ' to learn more about interactive tables.';\n",
              "        element.innerHTML = '';\n",
              "        dataTable['output_type'] = 'display_data';\n",
              "        await google.colab.output.renderOutput(dataTable, element);\n",
              "        const docLink = document.createElement('div');\n",
              "        docLink.innerHTML = docLinkHtml;\n",
              "        element.appendChild(docLink);\n",
              "      }\n",
              "    </script>\n",
              "  </div>\n",
              "\n",
              "\n",
              "<div id=\"df-c01c20f3-1eff-4ecd-9af9-01a61309b0ce\">\n",
              "  <button class=\"colab-df-quickchart\" onclick=\"quickchart('df-c01c20f3-1eff-4ecd-9af9-01a61309b0ce')\"\n",
              "            title=\"Suggest charts\"\n",
              "            style=\"display:none;\">\n",
              "\n",
              "<svg xmlns=\"http://www.w3.org/2000/svg\" height=\"24px\"viewBox=\"0 0 24 24\"\n",
              "     width=\"24px\">\n",
              "    <g>\n",
              "        <path d=\"M19 3H5c-1.1 0-2 .9-2 2v14c0 1.1.9 2 2 2h14c1.1 0 2-.9 2-2V5c0-1.1-.9-2-2-2zM9 17H7v-7h2v7zm4 0h-2V7h2v10zm4 0h-2v-4h2v4z\"/>\n",
              "    </g>\n",
              "</svg>\n",
              "  </button>\n",
              "\n",
              "<style>\n",
              "  .colab-df-quickchart {\n",
              "      --bg-color: #E8F0FE;\n",
              "      --fill-color: #1967D2;\n",
              "      --hover-bg-color: #E2EBFA;\n",
              "      --hover-fill-color: #174EA6;\n",
              "      --disabled-fill-color: #AAA;\n",
              "      --disabled-bg-color: #DDD;\n",
              "  }\n",
              "\n",
              "  [theme=dark] .colab-df-quickchart {\n",
              "      --bg-color: #3B4455;\n",
              "      --fill-color: #D2E3FC;\n",
              "      --hover-bg-color: #434B5C;\n",
              "      --hover-fill-color: #FFFFFF;\n",
              "      --disabled-bg-color: #3B4455;\n",
              "      --disabled-fill-color: #666;\n",
              "  }\n",
              "\n",
              "  .colab-df-quickchart {\n",
              "    background-color: var(--bg-color);\n",
              "    border: none;\n",
              "    border-radius: 50%;\n",
              "    cursor: pointer;\n",
              "    display: none;\n",
              "    fill: var(--fill-color);\n",
              "    height: 32px;\n",
              "    padding: 0;\n",
              "    width: 32px;\n",
              "  }\n",
              "\n",
              "  .colab-df-quickchart:hover {\n",
              "    background-color: var(--hover-bg-color);\n",
              "    box-shadow: 0 1px 2px rgba(60, 64, 67, 0.3), 0 1px 3px 1px rgba(60, 64, 67, 0.15);\n",
              "    fill: var(--button-hover-fill-color);\n",
              "  }\n",
              "\n",
              "  .colab-df-quickchart-complete:disabled,\n",
              "  .colab-df-quickchart-complete:disabled:hover {\n",
              "    background-color: var(--disabled-bg-color);\n",
              "    fill: var(--disabled-fill-color);\n",
              "    box-shadow: none;\n",
              "  }\n",
              "\n",
              "  .colab-df-spinner {\n",
              "    border: 2px solid var(--fill-color);\n",
              "    border-color: transparent;\n",
              "    border-bottom-color: var(--fill-color);\n",
              "    animation:\n",
              "      spin 1s steps(1) infinite;\n",
              "  }\n",
              "\n",
              "  @keyframes spin {\n",
              "    0% {\n",
              "      border-color: transparent;\n",
              "      border-bottom-color: var(--fill-color);\n",
              "      border-left-color: var(--fill-color);\n",
              "    }\n",
              "    20% {\n",
              "      border-color: transparent;\n",
              "      border-left-color: var(--fill-color);\n",
              "      border-top-color: var(--fill-color);\n",
              "    }\n",
              "    30% {\n",
              "      border-color: transparent;\n",
              "      border-left-color: var(--fill-color);\n",
              "      border-top-color: var(--fill-color);\n",
              "      border-right-color: var(--fill-color);\n",
              "    }\n",
              "    40% {\n",
              "      border-color: transparent;\n",
              "      border-right-color: var(--fill-color);\n",
              "      border-top-color: var(--fill-color);\n",
              "    }\n",
              "    60% {\n",
              "      border-color: transparent;\n",
              "      border-right-color: var(--fill-color);\n",
              "    }\n",
              "    80% {\n",
              "      border-color: transparent;\n",
              "      border-right-color: var(--fill-color);\n",
              "      border-bottom-color: var(--fill-color);\n",
              "    }\n",
              "    90% {\n",
              "      border-color: transparent;\n",
              "      border-bottom-color: var(--fill-color);\n",
              "    }\n",
              "  }\n",
              "</style>\n",
              "\n",
              "  <script>\n",
              "    async function quickchart(key) {\n",
              "      const quickchartButtonEl =\n",
              "        document.querySelector('#' + key + ' button');\n",
              "      quickchartButtonEl.disabled = true;  // To prevent multiple clicks.\n",
              "      quickchartButtonEl.classList.add('colab-df-spinner');\n",
              "      try {\n",
              "        const charts = await google.colab.kernel.invokeFunction(\n",
              "            'suggestCharts', [key], {});\n",
              "      } catch (error) {\n",
              "        console.error('Error during call to suggestCharts:', error);\n",
              "      }\n",
              "      quickchartButtonEl.classList.remove('colab-df-spinner');\n",
              "      quickchartButtonEl.classList.add('colab-df-quickchart-complete');\n",
              "    }\n",
              "    (() => {\n",
              "      let quickchartButtonEl =\n",
              "        document.querySelector('#df-c01c20f3-1eff-4ecd-9af9-01a61309b0ce button');\n",
              "      quickchartButtonEl.style.display =\n",
              "        google.colab.kernel.accessAllowed ? 'block' : 'none';\n",
              "    })();\n",
              "  </script>\n",
              "</div>\n",
              "\n",
              "    </div>\n",
              "  </div>\n"
            ],
            "application/vnd.google.colaboratory.intrinsic+json": {
              "type": "dataframe",
              "variable_name": "mediuseclean_df"
            }
          },
          "metadata": {},
          "execution_count": 8
        }
      ],
      "source": [
        "# first encode values through LabelEncoder\n",
        "from sklearn.preprocessing import LabelEncoder\n",
        "from sklearn import preprocessing\n",
        "LE = preprocessing.LabelEncoder()\n",
        "mediuseclean_df = mediuseclean_df.apply(LE.fit_transform)\n",
        "mediuseclean_df.head()\n"
      ]
    },
    {
      "cell_type": "code",
      "execution_count": 9,
      "id": "bb55faf5",
      "metadata": {
        "id": "bb55faf5"
      },
      "outputs": [],
      "source": [
        "#Pipeline packages\n",
        "from sklearn.compose import ColumnTransformer\n",
        "from sklearn.preprocessing import OneHotEncoder\n",
        "from sklearn.impute import SimpleImputer\n",
        "from sklearn.pipeline import make_pipeline\n",
        "\n",
        "#extract name of categorical columns\n",
        "cat_cols = ['use0', 'Chemical Class', 'Therapeutic Class', 'Action Class']\n",
        "\n",
        "#create pipeline\n",
        "cat_pipeline = make_pipeline(SimpleImputer(strategy='most_frequent'), OneHotEncoder())\n",
        "\n",
        "#set transformation using ColumnTransformer\n",
        "preprocessor = ColumnTransformer([('cat', cat_pipeline, cat_cols)],\n",
        "                                    remainder='passthrough'\n",
        "                                 )\n",
        "\n",
        "#code from notebooks course eclass page"
      ]
    },
    {
      "cell_type": "code",
      "execution_count": 10,
      "id": "7ac1a849",
      "metadata": {
        "colab": {
          "base_uri": "https://localhost:8080/",
          "height": 151
        },
        "id": "7ac1a849",
        "outputId": "9639e0dc-2dc8-4929-dabc-eeaf45f302a7"
      },
      "outputs": [
        {
          "output_type": "execute_result",
          "data": {
            "text/plain": [
              "ColumnTransformer(remainder='passthrough',\n",
              "                  transformers=[('cat',\n",
              "                                 Pipeline(steps=[('simpleimputer',\n",
              "                                                  SimpleImputer(strategy='most_frequent')),\n",
              "                                                 ('onehotencoder',\n",
              "                                                  OneHotEncoder())]),\n",
              "                                 ['use0', 'Chemical Class', 'Therapeutic Class',\n",
              "                                  'Action Class'])])"
            ],
            "text/html": [
              "<style>#sk-container-id-1 {color: black;background-color: white;}#sk-container-id-1 pre{padding: 0;}#sk-container-id-1 div.sk-toggleable {background-color: white;}#sk-container-id-1 label.sk-toggleable__label {cursor: pointer;display: block;width: 100%;margin-bottom: 0;padding: 0.3em;box-sizing: border-box;text-align: center;}#sk-container-id-1 label.sk-toggleable__label-arrow:before {content: \"▸\";float: left;margin-right: 0.25em;color: #696969;}#sk-container-id-1 label.sk-toggleable__label-arrow:hover:before {color: black;}#sk-container-id-1 div.sk-estimator:hover label.sk-toggleable__label-arrow:before {color: black;}#sk-container-id-1 div.sk-toggleable__content {max-height: 0;max-width: 0;overflow: hidden;text-align: left;background-color: #f0f8ff;}#sk-container-id-1 div.sk-toggleable__content pre {margin: 0.2em;color: black;border-radius: 0.25em;background-color: #f0f8ff;}#sk-container-id-1 input.sk-toggleable__control:checked~div.sk-toggleable__content {max-height: 200px;max-width: 100%;overflow: auto;}#sk-container-id-1 input.sk-toggleable__control:checked~label.sk-toggleable__label-arrow:before {content: \"▾\";}#sk-container-id-1 div.sk-estimator input.sk-toggleable__control:checked~label.sk-toggleable__label {background-color: #d4ebff;}#sk-container-id-1 div.sk-label input.sk-toggleable__control:checked~label.sk-toggleable__label {background-color: #d4ebff;}#sk-container-id-1 input.sk-hidden--visually {border: 0;clip: rect(1px 1px 1px 1px);clip: rect(1px, 1px, 1px, 1px);height: 1px;margin: -1px;overflow: hidden;padding: 0;position: absolute;width: 1px;}#sk-container-id-1 div.sk-estimator {font-family: monospace;background-color: #f0f8ff;border: 1px dotted black;border-radius: 0.25em;box-sizing: border-box;margin-bottom: 0.5em;}#sk-container-id-1 div.sk-estimator:hover {background-color: #d4ebff;}#sk-container-id-1 div.sk-parallel-item::after {content: \"\";width: 100%;border-bottom: 1px solid gray;flex-grow: 1;}#sk-container-id-1 div.sk-label:hover label.sk-toggleable__label {background-color: #d4ebff;}#sk-container-id-1 div.sk-serial::before {content: \"\";position: absolute;border-left: 1px solid gray;box-sizing: border-box;top: 0;bottom: 0;left: 50%;z-index: 0;}#sk-container-id-1 div.sk-serial {display: flex;flex-direction: column;align-items: center;background-color: white;padding-right: 0.2em;padding-left: 0.2em;position: relative;}#sk-container-id-1 div.sk-item {position: relative;z-index: 1;}#sk-container-id-1 div.sk-parallel {display: flex;align-items: stretch;justify-content: center;background-color: white;position: relative;}#sk-container-id-1 div.sk-item::before, #sk-container-id-1 div.sk-parallel-item::before {content: \"\";position: absolute;border-left: 1px solid gray;box-sizing: border-box;top: 0;bottom: 0;left: 50%;z-index: -1;}#sk-container-id-1 div.sk-parallel-item {display: flex;flex-direction: column;z-index: 1;position: relative;background-color: white;}#sk-container-id-1 div.sk-parallel-item:first-child::after {align-self: flex-end;width: 50%;}#sk-container-id-1 div.sk-parallel-item:last-child::after {align-self: flex-start;width: 50%;}#sk-container-id-1 div.sk-parallel-item:only-child::after {width: 0;}#sk-container-id-1 div.sk-dashed-wrapped {border: 1px dashed gray;margin: 0 0.4em 0.5em 0.4em;box-sizing: border-box;padding-bottom: 0.4em;background-color: white;}#sk-container-id-1 div.sk-label label {font-family: monospace;font-weight: bold;display: inline-block;line-height: 1.2em;}#sk-container-id-1 div.sk-label-container {text-align: center;}#sk-container-id-1 div.sk-container {/* jupyter's `normalize.less` sets `[hidden] { display: none; }` but bootstrap.min.css set `[hidden] { display: none !important; }` so we also need the `!important` here to be able to override the default hidden behavior on the sphinx rendered scikit-learn.org. See: https://github.com/scikit-learn/scikit-learn/issues/21755 */display: inline-block !important;position: relative;}#sk-container-id-1 div.sk-text-repr-fallback {display: none;}</style><div id=\"sk-container-id-1\" class=\"sk-top-container\"><div class=\"sk-text-repr-fallback\"><pre>ColumnTransformer(remainder=&#x27;passthrough&#x27;,\n",
              "                  transformers=[(&#x27;cat&#x27;,\n",
              "                                 Pipeline(steps=[(&#x27;simpleimputer&#x27;,\n",
              "                                                  SimpleImputer(strategy=&#x27;most_frequent&#x27;)),\n",
              "                                                 (&#x27;onehotencoder&#x27;,\n",
              "                                                  OneHotEncoder())]),\n",
              "                                 [&#x27;use0&#x27;, &#x27;Chemical Class&#x27;, &#x27;Therapeutic Class&#x27;,\n",
              "                                  &#x27;Action Class&#x27;])])</pre><b>In a Jupyter environment, please rerun this cell to show the HTML representation or trust the notebook. <br />On GitHub, the HTML representation is unable to render, please try loading this page with nbviewer.org.</b></div><div class=\"sk-container\" hidden><div class=\"sk-item sk-dashed-wrapped\"><div class=\"sk-label-container\"><div class=\"sk-label sk-toggleable\"><input class=\"sk-toggleable__control sk-hidden--visually\" id=\"sk-estimator-id-1\" type=\"checkbox\" ><label for=\"sk-estimator-id-1\" class=\"sk-toggleable__label sk-toggleable__label-arrow\">ColumnTransformer</label><div class=\"sk-toggleable__content\"><pre>ColumnTransformer(remainder=&#x27;passthrough&#x27;,\n",
              "                  transformers=[(&#x27;cat&#x27;,\n",
              "                                 Pipeline(steps=[(&#x27;simpleimputer&#x27;,\n",
              "                                                  SimpleImputer(strategy=&#x27;most_frequent&#x27;)),\n",
              "                                                 (&#x27;onehotencoder&#x27;,\n",
              "                                                  OneHotEncoder())]),\n",
              "                                 [&#x27;use0&#x27;, &#x27;Chemical Class&#x27;, &#x27;Therapeutic Class&#x27;,\n",
              "                                  &#x27;Action Class&#x27;])])</pre></div></div></div><div class=\"sk-parallel\"><div class=\"sk-parallel-item\"><div class=\"sk-item\"><div class=\"sk-label-container\"><div class=\"sk-label sk-toggleable\"><input class=\"sk-toggleable__control sk-hidden--visually\" id=\"sk-estimator-id-2\" type=\"checkbox\" ><label for=\"sk-estimator-id-2\" class=\"sk-toggleable__label sk-toggleable__label-arrow\">cat</label><div class=\"sk-toggleable__content\"><pre>[&#x27;use0&#x27;, &#x27;Chemical Class&#x27;, &#x27;Therapeutic Class&#x27;, &#x27;Action Class&#x27;]</pre></div></div></div><div class=\"sk-serial\"><div class=\"sk-item\"><div class=\"sk-serial\"><div class=\"sk-item\"><div class=\"sk-estimator sk-toggleable\"><input class=\"sk-toggleable__control sk-hidden--visually\" id=\"sk-estimator-id-3\" type=\"checkbox\" ><label for=\"sk-estimator-id-3\" class=\"sk-toggleable__label sk-toggleable__label-arrow\">SimpleImputer</label><div class=\"sk-toggleable__content\"><pre>SimpleImputer(strategy=&#x27;most_frequent&#x27;)</pre></div></div></div><div class=\"sk-item\"><div class=\"sk-estimator sk-toggleable\"><input class=\"sk-toggleable__control sk-hidden--visually\" id=\"sk-estimator-id-4\" type=\"checkbox\" ><label for=\"sk-estimator-id-4\" class=\"sk-toggleable__label sk-toggleable__label-arrow\">OneHotEncoder</label><div class=\"sk-toggleable__content\"><pre>OneHotEncoder()</pre></div></div></div></div></div></div></div></div><div class=\"sk-parallel-item\"><div class=\"sk-item\"><div class=\"sk-label-container\"><div class=\"sk-label sk-toggleable\"><input class=\"sk-toggleable__control sk-hidden--visually\" id=\"sk-estimator-id-5\" type=\"checkbox\" ><label for=\"sk-estimator-id-5\" class=\"sk-toggleable__label sk-toggleable__label-arrow\">remainder</label><div class=\"sk-toggleable__content\"><pre></pre></div></div></div><div class=\"sk-serial\"><div class=\"sk-item\"><div class=\"sk-estimator sk-toggleable\"><input class=\"sk-toggleable__control sk-hidden--visually\" id=\"sk-estimator-id-6\" type=\"checkbox\" ><label for=\"sk-estimator-id-6\" class=\"sk-toggleable__label sk-toggleable__label-arrow\">passthrough</label><div class=\"sk-toggleable__content\"><pre>passthrough</pre></div></div></div></div></div></div></div></div></div></div>"
            ]
          },
          "metadata": {},
          "execution_count": 10
        }
      ],
      "source": [
        "#display pipeline\n",
        "preprocessor"
      ]
    },
    {
      "cell_type": "code",
      "execution_count": 11,
      "id": "036e9da3",
      "metadata": {
        "colab": {
          "base_uri": "https://localhost:8080/"
        },
        "id": "036e9da3",
        "outputId": "066baf52-0617-4e8d-d851-c3f4e415286a"
      },
      "outputs": [
        {
          "output_type": "execute_result",
          "data": {
            "text/plain": [
              "0.0    242215\n",
              "1.0      6003\n",
              "Name: remainder__Habit Forming, dtype: int64"
            ]
          },
          "metadata": {},
          "execution_count": 11
        }
      ],
      "source": [
        "#fit data and make dataframe\n",
        "mediuseprep = preprocessor.fit_transform(mediuseclean_df)\n",
        "feature_names=preprocessor.get_feature_names_out()\n",
        "mediuseprep = pd.DataFrame(mediuseprep.todense(), columns=feature_names)\n",
        "\n",
        "#confirm data is imbalanced\n",
        "mediuseprep[\"remainder__Habit Forming\"].value_counts()\n"
      ]
    },
    {
      "cell_type": "markdown",
      "source": [
        "## Model Training and Evaluation"
      ],
      "metadata": {
        "id": "4tx01ruCUrE-"
      },
      "id": "4tx01ruCUrE-"
    },
    {
      "cell_type": "markdown",
      "source": [
        "The dataset is imbalanced so we need to resample it"
      ],
      "metadata": {
        "id": "MAUhhMe_U7gz"
      },
      "id": "MAUhhMe_U7gz"
    },
    {
      "cell_type": "code",
      "source": [
        "#Resample package\n",
        "from sklearn.utils import resample\n",
        "\n",
        "#define majority and minority\n",
        "majority = mediuseprep[mediuseprep['remainder__Habit Forming'] == 0.0]\n",
        "minority = mediuseprep[mediuseprep['remainder__Habit Forming'] == 1.0]\n",
        "\n",
        "# Upsample the minority class and join it to majority class\n",
        "minority_upsampled  = resample(minority, replace=True, n_samples=len(majority))\n",
        "balanced_mediuse = pd.concat([majority, minority_upsampled])\n",
        "\n",
        "#confirm dataframe is not imbalanced\n",
        "balanced_mediuse['remainder__Habit Forming'].value_counts()"
      ],
      "metadata": {
        "id": "kHLBwf2Crs4u",
        "colab": {
          "base_uri": "https://localhost:8080/"
        },
        "outputId": "9cad2644-3c18-4b35-8cd0-6ed269328e60"
      },
      "id": "kHLBwf2Crs4u",
      "execution_count": 12,
      "outputs": [
        {
          "output_type": "execute_result",
          "data": {
            "text/plain": [
              "0.0    242215\n",
              "1.0    242215\n",
              "Name: remainder__Habit Forming, dtype: int64"
            ]
          },
          "metadata": {},
          "execution_count": 12
        }
      ]
    },
    {
      "cell_type": "markdown",
      "source": [
        "### Create Train and Test Data"
      ],
      "metadata": {
        "id": "BTS2JLAiVHsO"
      },
      "id": "BTS2JLAiVHsO"
    },
    {
      "cell_type": "code",
      "source": [
        "#create testing and training sets\n",
        "from sklearn.model_selection import train_test_split\n",
        "\n",
        "X = balanced_mediuse.drop([\"remainder__Habit Forming\"], axis=1)\n",
        "y = balanced_mediuse[\"remainder__Habit Forming\"]\n",
        "\n",
        "#split 80/20\n",
        "X_train, X_test, y_train, y_test = train_test_split(X, y, train_size=0.8)\n",
        "\n"
      ],
      "metadata": {
        "id": "pT9HbBNNUpSD"
      },
      "id": "pT9HbBNNUpSD",
      "execution_count": 13,
      "outputs": []
    },
    {
      "cell_type": "markdown",
      "source": [
        "### Logistic Regression"
      ],
      "metadata": {
        "id": "mfCFUFA8VUYt"
      },
      "id": "mfCFUFA8VUYt"
    },
    {
      "cell_type": "code",
      "execution_count": 14,
      "id": "fd606efe",
      "metadata": {
        "id": "fd606efe",
        "colab": {
          "base_uri": "https://localhost:8080/"
        },
        "outputId": "2bb0df3b-6910-48fd-fdbe-88f6798a3bd7"
      },
      "outputs": [
        {
          "output_type": "stream",
          "name": "stdout",
          "text": [
            "              precision    recall  f1-score   support\n",
            "\n",
            "         0.0       1.00      0.94      0.97     48600\n",
            "         1.0       0.94      1.00      0.97     48286\n",
            "\n",
            "    accuracy                           0.97     96886\n",
            "   macro avg       0.97      0.97      0.97     96886\n",
            "weighted avg       0.97      0.97      0.97     96886\n",
            "\n"
          ]
        }
      ],
      "source": [
        "#package to create classification table and confusion matrix\n",
        "from sklearn.metrics import accuracy_score, confusion_matrix, classification_report\n",
        "\n",
        "#Create model 1: Logistic Regression\n",
        "from sklearn.linear_model import LogisticRegression\n",
        "LR_model = LogisticRegression(class_weight=\"balanced\")\n",
        "LR_model.fit(X_train, y_train)\n",
        "y_predict_LR = LR_model.predict(X_test)\n",
        "\n",
        "\n",
        "#print report\n",
        "print (classification_report(y_test, y_predict_LR))"
      ]
    },
    {
      "cell_type": "markdown",
      "source": [
        "### Decision Tree"
      ],
      "metadata": {
        "id": "S16-68ilVZnM"
      },
      "id": "S16-68ilVZnM"
    },
    {
      "cell_type": "code",
      "source": [
        "#create model 2: Decision Tree\n",
        "from sklearn.tree import DecisionTreeClassifier\n",
        "\n",
        "DT_model = DecisionTreeClassifier(max_depth=5, class_weight='balanced')\n",
        "DT_model.fit(X_train, y_train)\n",
        "y_predict_DT = DT_model.predict(X_test)\n",
        "\n",
        "#print report\n",
        "print(classification_report(y_test, y_predict_DT))"
      ],
      "metadata": {
        "id": "X8QPROjo3O0-",
        "colab": {
          "base_uri": "https://localhost:8080/"
        },
        "outputId": "02f64443-153c-43a6-9eb0-af292e4298a1"
      },
      "id": "X8QPROjo3O0-",
      "execution_count": 15,
      "outputs": [
        {
          "output_type": "stream",
          "name": "stdout",
          "text": [
            "              precision    recall  f1-score   support\n",
            "\n",
            "         0.0       0.91      0.96      0.94     48600\n",
            "         1.0       0.96      0.91      0.93     48286\n",
            "\n",
            "    accuracy                           0.93     96886\n",
            "   macro avg       0.93      0.93      0.93     96886\n",
            "weighted avg       0.93      0.93      0.93     96886\n",
            "\n"
          ]
        }
      ]
    },
    {
      "cell_type": "markdown",
      "source": [
        "### Random Forest"
      ],
      "metadata": {
        "id": "Cnas8uP2Vepa"
      },
      "id": "Cnas8uP2Vepa"
    },
    {
      "cell_type": "code",
      "source": [
        "#create model 3: Random Forest\n",
        "from sklearn.ensemble import RandomForestClassifier\n",
        "RF_model = RandomForestClassifier(max_depth=5, class_weight='balanced')\n",
        "RF_model.fit(X_train, y_train)\n",
        "y_predict_RF = RF_model.predict(X_test)\n",
        "\n",
        "#print report\n",
        "print (classification_report(y_test, y_predict_RF))"
      ],
      "metadata": {
        "id": "G08GTYg-wyNS",
        "colab": {
          "base_uri": "https://localhost:8080/"
        },
        "outputId": "e529a27c-0147-4e68-a3d4-e76b2de4acc0"
      },
      "id": "G08GTYg-wyNS",
      "execution_count": 16,
      "outputs": [
        {
          "output_type": "stream",
          "name": "stdout",
          "text": [
            "              precision    recall  f1-score   support\n",
            "\n",
            "         0.0       0.87      0.96      0.91     48600\n",
            "         1.0       0.95      0.85      0.90     48286\n",
            "\n",
            "    accuracy                           0.91     96886\n",
            "   macro avg       0.91      0.90      0.90     96886\n",
            "weighted avg       0.91      0.91      0.90     96886\n",
            "\n"
          ]
        }
      ]
    },
    {
      "cell_type": "code",
      "source": [
        "#cross validate all models\n",
        "from sklearn.model_selection import cross_validate\n",
        "\n",
        "cvLR = cross_validate(LR_model, X_train, y_train, cv = 5)\n",
        "cvDT = cross_validate(DT_model, X_train, y_train, cv = 5)\n",
        "cvRF = cross_validate(RF_model, X_train, y_train, cv = 5)\n"
      ],
      "metadata": {
        "id": "oIwV2ZF55XzR"
      },
      "id": "oIwV2ZF55XzR",
      "execution_count": 17,
      "outputs": []
    },
    {
      "cell_type": "code",
      "source": [
        "#calculate mean of accuracy scores and print it\n",
        "meanLR = cvLR['test_score'].mean()\n",
        "meanDT = cvDT['test_score'].mean()\n",
        "meanRF = cvRF['test_score'].mean()\n",
        "\n",
        "print(f'Cross-Validation Mean Accuracy of Logistic Regression Model: ' + str(meanLR))\n",
        "print(f'Cross-Validation Mean Accuracy of Decision Tree Model: ' + str(meanDT))\n",
        "print(f'Cross-Validation Mean Accuracy: of Random Forest Model:' + str(meanRF))"
      ],
      "metadata": {
        "id": "CISlTmkX5jf6",
        "colab": {
          "base_uri": "https://localhost:8080/"
        },
        "outputId": "5a61eea8-357a-4eb6-ddb5-2a8126f853e8"
      },
      "id": "CISlTmkX5jf6",
      "execution_count": 18,
      "outputs": [
        {
          "output_type": "stream",
          "name": "stdout",
          "text": [
            "Cross-Validation Mean Accuracy of Logistic Regression Model: 0.9665354131450792\n",
            "Cross-Validation Mean Accuracy of Decision Tree Model: 0.9333882081218479\n",
            "Cross-Validation Mean Accuracy: of Random Forest Model:0.8950312250603514\n"
          ]
        }
      ]
    },
    {
      "cell_type": "markdown",
      "source": [
        "### Model Evaluation and Comparison"
      ],
      "metadata": {
        "id": "kp5MOhcQVtrT"
      },
      "id": "kp5MOhcQVtrT"
    },
    {
      "cell_type": "markdown",
      "source": [
        "We have three metrics to evaluate each class for each model.\n",
        "The precision metric measures how many times a model can make a correct prediction regardless of a positive or negative outcome. It is high for all the models for both classes. Logistic Regression is the highest which means that out of all the models, Logistic Regression has a lesser rate of making a positive prediction when the outcome is negative. From this we can also deduce that the precision metric does not account for the measuring the rate of the models giving a negative prediction when the outcome was a positive one.\n",
        "\n",
        "The Recall metric measures how many times a model can make a correct prediction when there are only positive outcomes. We can see that this is high for all classes with Logistic Regression having a 0.94 recall for class 0. This means that model has a high rate of making positive predictions among all outcomes that are positive. However, it does not deal with positive prediction when the outcome is negative.\n",
        "\n",
        "The F1 metric uses both precision and recall to find their harmonic mean.  Out of all the scores across the metrics, the F1 is the lowest score. This is because the metric helps us maximize precision and recall. Thus, the higher the score, the better the model. We can see that the Logistic Regression model is the highest here.\n",
        "\n",
        "Finally, the accuracy measures how many times a model can make a correct prediction out of the entire dataset. We can see that the scores here are identical to F1. Thus we can conclude that both accuracy and F1 scores are the most helpful when evaluating a model’s performance.\n"
      ],
      "metadata": {
        "id": "hLBEpCmQVlQU"
      },
      "id": "hLBEpCmQVlQU"
    },
    {
      "cell_type": "markdown",
      "source": [
        "## Best Performance: Logistic Regression"
      ],
      "metadata": {
        "id": "94kdXykOV9Mh"
      },
      "id": "94kdXykOV9Mh"
    },
    {
      "cell_type": "code",
      "source": [
        "#create confusion matrix\n",
        "LR_matrix = confusion_matrix(y_test, y_predict_LR)\n",
        "\n",
        "\n",
        "sns.heatmap(LR_matrix, annot=True)\n",
        "plt.ylabel('Prediction',fontsize=13)\n",
        "plt.xlabel('Actual',fontsize=13)\n",
        "plt.title('Confusion Matrix',fontsize=17)\n",
        "plt.show()"
      ],
      "metadata": {
        "id": "5tbWP46NA_Dq",
        "colab": {
          "base_uri": "https://localhost:8080/",
          "height": 481
        },
        "outputId": "ab99ec19-7a7a-4563-f0f4-fcd75818fd61"
      },
      "id": "5tbWP46NA_Dq",
      "execution_count": 19,
      "outputs": [
        {
          "output_type": "display_data",
          "data": {
            "text/plain": [
              "<Figure size 640x480 with 2 Axes>"
            ],
            "image/png": "[encoded data removed]"
          },
          "metadata": {}
        }
      ]
    },
    {
      "cell_type": "code",
      "source": [
        "#plot ROC curve\n",
        "from sklearn import metrics\n",
        "\n",
        "y_pred = LR_model.predict_proba(X_test)[::,1]\n",
        "fpr, tpr, _ = metrics.roc_curve(y_test,  y_pred)\n",
        "auc = metrics.roc_auc_score(y_test, y_pred)\n",
        "plt.plot(fpr,tpr,label=\"Model Performance, auc=\"+str(auc))\n",
        "plt.legend(loc=4)\n",
        "plt.xlabel(\"False Positives\")\n",
        "plt.ylabel(\"True Positives\")\n",
        "plt.show()\n",
        "\n",
        "#code reused from https://www.statology.org/plot-roc-curve-python/"
      ],
      "metadata": {
        "id": "n82QS-dxCPpf",
        "colab": {
          "base_uri": "https://localhost:8080/",
          "height": 449
        },
        "outputId": "ad29dfa2-b1aa-4b68-b1a5-bb3c503d549b"
      },
      "id": "n82QS-dxCPpf",
      "execution_count": 23,
      "outputs": [
        {
          "output_type": "display_data",
          "data": {
            "text/plain": [
              "<Figure size 640x480 with 1 Axes>"
            ],
            "image/png": "[encoded data removed]"
          },
          "metadata": {}
        }
      ]
    },
    {
      "cell_type": "code",
      "source": [
        "#majority of code and understanding was from https://scikit-learn.org/stable/"
      ],
      "metadata": {
        "id": "mKNvfyRAQpSb"
      },
      "id": "mKNvfyRAQpSb",
      "execution_count": 21,
      "outputs": []
    },
    {
      "cell_type": "markdown",
      "source": [
        "## Limitations and Next Steps"
      ],
      "metadata": {
        "id": "_R67721bWIG6"
      },
      "id": "_R67721bWIG6"
    },
    {
      "cell_type": "markdown",
      "source": [
        "As with all datasets, there were several limitations to the model. For example, during the pipeline, we couldn’t directly perform one-hot encoding because of how vast the result would be. Instead, we performed label encoding first and that hinders the integrity of the dataset since the categories are not ordinal. In the future, we could potentially use an encoding method like feature hashing to handle the large amount of data.\n",
        "\n",
        "Another limitation of the dataset is the diverse range of categories in features like “use0” which shows what the medication treats. Some of the categories are separated simply because of the change in string. For example, the two categories “Treatment of Anxiety Disorder” and “Anxiety Disorder” can be one large category for “Anxiety”. To fix this, one would have to go through each value and check them individually. Because of the vastness of data and time constraints, this could not be accomplished.\n",
        "\n",
        "The model mainly used features like the purpose of the drug, its chemical compound, what it treats, and what it does when ingested. Thus we can conclude that these are all very important factors for pharmaceutical companies, researchers, doctors, and patients to consider when making a decision related to medication.\n"
      ],
      "metadata": {
        "id": "iRu5Tp-mWLi5"
      },
      "id": "iRu5Tp-mWLi5"
    }
  ],
  "metadata": {
    "kernelspec": {
      "display_name": "Python 3",
      "name": "python3"
    },
    "language_info": {
      "codemirror_mode": {
        "name": "ipython",
        "version": 3
      },
      "file_extension": ".py",
      "mimetype": "text/x-python",
      "name": "python",
      "nbconvert_exporter": "python",
      "pygments_lexer": "ipython3",
      "version": "3.9.7"
    },
    "colab": {
      "provenance": [],
      "gpuType": "A100",
      "machine_shape": "hm",
      "include_colab_link": true
    },
    "accelerator": "GPU"
  },
  "nbformat": 4,
  "nbformat_minor": 5
}