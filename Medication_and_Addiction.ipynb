{
  "cells": [
    {
      "cell_type": "markdown",
      "id": "df6cd555",
      "metadata": {
        "id": "df6cd555"
      },
      "source": [
        "# Investigating the Factors that Determine How Addictive a Drug is\n",
        "\n"
      ]
    },
    {
      "cell_type": "markdown",
      "id": "2b46bf8e",
      "metadata": {
        "id": "2b46bf8e"
      },
      "source": [
        "## Project Focus\n",
        "\n",
        "From antibiotics for serious bacterial infections to antidepressants for mental health illnesses, modern medicine offers numerous solutions to a diverse range of medical conditions. This advancement has been exponential in the past few years with the increase in research and testing of various drugs. In doing so, they are accompanied by various side effects like nausea, dizziness, headaches, dry cough, and many more. However, while side effects can range from mildly uncomfortable to moderately challenging, there is a greater risk that comes along. Many of the drugs that can be habit-forming amongst patients. This can greatly hinder a patient’s quality of life and, in extreme cases, lead to death. Inspired by the growing Opioid Crisis in North America, this project focuses on whether the drugs in the current market are addictive or not."
      ]
    },
    {
      "cell_type": "markdown",
      "id": "67d33edf",
      "metadata": {
        "id": "67d33edf"
      },
      "source": [
        "## Dataset Description\n",
        "\n",
        "The dataset contains a detailed list of drugs used with a variety of medical conditions along with the side effects they present and what other drugs can be substituted in their place. Accompanying this information are classifying attributes like the therapeutic class (what the medication treats), action class (what the medication does), chemical class (what the medication does when it enters the body), and finally, whether the drug is habit-forming or not.\n",
        "\n",
        "Dataset Related Info.:\n",
        "\n",
        "There are total of 5 substitutes columns in the dataset.\n",
        "There are total of 41 Side Effects columns in the dataset. Drugs with less side effects have those columns as blank.\n",
        "There are total of 5 usage columns in the dataset.\n",
        "Rest Columns have their own individual identity.\n",
        "\n",
        "Substitute : It indicates that whatever is the name of the medicine, if the consumer want's to know alternative medicine that have same compositions but manufactured by different manufacturers. So we have provided 5 substitutes for each drug/medicine.\n",
        "\n",
        "Therapeutic Class : It is a way of classifying medical drugs according to their functions. Each therapeutic class is a group of similar medications classified together because they are intended to treat the same medical conditions. for eg.: Respiratory is one of the class, so all medication treating this illness comes under the same class.\n",
        "\n",
        "Action Class : It is the way of classifying medications based on actions they perform such as \"H2 Receptor Blocker\" It Block H2 receptors in parietal cells of the stomach → decrease gastric acid secretion. So drugs with similar action are grouped under \"H2 Receptor Blocker\".\n",
        "\n",
        "Chemical Class : As name suggests, it is grouping based on chemical compound used.\n",
        "\n",
        "Habit Forming : It is classified as YES or NO. It is defined as the process of forming a habit, referring generally to psychological dependence on the continued use of a drug to maintain a sense of well-being, which can result in drug addiction. If there are chances of drug addiction, then it is set to YES otherwise NO.\n",
        "\n",
        "The authors of the dataset are Shudhanshu Singh, Vishal Thakur, Vivek Tiwari.\n",
        "\n",
        "The dataset can be found on Kaggle here: https://www.kaggle.com/datasets/shudhanshusingh/250k-medicines-usage-side-effects-and-substitutes/code\n",
        "\n",
        "All information within the dataset was collected from: https://www.drugs.com.\n"
      ]
    },
    {
      "cell_type": "markdown",
      "id": "6VKjp14DTtwk",
      "metadata": {
        "id": "6VKjp14DTtwk"
      },
      "source": [
        "### Loading and Checking Data"
      ]
    },
    {
      "cell_type": "code",
      "execution_count": 1,
      "id": "1a9da4a9",
      "metadata": {
        "id": "1a9da4a9"
      },
      "outputs": [],
      "source": [
        "#load packages\n",
        "import pandas as pd\n",
        "import numpy as np\n",
        "import matplotlib.pyplot as plt\n",
        "import seaborn as sns\n",
        "import warnings\n",
        "warnings.filterwarnings(\"ignore\")"
      ]
    },
    {
      "cell_type": "code",
      "execution_count": 2,
      "id": "1647afcb",
      "metadata": {
        "id": "1647afcb"
      },
      "outputs": [],
      "source": [
        "#get dataframe online\n",
        "url = \"https://raw.githubusercontent.com/4vantikanair/Project/main/medicine_dataset.csv\"\n",
        "mediuse_df = pd.read_csv(url, sep=',')"
      ]
    },
    {
      "cell_type": "code",
      "execution_count": 3,
      "id": "520feea5",
      "metadata": {
        "colab": {
          "base_uri": "https://localhost:8080/",
          "height": 568
        },
        "id": "520feea5",
        "outputId": "6b98aacb-825d-4788-ab43-5f7c5269e286"
      },
      "outputs": [
        {
          "data": {
            "text/html": [
              "<div>\n",
              "<style scoped>\n",
              "    .dataframe tbody tr th:only-of-type {\n",
              "        vertical-align: middle;\n",
              "    }\n",
              "\n",
              "    .dataframe tbody tr th {\n",
              "        vertical-align: top;\n",
              "    }\n",
              "\n",
              "    .dataframe thead th {\n",
              "        text-align: right;\n",
              "    }\n",
              "</style>\n",
              "<table border=\"1\" class=\"dataframe\">\n",
              "  <thead>\n",
              "    <tr style=\"text-align: right;\">\n",
              "      <th></th>\n",
              "      <th>id</th>\n",
              "      <th>name</th>\n",
              "      <th>substitute0</th>\n",
              "      <th>substitute1</th>\n",
              "      <th>substitute2</th>\n",
              "      <th>substitute3</th>\n",
              "      <th>substitute4</th>\n",
              "      <th>sideEffect0</th>\n",
              "      <th>sideEffect1</th>\n",
              "      <th>sideEffect2</th>\n",
              "      <th>...</th>\n",
              "      <th>sideEffect41</th>\n",
              "      <th>use0</th>\n",
              "      <th>use1</th>\n",
              "      <th>use2</th>\n",
              "      <th>use3</th>\n",
              "      <th>use4</th>\n",
              "      <th>Chemical Class</th>\n",
              "      <th>Habit Forming</th>\n",
              "      <th>Therapeutic Class</th>\n",
              "      <th>Action Class</th>\n",
              "    </tr>\n",
              "  </thead>\n",
              "  <tbody>\n",
              "    <tr>\n",
              "      <th>0</th>\n",
              "      <td>1</td>\n",
              "      <td>augmentin 625 duo tablet</td>\n",
              "      <td>Penciclav 500 mg/125 mg Tablet</td>\n",
              "      <td>Moxikind-CV 625 Tablet</td>\n",
              "      <td>Moxiforce-CV 625 Tablet</td>\n",
              "      <td>Fightox 625 Tablet</td>\n",
              "      <td>Novamox CV 625mg Tablet</td>\n",
              "      <td>Vomiting</td>\n",
              "      <td>Nausea</td>\n",
              "      <td>Diarrhea</td>\n",
              "      <td>...</td>\n",
              "      <td>NaN</td>\n",
              "      <td>Treatment of Bacterial infections</td>\n",
              "      <td>NaN</td>\n",
              "      <td>NaN</td>\n",
              "      <td>NaN</td>\n",
              "      <td>NaN</td>\n",
              "      <td>NaN</td>\n",
              "      <td>No</td>\n",
              "      <td>ANTI INFECTIVES</td>\n",
              "      <td>NaN</td>\n",
              "    </tr>\n",
              "    <tr>\n",
              "      <th>1</th>\n",
              "      <td>2</td>\n",
              "      <td>azithral 500 tablet</td>\n",
              "      <td>Zithrocare 500mg Tablet</td>\n",
              "      <td>Azax 500 Tablet</td>\n",
              "      <td>Zady 500 Tablet</td>\n",
              "      <td>Cazithro 500mg Tablet</td>\n",
              "      <td>Trulimax 500mg Tablet</td>\n",
              "      <td>Vomiting</td>\n",
              "      <td>Nausea</td>\n",
              "      <td>Abdominal pain</td>\n",
              "      <td>...</td>\n",
              "      <td>NaN</td>\n",
              "      <td>Treatment of Bacterial infections</td>\n",
              "      <td>NaN</td>\n",
              "      <td>NaN</td>\n",
              "      <td>NaN</td>\n",
              "      <td>NaN</td>\n",
              "      <td>Macrolides</td>\n",
              "      <td>No</td>\n",
              "      <td>ANTI INFECTIVES</td>\n",
              "      <td>Macrolides</td>\n",
              "    </tr>\n",
              "    <tr>\n",
              "      <th>2</th>\n",
              "      <td>3</td>\n",
              "      <td>ascoril ls syrup</td>\n",
              "      <td>Solvin LS Syrup</td>\n",
              "      <td>Ambrodil-LX Syrup</td>\n",
              "      <td>Zerotuss XP Syrup</td>\n",
              "      <td>Capex LS Syrup</td>\n",
              "      <td>Broxum LS Syrup</td>\n",
              "      <td>Nausea</td>\n",
              "      <td>Vomiting</td>\n",
              "      <td>Diarrhea</td>\n",
              "      <td>...</td>\n",
              "      <td>NaN</td>\n",
              "      <td>Treatment of Cough with mucus</td>\n",
              "      <td>NaN</td>\n",
              "      <td>NaN</td>\n",
              "      <td>NaN</td>\n",
              "      <td>NaN</td>\n",
              "      <td>NaN</td>\n",
              "      <td>No</td>\n",
              "      <td>RESPIRATORY</td>\n",
              "      <td>NaN</td>\n",
              "    </tr>\n",
              "    <tr>\n",
              "      <th>3</th>\n",
              "      <td>4</td>\n",
              "      <td>allegra 120mg tablet</td>\n",
              "      <td>Lcfex Tablet</td>\n",
              "      <td>Etofex 120mg Tablet</td>\n",
              "      <td>Nexofex 120mg Tablet</td>\n",
              "      <td>Fexise 120mg Tablet</td>\n",
              "      <td>Histafree 120 Tablet</td>\n",
              "      <td>Headache</td>\n",
              "      <td>Drowsiness</td>\n",
              "      <td>Dizziness</td>\n",
              "      <td>...</td>\n",
              "      <td>NaN</td>\n",
              "      <td>Treatment of Sneezing and runny nose due to al...</td>\n",
              "      <td>Treatment of Allergic conditions</td>\n",
              "      <td>NaN</td>\n",
              "      <td>NaN</td>\n",
              "      <td>NaN</td>\n",
              "      <td>Diphenylmethane Derivative</td>\n",
              "      <td>No</td>\n",
              "      <td>RESPIRATORY</td>\n",
              "      <td>H1 Antihistaminics (second Generation)</td>\n",
              "    </tr>\n",
              "    <tr>\n",
              "      <th>4</th>\n",
              "      <td>5</td>\n",
              "      <td>avil 25 tablet</td>\n",
              "      <td>Eralet 25mg Tablet</td>\n",
              "      <td>NaN</td>\n",
              "      <td>NaN</td>\n",
              "      <td>NaN</td>\n",
              "      <td>NaN</td>\n",
              "      <td>Sleepiness</td>\n",
              "      <td>Dryness in mouth</td>\n",
              "      <td>NaN</td>\n",
              "      <td>...</td>\n",
              "      <td>NaN</td>\n",
              "      <td>Treatment of Allergic conditions</td>\n",
              "      <td>NaN</td>\n",
              "      <td>NaN</td>\n",
              "      <td>NaN</td>\n",
              "      <td>NaN</td>\n",
              "      <td>Pyridines Derivatives</td>\n",
              "      <td>No</td>\n",
              "      <td>RESPIRATORY</td>\n",
              "      <td>H1 Antihistaminics (First Generation)</td>\n",
              "    </tr>\n",
              "  </tbody>\n",
              "</table>\n",
              "<p>5 rows × 58 columns</p>\n",
              "</div>"
            ],
            "text/plain": [
              "   id                      name                     substitute0  \\\n",
              "0   1  augmentin 625 duo tablet  Penciclav 500 mg/125 mg Tablet   \n",
              "1   2       azithral 500 tablet         Zithrocare 500mg Tablet   \n",
              "2   3          ascoril ls syrup                 Solvin LS Syrup   \n",
              "3   4      allegra 120mg tablet                    Lcfex Tablet   \n",
              "4   5            avil 25 tablet              Eralet 25mg Tablet   \n",
              "\n",
              "              substitute1              substitute2            substitute3  \\\n",
              "0  Moxikind-CV 625 Tablet  Moxiforce-CV 625 Tablet     Fightox 625 Tablet   \n",
              "1         Azax 500 Tablet          Zady 500 Tablet  Cazithro 500mg Tablet   \n",
              "2       Ambrodil-LX Syrup        Zerotuss XP Syrup         Capex LS Syrup   \n",
              "3     Etofex 120mg Tablet     Nexofex 120mg Tablet    Fexise 120mg Tablet   \n",
              "4                     NaN                      NaN                    NaN   \n",
              "\n",
              "               substitute4 sideEffect0       sideEffect1     sideEffect2  ...  \\\n",
              "0  Novamox CV 625mg Tablet    Vomiting            Nausea        Diarrhea  ...   \n",
              "1    Trulimax 500mg Tablet    Vomiting            Nausea  Abdominal pain  ...   \n",
              "2          Broxum LS Syrup      Nausea          Vomiting        Diarrhea  ...   \n",
              "3     Histafree 120 Tablet    Headache        Drowsiness       Dizziness  ...   \n",
              "4                      NaN  Sleepiness  Dryness in mouth             NaN  ...   \n",
              "\n",
              "  sideEffect41                                               use0  \\\n",
              "0          NaN                  Treatment of Bacterial infections   \n",
              "1          NaN                  Treatment of Bacterial infections   \n",
              "2          NaN                      Treatment of Cough with mucus   \n",
              "3          NaN  Treatment of Sneezing and runny nose due to al...   \n",
              "4          NaN                   Treatment of Allergic conditions   \n",
              "\n",
              "                               use1 use2 use3 use4  \\\n",
              "0                               NaN  NaN  NaN  NaN   \n",
              "1                               NaN  NaN  NaN  NaN   \n",
              "2                               NaN  NaN  NaN  NaN   \n",
              "3  Treatment of Allergic conditions  NaN  NaN  NaN   \n",
              "4                               NaN  NaN  NaN  NaN   \n",
              "\n",
              "               Chemical Class Habit Forming Therapeutic Class  \\\n",
              "0                         NaN            No   ANTI INFECTIVES   \n",
              "1                  Macrolides            No   ANTI INFECTIVES   \n",
              "2                         NaN            No       RESPIRATORY   \n",
              "3  Diphenylmethane Derivative            No       RESPIRATORY   \n",
              "4       Pyridines Derivatives            No       RESPIRATORY   \n",
              "\n",
              "                             Action Class  \n",
              "0                                     NaN  \n",
              "1                              Macrolides  \n",
              "2                                     NaN  \n",
              "3  H1 Antihistaminics (second Generation)  \n",
              "4   H1 Antihistaminics (First Generation)  \n",
              "\n",
              "[5 rows x 58 columns]"
            ]
          },
          "execution_count": 3,
          "metadata": {},
          "output_type": "execute_result"
        }
      ],
      "source": [
        "#check first five rows of dataframe\n",
        "mediuse_df.head(5)"
      ]
    },
    {
      "cell_type": "code",
      "execution_count": 4,
      "id": "88d7fbec",
      "metadata": {
        "colab": {
          "base_uri": "https://localhost:8080/"
        },
        "id": "88d7fbec",
        "outputId": "87c063e8-cb66-4c02-f186-b783a27a47ad"
      },
      "outputs": [
        {
          "data": {
            "text/plain": [
              "name                  0.000000\n",
              "substitute0           3.866359\n",
              "substitute1           5.781611\n",
              "substitute2           7.245647\n",
              "substitute3           8.606145\n",
              "substitute4           9.772055\n",
              "sideEffect0           0.000000\n",
              "sideEffect1           3.948948\n",
              "sideEffect2           7.540952\n",
              "sideEffect3          16.348532\n",
              "sideEffect4          34.106310\n",
              "sideEffect5          47.119870\n",
              "sideEffect6          62.993417\n",
              "sideEffect7          72.705444\n",
              "sideEffect8          80.458307\n",
              "sideEffect9          84.808515\n",
              "sideEffect10         89.012078\n",
              "sideEffect11         91.809216\n",
              "sideEffect12         93.440443\n",
              "sideEffect13         94.066909\n",
              "sideEffect14         95.802480\n",
              "sideEffect15         96.905543\n",
              "sideEffect16         97.579144\n",
              "sideEffect17         97.831745\n",
              "sideEffect18         98.181034\n",
              "sideEffect19         98.410268\n",
              "sideEffect20         98.701545\n",
              "sideEffect21         98.741026\n",
              "sideEffect22         98.772047\n",
              "sideEffect23         98.829658\n",
              "sideEffect24         98.902980\n",
              "sideEffect25         99.394484\n",
              "sideEffect26         99.394484\n",
              "sideEffect27         99.398110\n",
              "sideEffect28         99.398110\n",
              "sideEffect29         99.420671\n",
              "sideEffect30         99.464584\n",
              "sideEffect31         99.464584\n",
              "sideEffect32         99.464986\n",
              "sideEffect33         99.529043\n",
              "sideEffect34         99.530252\n",
              "sideEffect35         99.999194\n",
              "sideEffect36         99.999194\n",
              "sideEffect37         99.999194\n",
              "sideEffect38         99.999194\n",
              "sideEffect39         99.999194\n",
              "sideEffect40         99.999194\n",
              "sideEffect41         99.999194\n",
              "use0                  0.000000\n",
              "use1                 70.443320\n",
              "use2                 88.595912\n",
              "use3                 97.027210\n",
              "use4                 97.997325\n",
              "Chemical Class       44.487910\n",
              "Habit Forming         0.000000\n",
              "Therapeutic Class     0.027798\n",
              "Action Class         44.389206\n",
              "dtype: float64"
            ]
          },
          "execution_count": 4,
          "metadata": {},
          "output_type": "execute_result"
        }
      ],
      "source": [
        "mediuse_df = mediuse_df.drop('id', axis=1)\n",
        "\n",
        "#check null values\n",
        "mediuse_df.isnull().sum()*100/len(mediuse_df)"
      ]
    },
    {
      "cell_type": "code",
      "execution_count": 5,
      "id": "6c0cef91",
      "metadata": {
        "colab": {
          "base_uri": "https://localhost:8080/"
        },
        "id": "6c0cef91",
        "outputId": "99d8bb5e-4337-406a-d4ba-789495cdc7ed"
      },
      "outputs": [
        {
          "data": {
            "text/plain": [
              "name                  0.000000\n",
              "substitute0           3.866359\n",
              "substitute1           5.781611\n",
              "substitute2           7.245647\n",
              "substitute3           8.606145\n",
              "substitute4           9.772055\n",
              "sideEffect0           0.000000\n",
              "sideEffect1           3.948948\n",
              "sideEffect2           7.540952\n",
              "sideEffect3          16.348532\n",
              "sideEffect4          34.106310\n",
              "sideEffect5          47.119870\n",
              "use0                  0.000000\n",
              "Chemical Class       44.487910\n",
              "Habit Forming         0.000000\n",
              "Therapeutic Class     0.027798\n",
              "Action Class         44.389206\n",
              "dtype: float64"
            ]
          },
          "execution_count": 5,
          "metadata": {},
          "output_type": "execute_result"
        }
      ],
      "source": [
        "#drop columns whose null values exceed 50%\n",
        "mediuse_df.dropna(axis=1, thresh=0.5*len(mediuse_df), inplace=True)\n",
        "mediuse_df.isnull().sum()*100/len(mediuse_df)"
      ]
    },
    {
      "cell_type": "code",
      "execution_count": 6,
      "id": "d4efff2d",
      "metadata": {
        "id": "d4efff2d"
      },
      "outputs": [],
      "source": [
        "#fill null values with most frequent occurance\n",
        "mediuseclean_df = mediuse_df.apply(lambda x: x.fillna(x.value_counts().index[0]))\n",
        "mediuseclean_df.isnull().sum()*100/len(mediuseclean_df)\n",
        "#ensure all object values are string values\n",
        "mediuse_df=mediuse_df.astype(str)"
      ]
    },
    {
      "cell_type": "markdown",
      "id": "lYzNI8SMT5Ax",
      "metadata": {
        "id": "lYzNI8SMT5Ax"
      },
      "source": [
        "## EDA"
      ]
    },
    {
      "cell_type": "code",
      "execution_count": 7,
      "id": "34520f5a",
      "metadata": {
        "colab": {
          "base_uri": "https://localhost:8080/"
        },
        "id": "34520f5a",
        "outputId": "4229c09f-fbb1-459f-8cf9-d67ea50151bb"
      },
      "outputs": [
        {
          "data": {
            "text/plain": [
              "Therapeutic Class\n",
              "ANTI INFECTIVES                57572\n",
              "GASTRO INTESTINAL              33630\n",
              "PAIN ANALGESICS                32267\n",
              "NEURO CNS                      23319\n",
              "RESPIRATORY                    23052\n",
              "CARDIAC                        18381\n",
              "ANTI DIABETIC                  11679\n",
              "OPHTHAL                        10573\n",
              "DERMA                           9883\n",
              "HORMONES                        5629\n",
              "GYNAECOLOGICAL                  4406\n",
              "VITAMINS MINERALS NUTRIENTS     4216\n",
              "ANTI NEOPLASTICS                3513\n",
              "BLOOD RELATED                   2659\n",
              "UROLOGY                         1844\n",
              "OPHTHAL OTOLOGICALS             1725\n",
              "ANTI MALARIALS                  1679\n",
              "SEX STIMULANTS REJUVENATORS      723\n",
              "OTOLOGICALS                      485\n",
              "OTHERS                           481\n",
              "VACCINES                         329\n",
              "STOMATOLOGICALS                  173\n",
              "Name: count, dtype: int64"
            ]
          },
          "execution_count": 7,
          "metadata": {},
          "output_type": "execute_result"
        }
      ],
      "source": [
        "#check the number of each unique value in Therapeutic Class\n",
        "mediuseclean_df[\"Therapeutic Class\"].value_counts()"
      ]
    },
    {
      "cell_type": "code",
      "execution_count": 8,
      "id": "UZajM6PcFvpN",
      "metadata": {
        "colab": {
          "base_uri": "https://localhost:8080/",
          "height": 499
        },
        "id": "UZajM6PcFvpN",
        "outputId": "842762e0-7863-4f25-8049-71d98dec905e"
      },
      "outputs": [
        {
          "data": {
            "text/plain": [
              "Text(0, 0.5, 'Functional Classfication')"
            ]
          },
          "execution_count": 8,
          "metadata": {},
          "output_type": "execute_result"
        },
        {
          "data": {
            "image/png": "[encoded data removed]",
            "text/plain": [
              "<Figure size 800x500 with 1 Axes>"
            ]
          },
          "metadata": {},
          "output_type": "display_data"
        }
      ],
      "source": [
        "#create a count dataset for types of medication\n",
        "thera_counts = mediuseclean_df[\"Therapeutic Class\"].value_counts().reset_index()\n",
        "thera_counts.columns = ['Therapeutic Class', 'Count']\n",
        "\n",
        "#plot graph\n",
        "plt.figure(figsize=(8,5))\n",
        "\n",
        "\n",
        "sns.set(style=\"darkgrid\")\n",
        "sns.set(font_scale = 0.7)\n",
        "sns.set_palette(\"crest\")\n",
        "sns.barplot(x=thera_counts[\"Count\"], y=thera_counts[\"Therapeutic Class\"]).set(title=\"Functional Classification of Drug Usage\")\n",
        "plt.xlabel(\"Count\")\n",
        "plt.ylabel(\"Functional Classfication\")\n",
        "\n",
        "\n",
        "\n"
      ]
    },
    {
      "cell_type": "code",
      "execution_count": 9,
      "id": "d77656ee",
      "metadata": {
        "colab": {
          "base_uri": "https://localhost:8080/",
          "height": 544
        },
        "id": "d77656ee",
        "outputId": "d6f178a9-da40-43ba-e91e-aad4d20bda9a"
      },
      "outputs": [
        {
          "data": {
            "text/plain": [
              "([<matplotlib.patches.Wedge at 0x12b8efc7c80>,\n",
              "  <matplotlib.patches.Wedge at 0x12b8efeacf0>],\n",
              " [Text(-1.0968266034087804, 0.08349492232919356, 'No'),\n",
              "  Text(1.0968265985229293, -0.0834949865118921, 'Yes')],\n",
              " [Text(-0.5982690564047892, 0.04554268490683285, '97.6%'),\n",
              "  Text(0.5982690537397796, -0.04554271991557751, '2.4%')])"
            ]
          },
          "execution_count": 9,
          "metadata": {},
          "output_type": "execute_result"
        },
        {
          "data": {
            "image/png": "[encoded data removed]",
            "text/plain": [
              "<Figure size 1000x500 with 1 Axes>"
            ]
          },
          "metadata": {},
          "output_type": "display_data"
        }
      ],
      "source": [
        "#create a dataset with the number of addictive vs nonaddctive drugs\n",
        "percent_addictive = mediuseclean_df[\"Habit Forming\"].value_counts()\n",
        "\n",
        "#plot pie chart\n",
        "plt.figure(figsize=(10,5))\n",
        "plt.title(\"Is the drug addictive?\")\n",
        "\n",
        "plt.pie(percent_addictive, labels=percent_addictive.index, autopct='%0.1f%%', colors=['indianred','mistyrose'])\n"
      ]
    },
    {
      "cell_type": "code",
      "execution_count": 10,
      "id": "0db8fb64",
      "metadata": {
        "colab": {
          "base_uri": "https://localhost:8080/",
          "height": 499
        },
        "id": "0db8fb64",
        "outputId": "7dd10d32-833d-4060-bb72-71b9f0fda78a"
      },
      "outputs": [
        {
          "data": {
            "text/plain": [
              "Text(0, 0.5, 'Count')"
            ]
          },
          "execution_count": 10,
          "metadata": {},
          "output_type": "execute_result"
        },
        {
          "data": {
            "image/png": "[encoded data removed]",
            "text/plain": [
              "<Figure size 800x500 with 1 Axes>"
            ]
          },
          "metadata": {},
          "output_type": "display_data"
        }
      ],
      "source": [
        "#create a dataset with only therapeutic class of addictive drugs\n",
        "addictive = mediuseclean_df.loc[mediuseclean_df[\"Habit Forming\"] == \"Yes\"]\n",
        "addthera_counts = addictive[\"Therapeutic Class\"].value_counts().reset_index()\n",
        "addthera_counts.columns = [\"Therapeutic Class\", \"Count\"]\n",
        "\n",
        "#plot bar graph\n",
        "plt.figure(figsize=(8,5))\n",
        "sns.set_palette(\"pastel\")\n",
        "\n",
        "sns.countplot(data=addictive, x=\"Therapeutic Class\").set(title=\" Funcational Classification of Addictive Drugs Usage\")\n",
        "plt.xlabel(\"Functional Classification\")\n",
        "plt.ylabel(\"Count\")\n"
      ]
    },
    {
      "cell_type": "code",
      "execution_count": 11,
      "id": "b2c53c47",
      "metadata": {
        "colab": {
          "base_uri": "https://localhost:8080/"
        },
        "id": "b2c53c47",
        "outputId": "00fbcf5d-aecb-4d99-e280-0bd110b98eaf"
      },
      "outputs": [
        {
          "data": {
            "text/plain": [
              "use0\n",
              "Treatment of Anxiety disorder    1546\n",
              " Moderate to severe pain          805\n",
              "Treatment of Anxiety              707\n",
              " Pain relief                      365\n",
              "Treatment of Insomnia             339\n",
              "Name: count, dtype: int64"
            ]
          },
          "execution_count": 11,
          "metadata": {},
          "output_type": "execute_result"
        }
      ],
      "source": [
        "#check top five uses of addictive drugs\n",
        "addictive.use0.value_counts().sort_values(ascending=False).head(5)"
      ]
    },
    {
      "cell_type": "code",
      "execution_count": 12,
      "id": "d1160265",
      "metadata": {
        "colab": {
          "base_uri": "https://localhost:8080/",
          "height": 499
        },
        "id": "d1160265",
        "outputId": "8c23555b-9fc1-4afe-e022-2aacd34289f9"
      },
      "outputs": [
        {
          "data": {
            "text/plain": [
              "<matplotlib.legend.Legend at 0x12b8f7278c0>"
            ]
          },
          "execution_count": 12,
          "metadata": {},
          "output_type": "execute_result"
        },
        {
          "data": {
            "image/png": "[encoded data removed]",
            "text/plain": [
              "<Figure size 1000x500 with 1 Axes>"
            ]
          },
          "metadata": {},
          "output_type": "display_data"
        }
      ],
      "source": [
        "#create a dataset for top five uses of addictive drugs and their action classes\n",
        "topuse = addictive[addictive.groupby(\"use0\")['use0'].transform('size') > 338]\n",
        "topuse[['Action Class', 'use0']].groupby(['Action Class', 'use0']).count().reset_index()\n",
        "\n",
        "#plot the resulting bar graph\n",
        "plt.figure(figsize=(10,5))\n",
        "sns.countplot(x='use0', data=topuse, hue='Action Class', palette='magma').set(title=\"Medications and Their Usage\")\n",
        "plt.xlabel(\"Usage\")\n",
        "plt.ylabel(\"Count\")\n",
        "plt.legend(title=\"Type of Medication\")"
      ]
    },
    {
      "cell_type": "markdown",
      "id": "3c205975",
      "metadata": {
        "id": "3c205975"
      },
      "source": [
        "## Preparing the Dataset"
      ]
    },
    {
      "cell_type": "markdown",
      "id": "CjSEm7qOUSVy",
      "metadata": {
        "id": "CjSEm7qOUSVy"
      },
      "source": [
        "### Data Cleaning"
      ]
    },
    {
      "cell_type": "code",
      "execution_count": 13,
      "id": "IZtpqQl7FY1l",
      "metadata": {
        "colab": {
          "base_uri": "https://localhost:8080/",
          "height": 423
        },
        "id": "IZtpqQl7FY1l",
        "outputId": "bf6e319b-6c9a-41e0-8435-43c05f6d1f52"
      },
      "outputs": [
        {
          "data": {
            "text/html": [
              "<div>\n",
              "<style scoped>\n",
              "    .dataframe tbody tr th:only-of-type {\n",
              "        vertical-align: middle;\n",
              "    }\n",
              "\n",
              "    .dataframe tbody tr th {\n",
              "        vertical-align: top;\n",
              "    }\n",
              "\n",
              "    .dataframe thead th {\n",
              "        text-align: right;\n",
              "    }\n",
              "</style>\n",
              "<table border=\"1\" class=\"dataframe\">\n",
              "  <thead>\n",
              "    <tr style=\"text-align: right;\">\n",
              "      <th></th>\n",
              "      <th>use0</th>\n",
              "      <th>Chemical Class</th>\n",
              "      <th>Habit Forming</th>\n",
              "      <th>Therapeutic Class</th>\n",
              "      <th>Action Class</th>\n",
              "    </tr>\n",
              "  </thead>\n",
              "  <tbody>\n",
              "    <tr>\n",
              "      <th>7</th>\n",
              "      <td>Treatment of Bacterial infections</td>\n",
              "      <td>Macrolides</td>\n",
              "      <td>No</td>\n",
              "      <td>ANTI INFECTIVES</td>\n",
              "      <td>Macrolides</td>\n",
              "    </tr>\n",
              "    <tr>\n",
              "      <th>17</th>\n",
              "      <td>Treatment of Dry cough</td>\n",
              "      <td>nan</td>\n",
              "      <td>No</td>\n",
              "      <td>RESPIRATORY</td>\n",
              "      <td>nan</td>\n",
              "    </tr>\n",
              "    <tr>\n",
              "      <th>33</th>\n",
              "      <td>Prevention of heart attack and stroke</td>\n",
              "      <td>Triazolopyrimidines</td>\n",
              "      <td>No</td>\n",
              "      <td>BLOOD RELATED</td>\n",
              "      <td>P2Y12 inhibitors (ADP receptor)</td>\n",
              "    </tr>\n",
              "    <tr>\n",
              "      <th>35</th>\n",
              "      <td>Treatment of Gout</td>\n",
              "      <td>Carboxylic acid derivative</td>\n",
              "      <td>No</td>\n",
              "      <td>UROLOGY</td>\n",
              "      <td>Uricosuric agent-gout</td>\n",
              "    </tr>\n",
              "    <tr>\n",
              "      <th>46</th>\n",
              "      <td>Treatment of Bacterial infections</td>\n",
              "      <td>Macrolides</td>\n",
              "      <td>No</td>\n",
              "      <td>ANTI INFECTIVES</td>\n",
              "      <td>Macrolides</td>\n",
              "    </tr>\n",
              "    <tr>\n",
              "      <th>...</th>\n",
              "      <td>...</td>\n",
              "      <td>...</td>\n",
              "      <td>...</td>\n",
              "      <td>...</td>\n",
              "      <td>...</td>\n",
              "    </tr>\n",
              "    <tr>\n",
              "      <th>248204</th>\n",
              "      <td>Treatment of Muscular pain</td>\n",
              "      <td>nan</td>\n",
              "      <td>No</td>\n",
              "      <td>PAIN ANALGESICS</td>\n",
              "      <td>nan</td>\n",
              "    </tr>\n",
              "    <tr>\n",
              "      <th>248205</th>\n",
              "      <td>Treatment of Bacterial infections</td>\n",
              "      <td>Broad spectrum (Third &amp; fourth generation ceph...</td>\n",
              "      <td>No</td>\n",
              "      <td>ANTI INFECTIVES</td>\n",
              "      <td>Cephalosporins: 3 generation</td>\n",
              "    </tr>\n",
              "    <tr>\n",
              "      <th>248211</th>\n",
              "      <td>Treatment of Bacterial infections</td>\n",
              "      <td>Broad spectrum (Third &amp; fourth generation ceph...</td>\n",
              "      <td>No</td>\n",
              "      <td>ANTI INFECTIVES</td>\n",
              "      <td>Cephalosporins: 3 generation</td>\n",
              "    </tr>\n",
              "    <tr>\n",
              "      <th>248213</th>\n",
              "      <td>Treatment of Muscular pain</td>\n",
              "      <td>nan</td>\n",
              "      <td>No</td>\n",
              "      <td>PAIN ANALGESICS</td>\n",
              "      <td>nan</td>\n",
              "    </tr>\n",
              "    <tr>\n",
              "      <th>248214</th>\n",
              "      <td>Pain relief</td>\n",
              "      <td>Dichlorobenzenes Derivative</td>\n",
              "      <td>No</td>\n",
              "      <td>PAIN ANALGESICS</td>\n",
              "      <td>NSAID's- Non-Selective COX 1&amp;2 Inhibitors (ace...</td>\n",
              "    </tr>\n",
              "  </tbody>\n",
              "</table>\n",
              "<p>46982 rows × 5 columns</p>\n",
              "</div>"
            ],
            "text/plain": [
              "                                          use0  \\\n",
              "7            Treatment of Bacterial infections   \n",
              "17                      Treatment of Dry cough   \n",
              "33       Prevention of heart attack and stroke   \n",
              "35                           Treatment of Gout   \n",
              "46           Treatment of Bacterial infections   \n",
              "...                                        ...   \n",
              "248204              Treatment of Muscular pain   \n",
              "248205       Treatment of Bacterial infections   \n",
              "248211       Treatment of Bacterial infections   \n",
              "248213              Treatment of Muscular pain   \n",
              "248214                             Pain relief   \n",
              "\n",
              "                                           Chemical Class Habit Forming  \\\n",
              "7                                              Macrolides            No   \n",
              "17                                                    nan            No   \n",
              "33                                    Triazolopyrimidines            No   \n",
              "35                             Carboxylic acid derivative            No   \n",
              "46                                             Macrolides            No   \n",
              "...                                                   ...           ...   \n",
              "248204                                                nan            No   \n",
              "248205  Broad spectrum (Third & fourth generation ceph...            No   \n",
              "248211  Broad spectrum (Third & fourth generation ceph...            No   \n",
              "248213                                                nan            No   \n",
              "248214                        Dichlorobenzenes Derivative            No   \n",
              "\n",
              "       Therapeutic Class                                       Action Class  \n",
              "7        ANTI INFECTIVES                                         Macrolides  \n",
              "17           RESPIRATORY                                                nan  \n",
              "33         BLOOD RELATED                    P2Y12 inhibitors (ADP receptor)  \n",
              "35               UROLOGY                              Uricosuric agent-gout  \n",
              "46       ANTI INFECTIVES                                         Macrolides  \n",
              "...                  ...                                                ...  \n",
              "248204   PAIN ANALGESICS                                                nan  \n",
              "248205   ANTI INFECTIVES                       Cephalosporins: 3 generation  \n",
              "248211   ANTI INFECTIVES                       Cephalosporins: 3 generation  \n",
              "248213   PAIN ANALGESICS                                                nan  \n",
              "248214   PAIN ANALGESICS  NSAID's- Non-Selective COX 1&2 Inhibitors (ace...  \n",
              "\n",
              "[46982 rows x 5 columns]"
            ]
          },
          "execution_count": 13,
          "metadata": {},
          "output_type": "execute_result"
        }
      ],
      "source": [
        "#handle duplicate data\n",
        "mediuseclean_df = mediuse_df[mediuse_df.duplicated(keep=False)]\n",
        "\n",
        "#drop side effects and substitutes\n",
        "mediuseclean_df = mediuseclean_df[[\"use0\",\"Chemical Class\", \"Habit Forming\", \"Therapeutic Class\", \"Action Class\"]]\n",
        "\n",
        "# # mediuseclean_df = mediuseclean_df.drop([\"sideEffect5\"])\n",
        "mediuseclean_df"
      ]
    },
    {
      "cell_type": "markdown",
      "id": "UwK5o9i8UdwU",
      "metadata": {
        "id": "UwK5o9i8UdwU"
      },
      "source": [
        "### Data Preprocessing"
      ]
    },
    {
      "cell_type": "code",
      "execution_count": 14,
      "id": "bb55faf5",
      "metadata": {
        "id": "bb55faf5"
      },
      "outputs": [],
      "source": [
        "#Pipeline packages\n",
        "from sklearn.compose import ColumnTransformer\n",
        "from sklearn.impute import SimpleImputer\n",
        "from sklearn.pipeline import make_pipeline\n",
        "from sklearn.feature_extraction import FeatureHasher\n",
        "from sklearn import preprocessing\n",
        "\n",
        "\n",
        "#extract name of categorical columns\n",
        "cat_cols = ['use0', 'Chemical Class', 'Therapeutic Class', 'Action Class']\n",
        "\n",
        "#create pipeline\n",
        "cat_pipeline = make_pipeline(SimpleImputer(strategy='most_frequent'), FeatureHasher(n_features=12, input_type='string', alternate_sign=False))\n",
        "\n",
        "#set transformation using ColumnTransformer\n",
        "preprocessor = ColumnTransformer([('cat', cat_pipeline, cat_cols)],\n",
        "                                    remainder='passthrough'\n",
        "                                 )\n",
        "\n",
        "#code from notebooks course eclass page"
      ]
    },
    {
      "cell_type": "code",
      "execution_count": 15,
      "id": "7ac1a849",
      "metadata": {
        "colab": {
          "base_uri": "https://localhost:8080/",
          "height": 151
        },
        "id": "7ac1a849",
        "outputId": "6893f637-182e-4641-f6c7-ffed7b70cbe8"
      },
      "outputs": [
        {
          "data": {
            "text/html": [
              "<style>#sk-container-id-1 {color: black;}#sk-container-id-1 pre{padding: 0;}#sk-container-id-1 div.sk-toggleable {background-color: white;}#sk-container-id-1 label.sk-toggleable__label {cursor: pointer;display: block;width: 100%;margin-bottom: 0;padding: 0.3em;box-sizing: border-box;text-align: center;}#sk-container-id-1 label.sk-toggleable__label-arrow:before {content: \"▸\";float: left;margin-right: 0.25em;color: #696969;}#sk-container-id-1 label.sk-toggleable__label-arrow:hover:before {color: black;}#sk-container-id-1 div.sk-estimator:hover label.sk-toggleable__label-arrow:before {color: black;}#sk-container-id-1 div.sk-toggleable__content {max-height: 0;max-width: 0;overflow: hidden;text-align: left;background-color: #f0f8ff;}#sk-container-id-1 div.sk-toggleable__content pre {margin: 0.2em;color: black;border-radius: 0.25em;background-color: #f0f8ff;}#sk-container-id-1 input.sk-toggleable__control:checked~div.sk-toggleable__content {max-height: 200px;max-width: 100%;overflow: auto;}#sk-container-id-1 input.sk-toggleable__control:checked~label.sk-toggleable__label-arrow:before {content: \"▾\";}#sk-container-id-1 div.sk-estimator input.sk-toggleable__control:checked~label.sk-toggleable__label {background-color: #d4ebff;}#sk-container-id-1 div.sk-label input.sk-toggleable__control:checked~label.sk-toggleable__label {background-color: #d4ebff;}#sk-container-id-1 input.sk-hidden--visually {border: 0;clip: rect(1px 1px 1px 1px);clip: rect(1px, 1px, 1px, 1px);height: 1px;margin: -1px;overflow: hidden;padding: 0;position: absolute;width: 1px;}#sk-container-id-1 div.sk-estimator {font-family: monospace;background-color: #f0f8ff;border: 1px dotted black;border-radius: 0.25em;box-sizing: border-box;margin-bottom: 0.5em;}#sk-container-id-1 div.sk-estimator:hover {background-color: #d4ebff;}#sk-container-id-1 div.sk-parallel-item::after {content: \"\";width: 100%;border-bottom: 1px solid gray;flex-grow: 1;}#sk-container-id-1 div.sk-label:hover label.sk-toggleable__label {background-color: #d4ebff;}#sk-container-id-1 div.sk-serial::before {content: \"\";position: absolute;border-left: 1px solid gray;box-sizing: border-box;top: 0;bottom: 0;left: 50%;z-index: 0;}#sk-container-id-1 div.sk-serial {display: flex;flex-direction: column;align-items: center;background-color: white;padding-right: 0.2em;padding-left: 0.2em;position: relative;}#sk-container-id-1 div.sk-item {position: relative;z-index: 1;}#sk-container-id-1 div.sk-parallel {display: flex;align-items: stretch;justify-content: center;background-color: white;position: relative;}#sk-container-id-1 div.sk-item::before, #sk-container-id-1 div.sk-parallel-item::before {content: \"\";position: absolute;border-left: 1px solid gray;box-sizing: border-box;top: 0;bottom: 0;left: 50%;z-index: -1;}#sk-container-id-1 div.sk-parallel-item {display: flex;flex-direction: column;z-index: 1;position: relative;background-color: white;}#sk-container-id-1 div.sk-parallel-item:first-child::after {align-self: flex-end;width: 50%;}#sk-container-id-1 div.sk-parallel-item:last-child::after {align-self: flex-start;width: 50%;}#sk-container-id-1 div.sk-parallel-item:only-child::after {width: 0;}#sk-container-id-1 div.sk-dashed-wrapped {border: 1px dashed gray;margin: 0 0.4em 0.5em 0.4em;box-sizing: border-box;padding-bottom: 0.4em;background-color: white;}#sk-container-id-1 div.sk-label label {font-family: monospace;font-weight: bold;display: inline-block;line-height: 1.2em;}#sk-container-id-1 div.sk-label-container {text-align: center;}#sk-container-id-1 div.sk-container {/* jupyter's `normalize.less` sets `[hidden] { display: none; }` but bootstrap.min.css set `[hidden] { display: none !important; }` so we also need the `!important` here to be able to override the default hidden behavior on the sphinx rendered scikit-learn.org. See: https://github.com/scikit-learn/scikit-learn/issues/21755 */display: inline-block !important;position: relative;}#sk-container-id-1 div.sk-text-repr-fallback {display: none;}</style><div id=\"sk-container-id-1\" class=\"sk-top-container\"><div class=\"sk-text-repr-fallback\"><pre>ColumnTransformer(remainder=&#x27;passthrough&#x27;,\n",
              "                  transformers=[(&#x27;cat&#x27;,\n",
              "                                 Pipeline(steps=[(&#x27;simpleimputer&#x27;,\n",
              "                                                  SimpleImputer(strategy=&#x27;most_frequent&#x27;)),\n",
              "                                                 (&#x27;featurehasher&#x27;,\n",
              "                                                  FeatureHasher(alternate_sign=False,\n",
              "                                                                input_type=&#x27;string&#x27;,\n",
              "                                                                n_features=12))]),\n",
              "                                 [&#x27;use0&#x27;, &#x27;Chemical Class&#x27;, &#x27;Therapeutic Class&#x27;,\n",
              "                                  &#x27;Action Class&#x27;])])</pre><b>In a Jupyter environment, please rerun this cell to show the HTML representation or trust the notebook. <br />On GitHub, the HTML representation is unable to render, please try loading this page with nbviewer.org.</b></div><div class=\"sk-container\" hidden><div class=\"sk-item sk-dashed-wrapped\"><div class=\"sk-label-container\"><div class=\"sk-label sk-toggleable\"><input class=\"sk-toggleable__control sk-hidden--visually\" id=\"sk-estimator-id-1\" type=\"checkbox\" ><label for=\"sk-estimator-id-1\" class=\"sk-toggleable__label sk-toggleable__label-arrow\">ColumnTransformer</label><div class=\"sk-toggleable__content\"><pre>ColumnTransformer(remainder=&#x27;passthrough&#x27;,\n",
              "                  transformers=[(&#x27;cat&#x27;,\n",
              "                                 Pipeline(steps=[(&#x27;simpleimputer&#x27;,\n",
              "                                                  SimpleImputer(strategy=&#x27;most_frequent&#x27;)),\n",
              "                                                 (&#x27;featurehasher&#x27;,\n",
              "                                                  FeatureHasher(alternate_sign=False,\n",
              "                                                                input_type=&#x27;string&#x27;,\n",
              "                                                                n_features=12))]),\n",
              "                                 [&#x27;use0&#x27;, &#x27;Chemical Class&#x27;, &#x27;Therapeutic Class&#x27;,\n",
              "                                  &#x27;Action Class&#x27;])])</pre></div></div></div><div class=\"sk-parallel\"><div class=\"sk-parallel-item\"><div class=\"sk-item\"><div class=\"sk-label-container\"><div class=\"sk-label sk-toggleable\"><input class=\"sk-toggleable__control sk-hidden--visually\" id=\"sk-estimator-id-2\" type=\"checkbox\" ><label for=\"sk-estimator-id-2\" class=\"sk-toggleable__label sk-toggleable__label-arrow\">cat</label><div class=\"sk-toggleable__content\"><pre>[&#x27;use0&#x27;, &#x27;Chemical Class&#x27;, &#x27;Therapeutic Class&#x27;, &#x27;Action Class&#x27;]</pre></div></div></div><div class=\"sk-serial\"><div class=\"sk-item\"><div class=\"sk-serial\"><div class=\"sk-item\"><div class=\"sk-estimator sk-toggleable\"><input class=\"sk-toggleable__control sk-hidden--visually\" id=\"sk-estimator-id-3\" type=\"checkbox\" ><label for=\"sk-estimator-id-3\" class=\"sk-toggleable__label sk-toggleable__label-arrow\">SimpleImputer</label><div class=\"sk-toggleable__content\"><pre>SimpleImputer(strategy=&#x27;most_frequent&#x27;)</pre></div></div></div><div class=\"sk-item\"><div class=\"sk-estimator sk-toggleable\"><input class=\"sk-toggleable__control sk-hidden--visually\" id=\"sk-estimator-id-4\" type=\"checkbox\" ><label for=\"sk-estimator-id-4\" class=\"sk-toggleable__label sk-toggleable__label-arrow\">FeatureHasher</label><div class=\"sk-toggleable__content\"><pre>FeatureHasher(alternate_sign=False, input_type=&#x27;string&#x27;, n_features=12)</pre></div></div></div></div></div></div></div></div><div class=\"sk-parallel-item\"><div class=\"sk-item\"><div class=\"sk-label-container\"><div class=\"sk-label sk-toggleable\"><input class=\"sk-toggleable__control sk-hidden--visually\" id=\"sk-estimator-id-5\" type=\"checkbox\" ><label for=\"sk-estimator-id-5\" class=\"sk-toggleable__label sk-toggleable__label-arrow\">remainder</label><div class=\"sk-toggleable__content\"><pre></pre></div></div></div><div class=\"sk-serial\"><div class=\"sk-item\"><div class=\"sk-estimator sk-toggleable\"><input class=\"sk-toggleable__control sk-hidden--visually\" id=\"sk-estimator-id-6\" type=\"checkbox\" ><label for=\"sk-estimator-id-6\" class=\"sk-toggleable__label sk-toggleable__label-arrow\">passthrough</label><div class=\"sk-toggleable__content\"><pre>passthrough</pre></div></div></div></div></div></div></div></div></div></div>"
            ],
            "text/plain": [
              "ColumnTransformer(remainder='passthrough',\n",
              "                  transformers=[('cat',\n",
              "                                 Pipeline(steps=[('simpleimputer',\n",
              "                                                  SimpleImputer(strategy='most_frequent')),\n",
              "                                                 ('featurehasher',\n",
              "                                                  FeatureHasher(alternate_sign=False,\n",
              "                                                                input_type='string',\n",
              "                                                                n_features=12))]),\n",
              "                                 ['use0', 'Chemical Class', 'Therapeutic Class',\n",
              "                                  'Action Class'])])"
            ]
          },
          "execution_count": 15,
          "metadata": {},
          "output_type": "execute_result"
        }
      ],
      "source": [
        "#display pipeline\n",
        "preprocessor"
      ]
    },
    {
      "cell_type": "code",
      "execution_count": 16,
      "id": "036e9da3",
      "metadata": {
        "colab": {
          "base_uri": "https://localhost:8080/",
          "height": 423
        },
        "id": "036e9da3",
        "outputId": "f1bb9b83-f819-4e77-f8fd-719138448458"
      },
      "outputs": [
        {
          "data": {
            "text/html": [
              "<div>\n",
              "<style scoped>\n",
              "    .dataframe tbody tr th:only-of-type {\n",
              "        vertical-align: middle;\n",
              "    }\n",
              "\n",
              "    .dataframe tbody tr th {\n",
              "        vertical-align: top;\n",
              "    }\n",
              "\n",
              "    .dataframe thead th {\n",
              "        text-align: right;\n",
              "    }\n",
              "</style>\n",
              "<table border=\"1\" class=\"dataframe\">\n",
              "  <thead>\n",
              "    <tr style=\"text-align: right;\">\n",
              "      <th></th>\n",
              "      <th>0</th>\n",
              "      <th>1</th>\n",
              "      <th>2</th>\n",
              "      <th>3</th>\n",
              "      <th>4</th>\n",
              "      <th>5</th>\n",
              "      <th>6</th>\n",
              "      <th>7</th>\n",
              "      <th>8</th>\n",
              "      <th>9</th>\n",
              "      <th>10</th>\n",
              "      <th>11</th>\n",
              "      <th>12</th>\n",
              "    </tr>\n",
              "  </thead>\n",
              "  <tbody>\n",
              "    <tr>\n",
              "      <th>0</th>\n",
              "      <td>0.0</td>\n",
              "      <td>1.0</td>\n",
              "      <td>0.0</td>\n",
              "      <td>0.0</td>\n",
              "      <td>0.0</td>\n",
              "      <td>0.0</td>\n",
              "      <td>1.0</td>\n",
              "      <td>0.0</td>\n",
              "      <td>0.0</td>\n",
              "      <td>0.0</td>\n",
              "      <td>2.0</td>\n",
              "      <td>0.0</td>\n",
              "      <td>0.0</td>\n",
              "    </tr>\n",
              "    <tr>\n",
              "      <th>1</th>\n",
              "      <td>0.0</td>\n",
              "      <td>0.0</td>\n",
              "      <td>2.0</td>\n",
              "      <td>1.0</td>\n",
              "      <td>0.0</td>\n",
              "      <td>0.0</td>\n",
              "      <td>0.0</td>\n",
              "      <td>0.0</td>\n",
              "      <td>1.0</td>\n",
              "      <td>0.0</td>\n",
              "      <td>0.0</td>\n",
              "      <td>0.0</td>\n",
              "      <td>0.0</td>\n",
              "    </tr>\n",
              "    <tr>\n",
              "      <th>2</th>\n",
              "      <td>0.0</td>\n",
              "      <td>0.0</td>\n",
              "      <td>1.0</td>\n",
              "      <td>0.0</td>\n",
              "      <td>0.0</td>\n",
              "      <td>2.0</td>\n",
              "      <td>0.0</td>\n",
              "      <td>0.0</td>\n",
              "      <td>0.0</td>\n",
              "      <td>0.0</td>\n",
              "      <td>0.0</td>\n",
              "      <td>1.0</td>\n",
              "      <td>0.0</td>\n",
              "    </tr>\n",
              "    <tr>\n",
              "      <th>3</th>\n",
              "      <td>0.0</td>\n",
              "      <td>0.0</td>\n",
              "      <td>1.0</td>\n",
              "      <td>0.0</td>\n",
              "      <td>1.0</td>\n",
              "      <td>1.0</td>\n",
              "      <td>0.0</td>\n",
              "      <td>0.0</td>\n",
              "      <td>0.0</td>\n",
              "      <td>0.0</td>\n",
              "      <td>1.0</td>\n",
              "      <td>0.0</td>\n",
              "      <td>0.0</td>\n",
              "    </tr>\n",
              "    <tr>\n",
              "      <th>4</th>\n",
              "      <td>0.0</td>\n",
              "      <td>1.0</td>\n",
              "      <td>0.0</td>\n",
              "      <td>0.0</td>\n",
              "      <td>0.0</td>\n",
              "      <td>0.0</td>\n",
              "      <td>1.0</td>\n",
              "      <td>0.0</td>\n",
              "      <td>0.0</td>\n",
              "      <td>0.0</td>\n",
              "      <td>2.0</td>\n",
              "      <td>0.0</td>\n",
              "      <td>0.0</td>\n",
              "    </tr>\n",
              "    <tr>\n",
              "      <th>...</th>\n",
              "      <td>...</td>\n",
              "      <td>...</td>\n",
              "      <td>...</td>\n",
              "      <td>...</td>\n",
              "      <td>...</td>\n",
              "      <td>...</td>\n",
              "      <td>...</td>\n",
              "      <td>...</td>\n",
              "      <td>...</td>\n",
              "      <td>...</td>\n",
              "      <td>...</td>\n",
              "      <td>...</td>\n",
              "      <td>...</td>\n",
              "    </tr>\n",
              "    <tr>\n",
              "      <th>46977</th>\n",
              "      <td>0.0</td>\n",
              "      <td>1.0</td>\n",
              "      <td>3.0</td>\n",
              "      <td>0.0</td>\n",
              "      <td>0.0</td>\n",
              "      <td>0.0</td>\n",
              "      <td>0.0</td>\n",
              "      <td>0.0</td>\n",
              "      <td>0.0</td>\n",
              "      <td>0.0</td>\n",
              "      <td>0.0</td>\n",
              "      <td>0.0</td>\n",
              "      <td>0.0</td>\n",
              "    </tr>\n",
              "    <tr>\n",
              "      <th>46978</th>\n",
              "      <td>0.0</td>\n",
              "      <td>1.0</td>\n",
              "      <td>0.0</td>\n",
              "      <td>1.0</td>\n",
              "      <td>0.0</td>\n",
              "      <td>0.0</td>\n",
              "      <td>1.0</td>\n",
              "      <td>0.0</td>\n",
              "      <td>0.0</td>\n",
              "      <td>0.0</td>\n",
              "      <td>0.0</td>\n",
              "      <td>1.0</td>\n",
              "      <td>0.0</td>\n",
              "    </tr>\n",
              "    <tr>\n",
              "      <th>46979</th>\n",
              "      <td>0.0</td>\n",
              "      <td>1.0</td>\n",
              "      <td>0.0</td>\n",
              "      <td>1.0</td>\n",
              "      <td>0.0</td>\n",
              "      <td>0.0</td>\n",
              "      <td>1.0</td>\n",
              "      <td>0.0</td>\n",
              "      <td>0.0</td>\n",
              "      <td>0.0</td>\n",
              "      <td>0.0</td>\n",
              "      <td>1.0</td>\n",
              "      <td>0.0</td>\n",
              "    </tr>\n",
              "    <tr>\n",
              "      <th>46980</th>\n",
              "      <td>0.0</td>\n",
              "      <td>1.0</td>\n",
              "      <td>3.0</td>\n",
              "      <td>0.0</td>\n",
              "      <td>0.0</td>\n",
              "      <td>0.0</td>\n",
              "      <td>0.0</td>\n",
              "      <td>0.0</td>\n",
              "      <td>0.0</td>\n",
              "      <td>0.0</td>\n",
              "      <td>0.0</td>\n",
              "      <td>0.0</td>\n",
              "      <td>0.0</td>\n",
              "    </tr>\n",
              "    <tr>\n",
              "      <th>46981</th>\n",
              "      <td>1.0</td>\n",
              "      <td>0.0</td>\n",
              "      <td>1.0</td>\n",
              "      <td>0.0</td>\n",
              "      <td>0.0</td>\n",
              "      <td>0.0</td>\n",
              "      <td>0.0</td>\n",
              "      <td>0.0</td>\n",
              "      <td>0.0</td>\n",
              "      <td>0.0</td>\n",
              "      <td>0.0</td>\n",
              "      <td>2.0</td>\n",
              "      <td>0.0</td>\n",
              "    </tr>\n",
              "  </tbody>\n",
              "</table>\n",
              "<p>46982 rows × 13 columns</p>\n",
              "</div>"
            ],
            "text/plain": [
              "        0    1    2    3    4    5    6    7    8    9    10   11   12\n",
              "0      0.0  1.0  0.0  0.0  0.0  0.0  1.0  0.0  0.0  0.0  2.0  0.0  0.0\n",
              "1      0.0  0.0  2.0  1.0  0.0  0.0  0.0  0.0  1.0  0.0  0.0  0.0  0.0\n",
              "2      0.0  0.0  1.0  0.0  0.0  2.0  0.0  0.0  0.0  0.0  0.0  1.0  0.0\n",
              "3      0.0  0.0  1.0  0.0  1.0  1.0  0.0  0.0  0.0  0.0  1.0  0.0  0.0\n",
              "4      0.0  1.0  0.0  0.0  0.0  0.0  1.0  0.0  0.0  0.0  2.0  0.0  0.0\n",
              "...    ...  ...  ...  ...  ...  ...  ...  ...  ...  ...  ...  ...  ...\n",
              "46977  0.0  1.0  3.0  0.0  0.0  0.0  0.0  0.0  0.0  0.0  0.0  0.0  0.0\n",
              "46978  0.0  1.0  0.0  1.0  0.0  0.0  1.0  0.0  0.0  0.0  0.0  1.0  0.0\n",
              "46979  0.0  1.0  0.0  1.0  0.0  0.0  1.0  0.0  0.0  0.0  0.0  1.0  0.0\n",
              "46980  0.0  1.0  3.0  0.0  0.0  0.0  0.0  0.0  0.0  0.0  0.0  0.0  0.0\n",
              "46981  1.0  0.0  1.0  0.0  0.0  0.0  0.0  0.0  0.0  0.0  0.0  2.0  0.0\n",
              "\n",
              "[46982 rows x 13 columns]"
            ]
          },
          "execution_count": 16,
          "metadata": {},
          "output_type": "execute_result"
        }
      ],
      "source": [
        "#fit data and make dataframe\n",
        "mediuseprep = preprocessor.fit_transform(mediuseclean_df)\n",
        "mediuseprep = pd.DataFrame(preprocessor.fit_transform(mediuseclean_df))\n",
        "\n",
        "#confirm data is imbalanced\n",
        "mediuseprep[12].value_counts()\n",
        "num = {'Yes': 1.0, 'No': 0.0}\n",
        "mediuseprep[12] = mediuseprep[12].replace(num)\n",
        "\n",
        "mediuseprep"
      ]
    },
    {
      "cell_type": "code",
      "execution_count": 17,
      "id": "95AeYmKpBvK4",
      "metadata": {
        "colab": {
          "base_uri": "https://localhost:8080/"
        },
        "id": "95AeYmKpBvK4",
        "outputId": "20e0318f-f988-4895-ccbf-7abd491bae9c"
      },
      "outputs": [
        {
          "data": {
            "text/plain": [
              "12\n",
              "0.0    45922\n",
              "1.0     1060\n",
              "Name: count, dtype: int64"
            ]
          },
          "execution_count": 17,
          "metadata": {},
          "output_type": "execute_result"
        }
      ],
      "source": [
        "mediuseprep[12].value_counts()"
      ]
    },
    {
      "cell_type": "markdown",
      "id": "4tx01ruCUrE-",
      "metadata": {
        "id": "4tx01ruCUrE-"
      },
      "source": [
        "## Model Training and Evaluation"
      ]
    },
    {
      "cell_type": "markdown",
      "id": "MAUhhMe_U7gz",
      "metadata": {
        "id": "MAUhhMe_U7gz"
      },
      "source": [
        "The dataset is imbalanced so we need to resample it"
      ]
    },
    {
      "cell_type": "code",
      "execution_count": 18,
      "id": "kHLBwf2Crs4u",
      "metadata": {
        "colab": {
          "base_uri": "https://localhost:8080/"
        },
        "id": "kHLBwf2Crs4u",
        "outputId": "ec81d3b2-f412-47e2-fe49-7131e4562bab"
      },
      "outputs": [
        {
          "data": {
            "text/plain": [
              "12\n",
              "0.0    45922\n",
              "1.0    45922\n",
              "Name: count, dtype: int64"
            ]
          },
          "execution_count": 18,
          "metadata": {},
          "output_type": "execute_result"
        }
      ],
      "source": [
        "#Resample package\n",
        "from sklearn.utils import resample\n",
        "\n",
        "#define majority and minority\n",
        "majority = mediuseprep[mediuseprep[12] == 0.0]\n",
        "minority = mediuseprep[mediuseprep[12] == 1.0]\n",
        "\n",
        "# Upsample the minority class and join it to majority class\n",
        "minority_upsampled  = resample(minority, replace=True, n_samples=len(majority))\n",
        "balanced_mediuse = pd.concat([majority, minority_upsampled])\n",
        "\n",
        "#confirm dataframe is not imbalanced\n",
        "balanced_mediuse[12].value_counts()"
      ]
    },
    {
      "cell_type": "markdown",
      "id": "BTS2JLAiVHsO",
      "metadata": {
        "id": "BTS2JLAiVHsO"
      },
      "source": [
        "### Create Train and Test Data"
      ]
    },
    {
      "cell_type": "code",
      "execution_count": 19,
      "id": "pT9HbBNNUpSD",
      "metadata": {
        "id": "pT9HbBNNUpSD"
      },
      "outputs": [],
      "source": [
        "#create testing and training sets\n",
        "from sklearn.model_selection import train_test_split\n",
        "\n",
        "X = balanced_mediuse.drop([12], axis=1)\n",
        "y = balanced_mediuse[12]\n",
        "\n",
        "#split 80/20\n",
        "X_train, X_test, y_train, y_test = train_test_split(X, y, test_size=0.2, random_state=42)\n",
        "\n"
      ]
    },
    {
      "cell_type": "markdown",
      "id": "mfCFUFA8VUYt",
      "metadata": {
        "id": "mfCFUFA8VUYt"
      },
      "source": [
        "### Model 1: Logistic Regression"
      ]
    },
    {
      "cell_type": "code",
      "execution_count": 20,
      "id": "fd606efe",
      "metadata": {
        "colab": {
          "base_uri": "https://localhost:8080/"
        },
        "id": "fd606efe",
        "outputId": "1637e1b3-215a-4623-ea61-b2b3735bbf58"
      },
      "outputs": [
        {
          "name": "stdout",
          "output_type": "stream",
          "text": [
            "              precision    recall  f1-score   support\n",
            "\n",
            "         0.0       0.86      0.91      0.88      9156\n",
            "         1.0       0.90      0.86      0.88      9213\n",
            "\n",
            "    accuracy                           0.88     18369\n",
            "   macro avg       0.88      0.88      0.88     18369\n",
            "weighted avg       0.88      0.88      0.88     18369\n",
            "\n"
          ]
        }
      ],
      "source": [
        "#package to create classification table and confusion matrix\n",
        "from sklearn.metrics import accuracy_score, confusion_matrix, classification_report\n",
        "\n",
        "#Create model 1: Logistic Regression\n",
        "from sklearn.linear_model import LogisticRegression\n",
        "LR_model = LogisticRegression(class_weight=\"balanced\")\n",
        "LR_model.fit(X_train, y_train)\n",
        "y_predict_LR = LR_model.predict(X_test)\n",
        "\n",
        "\n",
        "#print report\n",
        "print (classification_report(y_test, y_predict_LR))"
      ]
    },
    {
      "cell_type": "markdown",
      "id": "S16-68ilVZnM",
      "metadata": {
        "id": "S16-68ilVZnM"
      },
      "source": [
        "### Model 2: Decision Tree"
      ]
    },
    {
      "cell_type": "code",
      "execution_count": 21,
      "id": "X8QPROjo3O0-",
      "metadata": {
        "colab": {
          "base_uri": "https://localhost:8080/"
        },
        "id": "X8QPROjo3O0-",
        "outputId": "ee678b71-5675-40c3-e7c5-e2a66ff45db9"
      },
      "outputs": [
        {
          "name": "stdout",
          "output_type": "stream",
          "text": [
            "              precision    recall  f1-score   support\n",
            "\n",
            "         0.0       0.89      0.90      0.89      9156\n",
            "         1.0       0.90      0.88      0.89      9213\n",
            "\n",
            "    accuracy                           0.89     18369\n",
            "   macro avg       0.89      0.89      0.89     18369\n",
            "weighted avg       0.89      0.89      0.89     18369\n",
            "\n"
          ]
        }
      ],
      "source": [
        "#create model 2: Decision Tree\n",
        "from sklearn.tree import DecisionTreeClassifier\n",
        "\n",
        "DT_model = DecisionTreeClassifier(max_depth=5, class_weight='balanced')\n",
        "DT_model.fit(X_train, y_train)\n",
        "y_predict_DT = DT_model.predict(X_test)\n",
        "\n",
        "#print report\n",
        "print(classification_report(y_test, y_predict_DT))"
      ]
    },
    {
      "cell_type": "markdown",
      "id": "Cnas8uP2Vepa",
      "metadata": {
        "id": "Cnas8uP2Vepa"
      },
      "source": [
        "### Model 3: Random Forest"
      ]
    },
    {
      "cell_type": "code",
      "execution_count": 22,
      "id": "G08GTYg-wyNS",
      "metadata": {
        "colab": {
          "base_uri": "https://localhost:8080/"
        },
        "id": "G08GTYg-wyNS",
        "outputId": "a7706581-ae00-4311-f6ed-063d190f4e0d"
      },
      "outputs": [
        {
          "name": "stdout",
          "output_type": "stream",
          "text": [
            "              precision    recall  f1-score   support\n",
            "\n",
            "         0.0       0.91      0.91      0.91      9156\n",
            "         1.0       0.91      0.91      0.91      9213\n",
            "\n",
            "    accuracy                           0.91     18369\n",
            "   macro avg       0.91      0.91      0.91     18369\n",
            "weighted avg       0.91      0.91      0.91     18369\n",
            "\n"
          ]
        }
      ],
      "source": [
        "#create model 3: Random Forest\n",
        "from sklearn.ensemble import RandomForestClassifier\n",
        "RF_model = RandomForestClassifier(max_depth=5, class_weight='balanced')\n",
        "RF_model.fit(X_train, y_train)\n",
        "y_predict_RF = RF_model.predict(X_test)\n",
        "\n",
        "#print report\n",
        "print (classification_report(y_test, y_predict_RF))"
      ]
    },
    {
      "cell_type": "markdown",
      "id": "9880ba24",
      "metadata": {},
      "source": [
        "### Model 4: Naive Bayes"
      ]
    },
    {
      "cell_type": "code",
      "execution_count": 23,
      "id": "PzBFM4CYHHb6",
      "metadata": {
        "colab": {
          "base_uri": "https://localhost:8080/"
        },
        "id": "PzBFM4CYHHb6",
        "outputId": "2e29ba36-e657-4600-fde3-3ce5519cbe5d"
      },
      "outputs": [
        {
          "name": "stdout",
          "output_type": "stream",
          "text": [
            "              precision    recall  f1-score   support\n",
            "\n",
            "         0.0       0.76      0.90      0.82      9156\n",
            "         1.0       0.88      0.71      0.79      9213\n",
            "\n",
            "    accuracy                           0.81     18369\n",
            "   macro avg       0.82      0.81      0.80     18369\n",
            "weighted avg       0.82      0.81      0.80     18369\n",
            "\n"
          ]
        }
      ],
      "source": [
        "#create model 4: Naive Bayes\n",
        "from sklearn.naive_bayes import CategoricalNB\n",
        "CNB_model = CategoricalNB()\n",
        "CNB_model.fit(X_train, y_train)\n",
        "y_predict_CNB = CNB_model.predict(X_test)\n",
        "\n",
        "#print report\n",
        "print (classification_report(y_test, y_predict_CNB))\n"
      ]
    },
    {
      "cell_type": "markdown",
      "id": "d009e56f",
      "metadata": {},
      "source": [
        "### Model 5: KNN"
      ]
    },
    {
      "cell_type": "code",
      "execution_count": 24,
      "id": "DPEmdzNAHUtl",
      "metadata": {
        "colab": {
          "base_uri": "https://localhost:8080/"
        },
        "id": "DPEmdzNAHUtl",
        "outputId": "973b5511-4281-4be5-be8e-fced1d637aa1"
      },
      "outputs": [
        {
          "name": "stdout",
          "output_type": "stream",
          "text": [
            "              precision    recall  f1-score   support\n",
            "\n",
            "         0.0       0.92      0.96      0.94      9156\n",
            "         1.0       0.96      0.92      0.94      9213\n",
            "\n",
            "    accuracy                           0.94     18369\n",
            "   macro avg       0.94      0.94      0.94     18369\n",
            "weighted avg       0.94      0.94      0.94     18369\n",
            "\n"
          ]
        }
      ],
      "source": [
        "#create model 5: KNN\n",
        "from sklearn.neighbors import KNeighborsClassifier\n",
        "KNN_model = KNeighborsClassifier()\n",
        "KNN_model.fit(X_train, y_train)\n",
        "y_predict_KNN = KNN_model.predict(X_test)\n",
        "\n",
        "#print report\n",
        "print (classification_report(y_test, y_predict_KNN))"
      ]
    },
    {
      "cell_type": "markdown",
      "id": "0af73f83",
      "metadata": {},
      "source": [
        "### Cross Validation of all Models"
      ]
    },
    {
      "cell_type": "code",
      "execution_count": 25,
      "id": "oIwV2ZF55XzR",
      "metadata": {
        "id": "oIwV2ZF55XzR"
      },
      "outputs": [],
      "source": [
        "#cross validate all models\n",
        "from sklearn.model_selection import cross_validate\n",
        "\n",
        "cvLR = cross_validate(LR_model, X_train, y_train, cv = 5)\n",
        "cvDT = cross_validate(DT_model, X_train, y_train, cv = 5)\n",
        "cvRF = cross_validate(RF_model, X_train, y_train, cv = 5)\n",
        "cvCNB = cross_validate(CNB_model, X_train, y_train, cv = 5)\n",
        "cvKNN = cross_validate(KNN_model, X_train, y_train, cv = 5)\n"
      ]
    },
    {
      "cell_type": "code",
      "execution_count": 26,
      "id": "CISlTmkX5jf6",
      "metadata": {
        "colab": {
          "base_uri": "https://localhost:8080/"
        },
        "id": "CISlTmkX5jf6",
        "outputId": "eb3c5cfa-2e5a-47dd-aa70-2c3ef4ad31aa"
      },
      "outputs": [
        {
          "name": "stdout",
          "output_type": "stream",
          "text": [
            "Cross-Validation Mean Accuracy of Logistic Regression Model: 0.886097312010888\n",
            "Cross-Validation Mean Accuracy of Decision Tree Model: 0.893623681524328\n",
            "Cross-Validation Mean Accuracy: of Random Forest Model:0.9143654304185098\n",
            "Cross-Validation Mean Accuracy of Naive Bayes Model: 0.8166995576726777\n",
            "Cross-Validation Mean Accuracy of KNN Model: 0.9412181013950323\n"
          ]
        }
      ],
      "source": [
        "#calculate mean of accuracy scores and print it\n",
        "meanLR = cvLR['test_score'].mean()\n",
        "meanDT = cvDT['test_score'].mean()\n",
        "meanRF = cvRF['test_score'].mean()\n",
        "meanCNB = cvCNB['test_score'].mean()\n",
        "meanKNN = cvKNN['test_score'].mean()\n",
        "\n",
        "print(f'Cross-Validation Mean Accuracy of Logistic Regression Model: ' + str(meanLR))\n",
        "print(f'Cross-Validation Mean Accuracy of Decision Tree Model: ' + str(meanDT))\n",
        "print(f'Cross-Validation Mean Accuracy: of Random Forest Model:' + str(meanRF))\n",
        "print(f'Cross-Validation Mean Accuracy of Naive Bayes Model: ' + str(meanCNB))\n",
        "print(f'Cross-Validation Mean Accuracy of KNN Model: ' + str(meanKNN))"
      ]
    },
    {
      "cell_type": "markdown",
      "id": "cR_BZ3tThwvr",
      "metadata": {
        "id": "cR_BZ3tThwvr"
      },
      "source": [
        "### Hyperparameter Tuning"
      ]
    },
    {
      "cell_type": "code",
      "execution_count": 27,
      "id": "Aw_bgTrchZrH",
      "metadata": {
        "colab": {
          "base_uri": "https://localhost:8080/"
        },
        "id": "Aw_bgTrchZrH",
        "outputId": "b01aa1a6-27c9-4003-80d2-c8f34a265c3b"
      },
      "outputs": [
        {
          "data": {
            "text/plain": [
              "0.8815395503293593"
            ]
          },
          "execution_count": 27,
          "metadata": {},
          "output_type": "execute_result"
        }
      ],
      "source": [
        "from sklearn.model_selection import RandomizedSearchCV\n",
        "from scipy.stats import uniform\n",
        "\n",
        "hyperparameters_LR = dict(C=np.linspace(0.1, 2.0, 2),\n",
        "                       solver=['newton-cholesky', 'sag', 'saga'])\n",
        "LR_model_hp = RandomizedSearchCV(LR_model, hyperparameters_LR)\n",
        "LR_model_hp.fit(X_train, y_train)\n",
        "bestLR_model = LR_model_hp.best_estimator_\n",
        "bestLR_model.score(X_test, y_test)"
      ]
    },
    {
      "cell_type": "code",
      "execution_count": 28,
      "id": "BiQklGZLGy_6",
      "metadata": {
        "colab": {
          "base_uri": "https://localhost:8080/",
          "height": 74
        },
        "id": "BiQklGZLGy_6",
        "outputId": "262244a3-8e97-4b3f-c797-a3b623f769fd"
      },
      "outputs": [
        {
          "data": {
            "text/html": [
              "<style>#sk-container-id-2 {color: black;}#sk-container-id-2 pre{padding: 0;}#sk-container-id-2 div.sk-toggleable {background-color: white;}#sk-container-id-2 label.sk-toggleable__label {cursor: pointer;display: block;width: 100%;margin-bottom: 0;padding: 0.3em;box-sizing: border-box;text-align: center;}#sk-container-id-2 label.sk-toggleable__label-arrow:before {content: \"▸\";float: left;margin-right: 0.25em;color: #696969;}#sk-container-id-2 label.sk-toggleable__label-arrow:hover:before {color: black;}#sk-container-id-2 div.sk-estimator:hover label.sk-toggleable__label-arrow:before {color: black;}#sk-container-id-2 div.sk-toggleable__content {max-height: 0;max-width: 0;overflow: hidden;text-align: left;background-color: #f0f8ff;}#sk-container-id-2 div.sk-toggleable__content pre {margin: 0.2em;color: black;border-radius: 0.25em;background-color: #f0f8ff;}#sk-container-id-2 input.sk-toggleable__control:checked~div.sk-toggleable__content {max-height: 200px;max-width: 100%;overflow: auto;}#sk-container-id-2 input.sk-toggleable__control:checked~label.sk-toggleable__label-arrow:before {content: \"▾\";}#sk-container-id-2 div.sk-estimator input.sk-toggleable__control:checked~label.sk-toggleable__label {background-color: #d4ebff;}#sk-container-id-2 div.sk-label input.sk-toggleable__control:checked~label.sk-toggleable__label {background-color: #d4ebff;}#sk-container-id-2 input.sk-hidden--visually {border: 0;clip: rect(1px 1px 1px 1px);clip: rect(1px, 1px, 1px, 1px);height: 1px;margin: -1px;overflow: hidden;padding: 0;position: absolute;width: 1px;}#sk-container-id-2 div.sk-estimator {font-family: monospace;background-color: #f0f8ff;border: 1px dotted black;border-radius: 0.25em;box-sizing: border-box;margin-bottom: 0.5em;}#sk-container-id-2 div.sk-estimator:hover {background-color: #d4ebff;}#sk-container-id-2 div.sk-parallel-item::after {content: \"\";width: 100%;border-bottom: 1px solid gray;flex-grow: 1;}#sk-container-id-2 div.sk-label:hover label.sk-toggleable__label {background-color: #d4ebff;}#sk-container-id-2 div.sk-serial::before {content: \"\";position: absolute;border-left: 1px solid gray;box-sizing: border-box;top: 0;bottom: 0;left: 50%;z-index: 0;}#sk-container-id-2 div.sk-serial {display: flex;flex-direction: column;align-items: center;background-color: white;padding-right: 0.2em;padding-left: 0.2em;position: relative;}#sk-container-id-2 div.sk-item {position: relative;z-index: 1;}#sk-container-id-2 div.sk-parallel {display: flex;align-items: stretch;justify-content: center;background-color: white;position: relative;}#sk-container-id-2 div.sk-item::before, #sk-container-id-2 div.sk-parallel-item::before {content: \"\";position: absolute;border-left: 1px solid gray;box-sizing: border-box;top: 0;bottom: 0;left: 50%;z-index: -1;}#sk-container-id-2 div.sk-parallel-item {display: flex;flex-direction: column;z-index: 1;position: relative;background-color: white;}#sk-container-id-2 div.sk-parallel-item:first-child::after {align-self: flex-end;width: 50%;}#sk-container-id-2 div.sk-parallel-item:last-child::after {align-self: flex-start;width: 50%;}#sk-container-id-2 div.sk-parallel-item:only-child::after {width: 0;}#sk-container-id-2 div.sk-dashed-wrapped {border: 1px dashed gray;margin: 0 0.4em 0.5em 0.4em;box-sizing: border-box;padding-bottom: 0.4em;background-color: white;}#sk-container-id-2 div.sk-label label {font-family: monospace;font-weight: bold;display: inline-block;line-height: 1.2em;}#sk-container-id-2 div.sk-label-container {text-align: center;}#sk-container-id-2 div.sk-container {/* jupyter's `normalize.less` sets `[hidden] { display: none; }` but bootstrap.min.css set `[hidden] { display: none !important; }` so we also need the `!important` here to be able to override the default hidden behavior on the sphinx rendered scikit-learn.org. See: https://github.com/scikit-learn/scikit-learn/issues/21755 */display: inline-block !important;position: relative;}#sk-container-id-2 div.sk-text-repr-fallback {display: none;}</style><div id=\"sk-container-id-2\" class=\"sk-top-container\"><div class=\"sk-text-repr-fallback\"><pre>LogisticRegression(C=0.1, class_weight=&#x27;balanced&#x27;, solver=&#x27;newton-cholesky&#x27;)</pre><b>In a Jupyter environment, please rerun this cell to show the HTML representation or trust the notebook. <br />On GitHub, the HTML representation is unable to render, please try loading this page with nbviewer.org.</b></div><div class=\"sk-container\" hidden><div class=\"sk-item\"><div class=\"sk-estimator sk-toggleable\"><input class=\"sk-toggleable__control sk-hidden--visually\" id=\"sk-estimator-id-7\" type=\"checkbox\" checked><label for=\"sk-estimator-id-7\" class=\"sk-toggleable__label sk-toggleable__label-arrow\">LogisticRegression</label><div class=\"sk-toggleable__content\"><pre>LogisticRegression(C=0.1, class_weight=&#x27;balanced&#x27;, solver=&#x27;newton-cholesky&#x27;)</pre></div></div></div></div></div>"
            ],
            "text/plain": [
              "LogisticRegression(C=0.1, class_weight='balanced', solver='newton-cholesky')"
            ]
          },
          "execution_count": 28,
          "metadata": {},
          "output_type": "execute_result"
        }
      ],
      "source": [
        "bestLR_model"
      ]
    },
    {
      "cell_type": "code",
      "execution_count": 29,
      "id": "uZK24eoboupf",
      "metadata": {
        "colab": {
          "base_uri": "https://localhost:8080/"
        },
        "id": "uZK24eoboupf",
        "outputId": "75a407d1-656b-4103-9ba8-894573dcff55"
      },
      "outputs": [
        {
          "data": {
            "text/plain": [
              "0.8300397408677663"
            ]
          },
          "execution_count": 29,
          "metadata": {},
          "output_type": "execute_result"
        }
      ],
      "source": [
        "hyperparameters_DT = dict(max_depth=range(1,10),\n",
        "                          min_samples_split=np.linspace(0.1, 2.0, 2),\n",
        "                          min_samples_leaf=np.linspace(0.1, 1.0, 2),\n",
        "                          max_features=range(1,10)\n",
        "                          )\n",
        "DT_model_hp = RandomizedSearchCV(DT_model, hyperparameters_DT)\n",
        "DT_model_hp.fit(X_train, y_train)\n",
        "bestDT_model = DT_model_hp.best_estimator_\n",
        "bestDT_model.score(X_test, y_test)"
      ]
    },
    {
      "cell_type": "code",
      "execution_count": 30,
      "id": "lbsw4hJnG4zm",
      "metadata": {
        "colab": {
          "base_uri": "https://localhost:8080/",
          "height": 92
        },
        "id": "lbsw4hJnG4zm",
        "outputId": "bdb9463d-6d50-4561-ce54-5f647dc4677e"
      },
      "outputs": [
        {
          "data": {
            "text/html": [
              "<style>#sk-container-id-3 {color: black;}#sk-container-id-3 pre{padding: 0;}#sk-container-id-3 div.sk-toggleable {background-color: white;}#sk-container-id-3 label.sk-toggleable__label {cursor: pointer;display: block;width: 100%;margin-bottom: 0;padding: 0.3em;box-sizing: border-box;text-align: center;}#sk-container-id-3 label.sk-toggleable__label-arrow:before {content: \"▸\";float: left;margin-right: 0.25em;color: #696969;}#sk-container-id-3 label.sk-toggleable__label-arrow:hover:before {color: black;}#sk-container-id-3 div.sk-estimator:hover label.sk-toggleable__label-arrow:before {color: black;}#sk-container-id-3 div.sk-toggleable__content {max-height: 0;max-width: 0;overflow: hidden;text-align: left;background-color: #f0f8ff;}#sk-container-id-3 div.sk-toggleable__content pre {margin: 0.2em;color: black;border-radius: 0.25em;background-color: #f0f8ff;}#sk-container-id-3 input.sk-toggleable__control:checked~div.sk-toggleable__content {max-height: 200px;max-width: 100%;overflow: auto;}#sk-container-id-3 input.sk-toggleable__control:checked~label.sk-toggleable__label-arrow:before {content: \"▾\";}#sk-container-id-3 div.sk-estimator input.sk-toggleable__control:checked~label.sk-toggleable__label {background-color: #d4ebff;}#sk-container-id-3 div.sk-label input.sk-toggleable__control:checked~label.sk-toggleable__label {background-color: #d4ebff;}#sk-container-id-3 input.sk-hidden--visually {border: 0;clip: rect(1px 1px 1px 1px);clip: rect(1px, 1px, 1px, 1px);height: 1px;margin: -1px;overflow: hidden;padding: 0;position: absolute;width: 1px;}#sk-container-id-3 div.sk-estimator {font-family: monospace;background-color: #f0f8ff;border: 1px dotted black;border-radius: 0.25em;box-sizing: border-box;margin-bottom: 0.5em;}#sk-container-id-3 div.sk-estimator:hover {background-color: #d4ebff;}#sk-container-id-3 div.sk-parallel-item::after {content: \"\";width: 100%;border-bottom: 1px solid gray;flex-grow: 1;}#sk-container-id-3 div.sk-label:hover label.sk-toggleable__label {background-color: #d4ebff;}#sk-container-id-3 div.sk-serial::before {content: \"\";position: absolute;border-left: 1px solid gray;box-sizing: border-box;top: 0;bottom: 0;left: 50%;z-index: 0;}#sk-container-id-3 div.sk-serial {display: flex;flex-direction: column;align-items: center;background-color: white;padding-right: 0.2em;padding-left: 0.2em;position: relative;}#sk-container-id-3 div.sk-item {position: relative;z-index: 1;}#sk-container-id-3 div.sk-parallel {display: flex;align-items: stretch;justify-content: center;background-color: white;position: relative;}#sk-container-id-3 div.sk-item::before, #sk-container-id-3 div.sk-parallel-item::before {content: \"\";position: absolute;border-left: 1px solid gray;box-sizing: border-box;top: 0;bottom: 0;left: 50%;z-index: -1;}#sk-container-id-3 div.sk-parallel-item {display: flex;flex-direction: column;z-index: 1;position: relative;background-color: white;}#sk-container-id-3 div.sk-parallel-item:first-child::after {align-self: flex-end;width: 50%;}#sk-container-id-3 div.sk-parallel-item:last-child::after {align-self: flex-start;width: 50%;}#sk-container-id-3 div.sk-parallel-item:only-child::after {width: 0;}#sk-container-id-3 div.sk-dashed-wrapped {border: 1px dashed gray;margin: 0 0.4em 0.5em 0.4em;box-sizing: border-box;padding-bottom: 0.4em;background-color: white;}#sk-container-id-3 div.sk-label label {font-family: monospace;font-weight: bold;display: inline-block;line-height: 1.2em;}#sk-container-id-3 div.sk-label-container {text-align: center;}#sk-container-id-3 div.sk-container {/* jupyter's `normalize.less` sets `[hidden] { display: none; }` but bootstrap.min.css set `[hidden] { display: none !important; }` so we also need the `!important` here to be able to override the default hidden behavior on the sphinx rendered scikit-learn.org. See: https://github.com/scikit-learn/scikit-learn/issues/21755 */display: inline-block !important;position: relative;}#sk-container-id-3 div.sk-text-repr-fallback {display: none;}</style><div id=\"sk-container-id-3\" class=\"sk-top-container\"><div class=\"sk-text-repr-fallback\"><pre>DecisionTreeClassifier(class_weight=&#x27;balanced&#x27;, max_depth=3, max_features=7,\n",
              "                       min_samples_leaf=0.1, min_samples_split=0.1)</pre><b>In a Jupyter environment, please rerun this cell to show the HTML representation or trust the notebook. <br />On GitHub, the HTML representation is unable to render, please try loading this page with nbviewer.org.</b></div><div class=\"sk-container\" hidden><div class=\"sk-item\"><div class=\"sk-estimator sk-toggleable\"><input class=\"sk-toggleable__control sk-hidden--visually\" id=\"sk-estimator-id-8\" type=\"checkbox\" checked><label for=\"sk-estimator-id-8\" class=\"sk-toggleable__label sk-toggleable__label-arrow\">DecisionTreeClassifier</label><div class=\"sk-toggleable__content\"><pre>DecisionTreeClassifier(class_weight=&#x27;balanced&#x27;, max_depth=3, max_features=7,\n",
              "                       min_samples_leaf=0.1, min_samples_split=0.1)</pre></div></div></div></div></div>"
            ],
            "text/plain": [
              "DecisionTreeClassifier(class_weight='balanced', max_depth=3, max_features=7,\n",
              "                       min_samples_leaf=0.1, min_samples_split=0.1)"
            ]
          },
          "execution_count": 30,
          "metadata": {},
          "output_type": "execute_result"
        }
      ],
      "source": [
        "bestDT_model"
      ]
    },
    {
      "cell_type": "code",
      "execution_count": 31,
      "id": "pRtxDRU0sh-I",
      "metadata": {
        "colab": {
          "base_uri": "https://localhost:8080/"
        },
        "id": "pRtxDRU0sh-I",
        "outputId": "97e4a9ed-c2ed-4bb0-faa3-40b528c49e53"
      },
      "outputs": [
        {
          "data": {
            "text/plain": [
              "0.8261745331809026"
            ]
          },
          "execution_count": 31,
          "metadata": {},
          "output_type": "execute_result"
        }
      ],
      "source": [
        "hyperparameters_RF = dict(max_depth=range(1,10),\n",
        "                          min_samples_split=np.linspace(0.1, 2.0, 2),\n",
        "                          min_samples_leaf=np.linspace(0.1, 1.0, 2),\n",
        "                          )\n",
        "RF_model_hp = RandomizedSearchCV(RF_model, hyperparameters_RF)\n",
        "RF_model_hp.fit(X_train, y_train)\n",
        "bestRF_model = RF_model_hp.best_estimator_\n",
        "bestRF_model.score(X_test, y_test)"
      ]
    },
    {
      "cell_type": "code",
      "execution_count": 32,
      "id": "jbL47sEHG_A8",
      "metadata": {
        "colab": {
          "base_uri": "https://localhost:8080/",
          "height": 92
        },
        "id": "jbL47sEHG_A8",
        "outputId": "e90b8067-b374-42a3-c78e-5a5f197e3a07"
      },
      "outputs": [
        {
          "data": {
            "text/html": [
              "<style>#sk-container-id-4 {color: black;}#sk-container-id-4 pre{padding: 0;}#sk-container-id-4 div.sk-toggleable {background-color: white;}#sk-container-id-4 label.sk-toggleable__label {cursor: pointer;display: block;width: 100%;margin-bottom: 0;padding: 0.3em;box-sizing: border-box;text-align: center;}#sk-container-id-4 label.sk-toggleable__label-arrow:before {content: \"▸\";float: left;margin-right: 0.25em;color: #696969;}#sk-container-id-4 label.sk-toggleable__label-arrow:hover:before {color: black;}#sk-container-id-4 div.sk-estimator:hover label.sk-toggleable__label-arrow:before {color: black;}#sk-container-id-4 div.sk-toggleable__content {max-height: 0;max-width: 0;overflow: hidden;text-align: left;background-color: #f0f8ff;}#sk-container-id-4 div.sk-toggleable__content pre {margin: 0.2em;color: black;border-radius: 0.25em;background-color: #f0f8ff;}#sk-container-id-4 input.sk-toggleable__control:checked~div.sk-toggleable__content {max-height: 200px;max-width: 100%;overflow: auto;}#sk-container-id-4 input.sk-toggleable__control:checked~label.sk-toggleable__label-arrow:before {content: \"▾\";}#sk-container-id-4 div.sk-estimator input.sk-toggleable__control:checked~label.sk-toggleable__label {background-color: #d4ebff;}#sk-container-id-4 div.sk-label input.sk-toggleable__control:checked~label.sk-toggleable__label {background-color: #d4ebff;}#sk-container-id-4 input.sk-hidden--visually {border: 0;clip: rect(1px 1px 1px 1px);clip: rect(1px, 1px, 1px, 1px);height: 1px;margin: -1px;overflow: hidden;padding: 0;position: absolute;width: 1px;}#sk-container-id-4 div.sk-estimator {font-family: monospace;background-color: #f0f8ff;border: 1px dotted black;border-radius: 0.25em;box-sizing: border-box;margin-bottom: 0.5em;}#sk-container-id-4 div.sk-estimator:hover {background-color: #d4ebff;}#sk-container-id-4 div.sk-parallel-item::after {content: \"\";width: 100%;border-bottom: 1px solid gray;flex-grow: 1;}#sk-container-id-4 div.sk-label:hover label.sk-toggleable__label {background-color: #d4ebff;}#sk-container-id-4 div.sk-serial::before {content: \"\";position: absolute;border-left: 1px solid gray;box-sizing: border-box;top: 0;bottom: 0;left: 50%;z-index: 0;}#sk-container-id-4 div.sk-serial {display: flex;flex-direction: column;align-items: center;background-color: white;padding-right: 0.2em;padding-left: 0.2em;position: relative;}#sk-container-id-4 div.sk-item {position: relative;z-index: 1;}#sk-container-id-4 div.sk-parallel {display: flex;align-items: stretch;justify-content: center;background-color: white;position: relative;}#sk-container-id-4 div.sk-item::before, #sk-container-id-4 div.sk-parallel-item::before {content: \"\";position: absolute;border-left: 1px solid gray;box-sizing: border-box;top: 0;bottom: 0;left: 50%;z-index: -1;}#sk-container-id-4 div.sk-parallel-item {display: flex;flex-direction: column;z-index: 1;position: relative;background-color: white;}#sk-container-id-4 div.sk-parallel-item:first-child::after {align-self: flex-end;width: 50%;}#sk-container-id-4 div.sk-parallel-item:last-child::after {align-self: flex-start;width: 50%;}#sk-container-id-4 div.sk-parallel-item:only-child::after {width: 0;}#sk-container-id-4 div.sk-dashed-wrapped {border: 1px dashed gray;margin: 0 0.4em 0.5em 0.4em;box-sizing: border-box;padding-bottom: 0.4em;background-color: white;}#sk-container-id-4 div.sk-label label {font-family: monospace;font-weight: bold;display: inline-block;line-height: 1.2em;}#sk-container-id-4 div.sk-label-container {text-align: center;}#sk-container-id-4 div.sk-container {/* jupyter's `normalize.less` sets `[hidden] { display: none; }` but bootstrap.min.css set `[hidden] { display: none !important; }` so we also need the `!important` here to be able to override the default hidden behavior on the sphinx rendered scikit-learn.org. See: https://github.com/scikit-learn/scikit-learn/issues/21755 */display: inline-block !important;position: relative;}#sk-container-id-4 div.sk-text-repr-fallback {display: none;}</style><div id=\"sk-container-id-4\" class=\"sk-top-container\"><div class=\"sk-text-repr-fallback\"><pre>RandomForestClassifier(class_weight=&#x27;balanced&#x27;, max_depth=8,\n",
              "                       min_samples_leaf=0.1, min_samples_split=0.1)</pre><b>In a Jupyter environment, please rerun this cell to show the HTML representation or trust the notebook. <br />On GitHub, the HTML representation is unable to render, please try loading this page with nbviewer.org.</b></div><div class=\"sk-container\" hidden><div class=\"sk-item\"><div class=\"sk-estimator sk-toggleable\"><input class=\"sk-toggleable__control sk-hidden--visually\" id=\"sk-estimator-id-9\" type=\"checkbox\" checked><label for=\"sk-estimator-id-9\" class=\"sk-toggleable__label sk-toggleable__label-arrow\">RandomForestClassifier</label><div class=\"sk-toggleable__content\"><pre>RandomForestClassifier(class_weight=&#x27;balanced&#x27;, max_depth=8,\n",
              "                       min_samples_leaf=0.1, min_samples_split=0.1)</pre></div></div></div></div></div>"
            ],
            "text/plain": [
              "RandomForestClassifier(class_weight='balanced', max_depth=8,\n",
              "                       min_samples_leaf=0.1, min_samples_split=0.1)"
            ]
          },
          "execution_count": 32,
          "metadata": {},
          "output_type": "execute_result"
        }
      ],
      "source": [
        "bestRF_model\n"
      ]
    },
    {
      "cell_type": "code",
      "execution_count": 33,
      "id": "oL9ZjGJZhEpB",
      "metadata": {
        "colab": {
          "base_uri": "https://localhost:8080/"
        },
        "id": "oL9ZjGJZhEpB",
        "outputId": "56969b46-028b-49be-dabb-895196b66ff0"
      },
      "outputs": [
        {
          "data": {
            "text/plain": [
              "0.8061952202079591"
            ]
          },
          "execution_count": 33,
          "metadata": {},
          "output_type": "execute_result"
        }
      ],
      "source": [
        "hyperparameters_CNB = dict(alpha=np.linspace(0.1, 1.0, 2),\n",
        "                          fit_prior=[True, False]\n",
        "                          )\n",
        "\n",
        "CNB_model_hp = RandomizedSearchCV(CNB_model, hyperparameters_CNB)\n",
        "CNB_model_hp.fit(X_train, y_train)\n",
        "bestCNB_model = CNB_model_hp.best_estimator_\n",
        "bestCNB_model.score(X_test, y_test)"
      ]
    },
    {
      "cell_type": "code",
      "execution_count": 34,
      "id": "z-zp2HQ5hRaV",
      "metadata": {
        "colab": {
          "base_uri": "https://localhost:8080/",
          "height": 74
        },
        "id": "z-zp2HQ5hRaV",
        "outputId": "6d964045-80fc-42bf-b8b7-bca819583058"
      },
      "outputs": [
        {
          "data": {
            "text/html": [
              "<style>#sk-container-id-5 {color: black;}#sk-container-id-5 pre{padding: 0;}#sk-container-id-5 div.sk-toggleable {background-color: white;}#sk-container-id-5 label.sk-toggleable__label {cursor: pointer;display: block;width: 100%;margin-bottom: 0;padding: 0.3em;box-sizing: border-box;text-align: center;}#sk-container-id-5 label.sk-toggleable__label-arrow:before {content: \"▸\";float: left;margin-right: 0.25em;color: #696969;}#sk-container-id-5 label.sk-toggleable__label-arrow:hover:before {color: black;}#sk-container-id-5 div.sk-estimator:hover label.sk-toggleable__label-arrow:before {color: black;}#sk-container-id-5 div.sk-toggleable__content {max-height: 0;max-width: 0;overflow: hidden;text-align: left;background-color: #f0f8ff;}#sk-container-id-5 div.sk-toggleable__content pre {margin: 0.2em;color: black;border-radius: 0.25em;background-color: #f0f8ff;}#sk-container-id-5 input.sk-toggleable__control:checked~div.sk-toggleable__content {max-height: 200px;max-width: 100%;overflow: auto;}#sk-container-id-5 input.sk-toggleable__control:checked~label.sk-toggleable__label-arrow:before {content: \"▾\";}#sk-container-id-5 div.sk-estimator input.sk-toggleable__control:checked~label.sk-toggleable__label {background-color: #d4ebff;}#sk-container-id-5 div.sk-label input.sk-toggleable__control:checked~label.sk-toggleable__label {background-color: #d4ebff;}#sk-container-id-5 input.sk-hidden--visually {border: 0;clip: rect(1px 1px 1px 1px);clip: rect(1px, 1px, 1px, 1px);height: 1px;margin: -1px;overflow: hidden;padding: 0;position: absolute;width: 1px;}#sk-container-id-5 div.sk-estimator {font-family: monospace;background-color: #f0f8ff;border: 1px dotted black;border-radius: 0.25em;box-sizing: border-box;margin-bottom: 0.5em;}#sk-container-id-5 div.sk-estimator:hover {background-color: #d4ebff;}#sk-container-id-5 div.sk-parallel-item::after {content: \"\";width: 100%;border-bottom: 1px solid gray;flex-grow: 1;}#sk-container-id-5 div.sk-label:hover label.sk-toggleable__label {background-color: #d4ebff;}#sk-container-id-5 div.sk-serial::before {content: \"\";position: absolute;border-left: 1px solid gray;box-sizing: border-box;top: 0;bottom: 0;left: 50%;z-index: 0;}#sk-container-id-5 div.sk-serial {display: flex;flex-direction: column;align-items: center;background-color: white;padding-right: 0.2em;padding-left: 0.2em;position: relative;}#sk-container-id-5 div.sk-item {position: relative;z-index: 1;}#sk-container-id-5 div.sk-parallel {display: flex;align-items: stretch;justify-content: center;background-color: white;position: relative;}#sk-container-id-5 div.sk-item::before, #sk-container-id-5 div.sk-parallel-item::before {content: \"\";position: absolute;border-left: 1px solid gray;box-sizing: border-box;top: 0;bottom: 0;left: 50%;z-index: -1;}#sk-container-id-5 div.sk-parallel-item {display: flex;flex-direction: column;z-index: 1;position: relative;background-color: white;}#sk-container-id-5 div.sk-parallel-item:first-child::after {align-self: flex-end;width: 50%;}#sk-container-id-5 div.sk-parallel-item:last-child::after {align-self: flex-start;width: 50%;}#sk-container-id-5 div.sk-parallel-item:only-child::after {width: 0;}#sk-container-id-5 div.sk-dashed-wrapped {border: 1px dashed gray;margin: 0 0.4em 0.5em 0.4em;box-sizing: border-box;padding-bottom: 0.4em;background-color: white;}#sk-container-id-5 div.sk-label label {font-family: monospace;font-weight: bold;display: inline-block;line-height: 1.2em;}#sk-container-id-5 div.sk-label-container {text-align: center;}#sk-container-id-5 div.sk-container {/* jupyter's `normalize.less` sets `[hidden] { display: none; }` but bootstrap.min.css set `[hidden] { display: none !important; }` so we also need the `!important` here to be able to override the default hidden behavior on the sphinx rendered scikit-learn.org. See: https://github.com/scikit-learn/scikit-learn/issues/21755 */display: inline-block !important;position: relative;}#sk-container-id-5 div.sk-text-repr-fallback {display: none;}</style><div id=\"sk-container-id-5\" class=\"sk-top-container\"><div class=\"sk-text-repr-fallback\"><pre>CategoricalNB(alpha=0.1, fit_prior=False)</pre><b>In a Jupyter environment, please rerun this cell to show the HTML representation or trust the notebook. <br />On GitHub, the HTML representation is unable to render, please try loading this page with nbviewer.org.</b></div><div class=\"sk-container\" hidden><div class=\"sk-item\"><div class=\"sk-estimator sk-toggleable\"><input class=\"sk-toggleable__control sk-hidden--visually\" id=\"sk-estimator-id-10\" type=\"checkbox\" checked><label for=\"sk-estimator-id-10\" class=\"sk-toggleable__label sk-toggleable__label-arrow\">CategoricalNB</label><div class=\"sk-toggleable__content\"><pre>CategoricalNB(alpha=0.1, fit_prior=False)</pre></div></div></div></div></div>"
            ],
            "text/plain": [
              "CategoricalNB(alpha=0.1, fit_prior=False)"
            ]
          },
          "execution_count": 34,
          "metadata": {},
          "output_type": "execute_result"
        }
      ],
      "source": [
        "bestCNB_model\n"
      ]
    },
    {
      "cell_type": "code",
      "execution_count": 35,
      "id": "K8AzpeLehUk-",
      "metadata": {
        "id": "K8AzpeLehUk-"
      },
      "outputs": [
        {
          "data": {
            "text/plain": [
              "0.940552016985138"
            ]
          },
          "execution_count": 35,
          "metadata": {},
          "output_type": "execute_result"
        }
      ],
      "source": [
        "hyperparameters_KNN = dict(n_neighbors=np.arange(1, 10),\n",
        "                          p=[1, 2],\n",
        "                          weights=['uniform', 'distance'])\n",
        "\n",
        "KNN_model_hp = RandomizedSearchCV(KNN_model, hyperparameters_KNN)\n",
        "KNN_model_hp.fit(X_train, y_train)\n",
        "bestKNN_model = KNN_model_hp.best_estimator_\n",
        "bestKNN_model.score(X_test, y_test)"
      ]
    },
    {
      "cell_type": "code",
      "execution_count": 36,
      "id": "ylfzQDzIhaEr",
      "metadata": {
        "id": "ylfzQDzIhaEr"
      },
      "outputs": [
        {
          "data": {
            "text/html": [
              "<style>#sk-container-id-6 {color: black;}#sk-container-id-6 pre{padding: 0;}#sk-container-id-6 div.sk-toggleable {background-color: white;}#sk-container-id-6 label.sk-toggleable__label {cursor: pointer;display: block;width: 100%;margin-bottom: 0;padding: 0.3em;box-sizing: border-box;text-align: center;}#sk-container-id-6 label.sk-toggleable__label-arrow:before {content: \"▸\";float: left;margin-right: 0.25em;color: #696969;}#sk-container-id-6 label.sk-toggleable__label-arrow:hover:before {color: black;}#sk-container-id-6 div.sk-estimator:hover label.sk-toggleable__label-arrow:before {color: black;}#sk-container-id-6 div.sk-toggleable__content {max-height: 0;max-width: 0;overflow: hidden;text-align: left;background-color: #f0f8ff;}#sk-container-id-6 div.sk-toggleable__content pre {margin: 0.2em;color: black;border-radius: 0.25em;background-color: #f0f8ff;}#sk-container-id-6 input.sk-toggleable__control:checked~div.sk-toggleable__content {max-height: 200px;max-width: 100%;overflow: auto;}#sk-container-id-6 input.sk-toggleable__control:checked~label.sk-toggleable__label-arrow:before {content: \"▾\";}#sk-container-id-6 div.sk-estimator input.sk-toggleable__control:checked~label.sk-toggleable__label {background-color: #d4ebff;}#sk-container-id-6 div.sk-label input.sk-toggleable__control:checked~label.sk-toggleable__label {background-color: #d4ebff;}#sk-container-id-6 input.sk-hidden--visually {border: 0;clip: rect(1px 1px 1px 1px);clip: rect(1px, 1px, 1px, 1px);height: 1px;margin: -1px;overflow: hidden;padding: 0;position: absolute;width: 1px;}#sk-container-id-6 div.sk-estimator {font-family: monospace;background-color: #f0f8ff;border: 1px dotted black;border-radius: 0.25em;box-sizing: border-box;margin-bottom: 0.5em;}#sk-container-id-6 div.sk-estimator:hover {background-color: #d4ebff;}#sk-container-id-6 div.sk-parallel-item::after {content: \"\";width: 100%;border-bottom: 1px solid gray;flex-grow: 1;}#sk-container-id-6 div.sk-label:hover label.sk-toggleable__label {background-color: #d4ebff;}#sk-container-id-6 div.sk-serial::before {content: \"\";position: absolute;border-left: 1px solid gray;box-sizing: border-box;top: 0;bottom: 0;left: 50%;z-index: 0;}#sk-container-id-6 div.sk-serial {display: flex;flex-direction: column;align-items: center;background-color: white;padding-right: 0.2em;padding-left: 0.2em;position: relative;}#sk-container-id-6 div.sk-item {position: relative;z-index: 1;}#sk-container-id-6 div.sk-parallel {display: flex;align-items: stretch;justify-content: center;background-color: white;position: relative;}#sk-container-id-6 div.sk-item::before, #sk-container-id-6 div.sk-parallel-item::before {content: \"\";position: absolute;border-left: 1px solid gray;box-sizing: border-box;top: 0;bottom: 0;left: 50%;z-index: -1;}#sk-container-id-6 div.sk-parallel-item {display: flex;flex-direction: column;z-index: 1;position: relative;background-color: white;}#sk-container-id-6 div.sk-parallel-item:first-child::after {align-self: flex-end;width: 50%;}#sk-container-id-6 div.sk-parallel-item:last-child::after {align-self: flex-start;width: 50%;}#sk-container-id-6 div.sk-parallel-item:only-child::after {width: 0;}#sk-container-id-6 div.sk-dashed-wrapped {border: 1px dashed gray;margin: 0 0.4em 0.5em 0.4em;box-sizing: border-box;padding-bottom: 0.4em;background-color: white;}#sk-container-id-6 div.sk-label label {font-family: monospace;font-weight: bold;display: inline-block;line-height: 1.2em;}#sk-container-id-6 div.sk-label-container {text-align: center;}#sk-container-id-6 div.sk-container {/* jupyter's `normalize.less` sets `[hidden] { display: none; }` but bootstrap.min.css set `[hidden] { display: none !important; }` so we also need the `!important` here to be able to override the default hidden behavior on the sphinx rendered scikit-learn.org. See: https://github.com/scikit-learn/scikit-learn/issues/21755 */display: inline-block !important;position: relative;}#sk-container-id-6 div.sk-text-repr-fallback {display: none;}</style><div id=\"sk-container-id-6\" class=\"sk-top-container\"><div class=\"sk-text-repr-fallback\"><pre>KNeighborsClassifier(n_neighbors=6, weights=&#x27;distance&#x27;)</pre><b>In a Jupyter environment, please rerun this cell to show the HTML representation or trust the notebook. <br />On GitHub, the HTML representation is unable to render, please try loading this page with nbviewer.org.</b></div><div class=\"sk-container\" hidden><div class=\"sk-item\"><div class=\"sk-estimator sk-toggleable\"><input class=\"sk-toggleable__control sk-hidden--visually\" id=\"sk-estimator-id-11\" type=\"checkbox\" checked><label for=\"sk-estimator-id-11\" class=\"sk-toggleable__label sk-toggleable__label-arrow\">KNeighborsClassifier</label><div class=\"sk-toggleable__content\"><pre>KNeighborsClassifier(n_neighbors=6, weights=&#x27;distance&#x27;)</pre></div></div></div></div></div>"
            ],
            "text/plain": [
              "KNeighborsClassifier(n_neighbors=6, weights='distance')"
            ]
          },
          "execution_count": 36,
          "metadata": {},
          "output_type": "execute_result"
        }
      ],
      "source": [
        "bestKNN_model\n"
      ]
    },
    {
      "cell_type": "markdown",
      "id": "aa1d8349",
      "metadata": {},
      "source": [
        "### Model Evaluation and Comparison"
      ]
    },
    {
      "cell_type": "markdown",
      "id": "945af94b",
      "metadata": {},
      "source": [
        "We have three metrics to evaluate each class for each model.\n",
        "The precision metric measures how many times a model can make a correct prediction regardless of a positive or negative outcome. It is high for all the models for both classes. Logistic Regression is the highest which means that out of all the models, Logistic Regression has a lesser rate of making a positive prediction when the outcome is negative. From this we can also deduce that the precision metric does not account for the measuring the rate of the models giving a negative prediction when the outcome was a positive one.\n",
        "\n",
        "The Recall metric measures how many times a model can make a correct prediction when there are only positive outcomes. We can see that this is high for all classes with Logistic Regression having a 0.94 recall for class 0. This means that model has a high rate of making positive predictions among all outcomes that are positive. However, it does not deal with positive prediction when the outcome is negative.\n",
        "\n",
        "The F1 metric uses both precision and recall to find their harmonic mean.  Out of all the scores across the metrics, the F1 is the lowest score. This is because the metric helps us maximize precision and recall. Thus, the higher the score, the better the model. We can see that the Logistic Regression model is the highest here.\n",
        "\n",
        "Finally, the accuracy measures how many times a model can make a correct prediction out of the entire dataset. We can see that the scores here are identical to F1. Thus we can conclude that both accuracy and F1 scores are the most helpful when evaluating a model’s performance. \n",
        "\n",
        "After cross validating and fine tuning our models by selecting the right parameters, we can also see how the best version of each classification model scores. Combining everything we see that the KNN model performs the best."
      ]
    },
    {
      "cell_type": "markdown",
      "id": "986c7692",
      "metadata": {},
      "source": [
        "## Best Performance: KNN Model"
      ]
    },
    {
      "cell_type": "code",
      "execution_count": 37,
      "id": "ace8e3bd",
      "metadata": {},
      "outputs": [
        {
          "data": {
            "image/png": "[encoded data removed]",
            "text/plain": [
              "<Figure size 640x480 with 2 Axes>"
            ]
          },
          "metadata": {},
          "output_type": "display_data"
        }
      ],
      "source": [
        "#create confusion matrix\n",
        "KNN_matrix = confusion_matrix(y_test, y_predict_KNN)\n",
        "\n",
        "\n",
        "sns.heatmap(KNN_matrix, annot=True)\n",
        "plt.ylabel('Prediction',fontsize=13)\n",
        "plt.xlabel('Actual',fontsize=13)\n",
        "plt.title('Confusion Matrix',fontsize=17)\n",
        "plt.show()"
      ]
    },
    {
      "cell_type": "code",
      "execution_count": 38,
      "id": "0ef2ca51",
      "metadata": {},
      "outputs": [
        {
          "data": {
            "image/png": "[encoded data removed]",
            "text/plain": [
              "<Figure size 640x480 with 1 Axes>"
            ]
          },
          "metadata": {},
          "output_type": "display_data"
        }
      ],
      "source": [
        "#plot ROC curve\n",
        "from sklearn import metrics\n",
        "\n",
        "y_pred = bestKNN_model.predict_proba(X_test)[::,1]\n",
        "fpr, tpr, _ = metrics.roc_curve(y_test,  y_pred)\n",
        "auc = metrics.roc_auc_score(y_test, y_pred)\n",
        "plt.plot(fpr,tpr,label=\"Model Performance, auc=\"+str(auc))\n",
        "plt.legend(loc=4)\n",
        "plt.xlabel(\"False Positives\")\n",
        "plt.ylabel(\"True Positives\")\n",
        "plt.show()\n",
        "\n",
        "#code reused from https://www.statology.org/plot-roc-curve-python/"
      ]
    },
    {
      "cell_type": "markdown",
      "id": "a5aac41d",
      "metadata": {},
      "source": [
        "## Ensemble Method"
      ]
    },
    {
      "cell_type": "markdown",
      "id": "d40668b2",
      "metadata": {},
      "source": [
        "We can see that all the models we selected have performed relatively well. Out of curiosity, let us see how combining the best versions of all the models into an ensemble will affect performance."
      ]
    },
    {
      "cell_type": "code",
      "execution_count": 52,
      "id": "GXihw5THhchy",
      "metadata": {
        "id": "GXihw5THhchy"
      },
      "outputs": [
        {
          "name": "stdout",
          "output_type": "stream",
          "text": [
            "              precision    recall  f1-score   support\n",
            "\n",
            "         0.0       0.93      0.95      0.94      9156\n",
            "         1.0       0.95      0.92      0.94      9213\n",
            "\n",
            "    accuracy                           0.94     18369\n",
            "   macro avg       0.94      0.94      0.94     18369\n",
            "weighted avg       0.94      0.94      0.94     18369\n",
            "\n"
          ]
        }
      ],
      "source": [
        "from sklearn.ensemble import StackingClassifier\n",
        "\n",
        "estimators = [\n",
        " ('LR', LogisticRegression(C=0.1, class_weight='balanced', solver='newton-cholesky')), \n",
        " ('DT', DecisionTreeClassifier(class_weight='balanced', max_depth=3, max_features=7, min_samples_leaf=0.1, min_samples_split=0.1)), \n",
        " ('RF', RandomForestClassifier(class_weight='balanced', max_depth=8, min_samples_leaf=0.1, min_samples_split=0.1)), \n",
        " ('CNB', CategoricalNB(alpha=0.1, fit_prior=False)), \n",
        " ('KNN', KNeighborsClassifier(n_neighbors=6, weights='distance'))]\n",
        "\n",
        "Stacked_model = StackingClassifier(estimators=estimators)\n",
        "Stacked_model.fit(X_train, y_train)\n",
        "y_predict_model = Stacked_model.predict(X_test)\n",
        "\n",
        "#print report\n",
        "print (classification_report(y_test, y_predict_model))\n",
        "\n"
      ]
    },
    {
      "cell_type": "code",
      "execution_count": 53,
      "id": "189c42b8",
      "metadata": {},
      "outputs": [
        {
          "name": "stdout",
          "output_type": "stream",
          "text": [
            "0.8815395503293593\n",
            "0.894006206108117\n",
            "0.9107735859328216\n",
            "0.8061952202079591\n",
            "0.940552016985138\n",
            "0.9384833142794926\n"
          ]
        }
      ],
      "source": [
        "from sklearn.metrics import accuracy_score\n",
        "\n",
        "for i in [y_predict_LR, y_predict_DT, y_predict_RF, y_predict_CNB, y_predict_KNN, y_predict_model]:\n",
        "    accuracy = accuracy_score(i, y_test)\n",
        "    print(accuracy)\n"
      ]
    },
    {
      "cell_type": "code",
      "execution_count": 55,
      "id": "df5f5c69",
      "metadata": {},
      "outputs": [
        {
          "data": {
            "image/png": "[encoded data removed]",
            "text/plain": [
              "<Figure size 640x480 with 1 Axes>"
            ]
          },
          "metadata": {},
          "output_type": "display_data"
        }
      ],
      "source": [
        "y_pred = Stacked_model.predict_proba(X_test)[::,1]\n",
        "fpr, tpr, _ = metrics.roc_curve(y_test,  y_pred)\n",
        "auc = metrics.roc_auc_score(y_test, y_pred)\n",
        "plt.plot(fpr,tpr,label=\"Model Performance, auc=\"+str(auc))\n",
        "plt.legend(loc=4)\n",
        "plt.xlabel(\"False Positives\")\n",
        "plt.ylabel(\"True Positives\")\n",
        "plt.show()"
      ]
    },
    {
      "cell_type": "markdown",
      "id": "79e9f6d7",
      "metadata": {},
      "source": [
        "It seems the ensemble of models is just a little shy of performing as well as the KNN model. This could have something to do with the hyperparameter tuning and the model selection that went into creating the ensemble."
      ]
    },
    {
      "cell_type": "markdown",
      "id": "_R67721bWIG6",
      "metadata": {
        "id": "_R67721bWIG6"
      },
      "source": [
        "## Limitations and Next Steps"
      ]
    },
    {
      "cell_type": "markdown",
      "id": "iRu5Tp-mWLi5",
      "metadata": {
        "id": "iRu5Tp-mWLi5"
      },
      "source": [
        "As with all datasets, there were several limitations to the model. For example, during the pipeline, I couldn’t directly perform one-hot encoding because of how vast the result would be. Instead, I performed label encoding first and that hinders the integrity of the dataset since the categories are not ordinal. In the future, we could potentially use an encoding method like feature hashing to handle the large amount of data.\n",
        "\n",
        "UPDATE: I removed the label encoding and one hot encoding to attempt to do the feature hashing. There is still a lot more for me to learn about it so that could also potentially improve the model.\n",
        "\n",
        "Another limitation of the dataset is the diverse range of categories in features like “use0” which shows what the medication treats. Some of the categories are separated simply because of the change in string. For example, the two categories “Treatment of Anxiety Disorder” and “Anxiety Disorder” can be one large category for “Anxiety”. To fix this, one would have to go through each value and check them individually. Because of the vastness of data and time constraints, this could not be accomplished.\n",
        "\n",
        "The model mainly used features like the purpose of the drug, its chemical compound, what it treats, and what it does when ingested. Thus we can conclude that these are all very important factors for pharmaceutical companies, researchers, doctors, and patients to consider when making a decision related to medication.\n"
      ]
    }
  ],
  "metadata": {
    "accelerator": "GPU",
    "colab": {
      "gpuType": "L4",
      "machine_shape": "hm",
      "provenance": []
    },
    "kernelspec": {
      "display_name": "Python 3",
      "name": "python3"
    },
    "language_info": {
      "codemirror_mode": {
        "name": "ipython",
        "version": 3
      },
      "file_extension": ".py",
      "mimetype": "text/x-python",
      "name": "python",
      "nbconvert_exporter": "python",
      "pygments_lexer": "ipython3",
      "version": "3.12.3"
    }
  },
  "nbformat": 4,
  "nbformat_minor": 5
}
